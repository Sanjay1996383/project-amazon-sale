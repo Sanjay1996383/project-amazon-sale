{
 "cells": [
  {
   "cell_type": "code",
   "execution_count": 105,
   "metadata": {},
   "outputs": [],
   "source": [
    "import pandas as pd\n",
    "import numpy as np\n",
    "import seaborn as sns"
   ]
  },
  {
   "cell_type": "code",
   "execution_count": 106,
   "metadata": {},
   "outputs": [
    {
     "data": {
      "text/html": [
       "<div>\n",
       "<style scoped>\n",
       "    .dataframe tbody tr th:only-of-type {\n",
       "        vertical-align: middle;\n",
       "    }\n",
       "\n",
       "    .dataframe tbody tr th {\n",
       "        vertical-align: top;\n",
       "    }\n",
       "\n",
       "    .dataframe thead th {\n",
       "        text-align: right;\n",
       "    }\n",
       "</style>\n",
       "<table border=\"1\" class=\"dataframe\">\n",
       "  <thead>\n",
       "    <tr style=\"text-align: right;\">\n",
       "      <th></th>\n",
       "      <th>product_id</th>\n",
       "      <th>product_name</th>\n",
       "      <th>category</th>\n",
       "      <th>discounted_price</th>\n",
       "      <th>actual_price</th>\n",
       "      <th>discount_percentage</th>\n",
       "      <th>rating</th>\n",
       "      <th>rating_count</th>\n",
       "      <th>about_product</th>\n",
       "      <th>user_id</th>\n",
       "      <th>user_name</th>\n",
       "      <th>review_id</th>\n",
       "      <th>review_title</th>\n",
       "      <th>review_content</th>\n",
       "      <th>img_link</th>\n",
       "      <th>product_link</th>\n",
       "    </tr>\n",
       "  </thead>\n",
       "  <tbody>\n",
       "    <tr>\n",
       "      <th>0</th>\n",
       "      <td>B07JW9H4J1</td>\n",
       "      <td>Wayona Nylon Braided USB to Lightning Fast Cha...</td>\n",
       "      <td>Computers&amp;Accessories|Accessories&amp;Peripherals|...</td>\n",
       "      <td>₹399</td>\n",
       "      <td>₹1,099</td>\n",
       "      <td>64%</td>\n",
       "      <td>4.2</td>\n",
       "      <td>24,269</td>\n",
       "      <td>High Compatibility : Compatible With iPhone 12...</td>\n",
       "      <td>AG3D6O4STAQKAY2UVGEUV46KN35Q,AHMY5CWJMMK5BJRBB...</td>\n",
       "      <td>Manav,Adarsh gupta,Sundeep,S.Sayeed Ahmed,jasp...</td>\n",
       "      <td>R3HXWT0LRP0NMF,R2AJM3LFTLZHFO,R6AQJGUP6P86,R1K...</td>\n",
       "      <td>Satisfied,Charging is really fast,Value for mo...</td>\n",
       "      <td>Looks durable Charging is fine tooNo complains...</td>\n",
       "      <td>https://m.media-amazon.com/images/W/WEBP_40237...</td>\n",
       "      <td>https://www.amazon.in/Wayona-Braided-WN3LG1-Sy...</td>\n",
       "    </tr>\n",
       "    <tr>\n",
       "      <th>1</th>\n",
       "      <td>B098NS6PVG</td>\n",
       "      <td>Ambrane Unbreakable 60W / 3A Fast Charging 1.5...</td>\n",
       "      <td>Computers&amp;Accessories|Accessories&amp;Peripherals|...</td>\n",
       "      <td>₹199</td>\n",
       "      <td>₹349</td>\n",
       "      <td>43%</td>\n",
       "      <td>4.0</td>\n",
       "      <td>43,994</td>\n",
       "      <td>Compatible with all Type C enabled devices, be...</td>\n",
       "      <td>AECPFYFQVRUWC3KGNLJIOREFP5LQ,AGYYVPDD7YG7FYNBX...</td>\n",
       "      <td>ArdKn,Nirbhay kumar,Sagar Viswanathan,Asp,Plac...</td>\n",
       "      <td>RGIQEG07R9HS2,R1SMWZQ86XIN8U,R2J3Y1WL29GWDE,RY...</td>\n",
       "      <td>A Good Braided Cable for Your Type C Device,Go...</td>\n",
       "      <td>I ordered this cable to connect my phone to An...</td>\n",
       "      <td>https://m.media-amazon.com/images/W/WEBP_40237...</td>\n",
       "      <td>https://www.amazon.in/Ambrane-Unbreakable-Char...</td>\n",
       "    </tr>\n",
       "    <tr>\n",
       "      <th>2</th>\n",
       "      <td>B096MSW6CT</td>\n",
       "      <td>Sounce Fast Phone Charging Cable &amp; Data Sync U...</td>\n",
       "      <td>Computers&amp;Accessories|Accessories&amp;Peripherals|...</td>\n",
       "      <td>₹199</td>\n",
       "      <td>₹1,899</td>\n",
       "      <td>90%</td>\n",
       "      <td>3.9</td>\n",
       "      <td>7,928</td>\n",
       "      <td>【 Fast Charger&amp; Data Sync】-With built-in safet...</td>\n",
       "      <td>AGU3BBQ2V2DDAMOAKGFAWDDQ6QHA,AESFLDV2PT363T2AQ...</td>\n",
       "      <td>Kunal,Himanshu,viswanath,sai niharka,saqib mal...</td>\n",
       "      <td>R3J3EQQ9TZI5ZJ,R3E7WBGK7ID0KV,RWU79XKQ6I1QF,R2...</td>\n",
       "      <td>Good speed for earlier versions,Good Product,W...</td>\n",
       "      <td>Not quite durable and sturdy,https://m.media-a...</td>\n",
       "      <td>https://m.media-amazon.com/images/W/WEBP_40237...</td>\n",
       "      <td>https://www.amazon.in/Sounce-iPhone-Charging-C...</td>\n",
       "    </tr>\n",
       "    <tr>\n",
       "      <th>3</th>\n",
       "      <td>B08HDJ86NZ</td>\n",
       "      <td>boAt Deuce USB 300 2 in 1 Type-C &amp; Micro USB S...</td>\n",
       "      <td>Computers&amp;Accessories|Accessories&amp;Peripherals|...</td>\n",
       "      <td>₹329</td>\n",
       "      <td>₹699</td>\n",
       "      <td>53%</td>\n",
       "      <td>4.2</td>\n",
       "      <td>94,363</td>\n",
       "      <td>The boAt Deuce USB 300 2 in 1 cable is compati...</td>\n",
       "      <td>AEWAZDZZJLQUYVOVGBEUKSLXHQ5A,AG5HTSFRRE6NL3M5S...</td>\n",
       "      <td>Omkar dhale,JD,HEMALATHA,Ajwadh a.,amar singh ...</td>\n",
       "      <td>R3EEUZKKK9J36I,R3HJVYCLYOY554,REDECAZ7AMPQC,R1...</td>\n",
       "      <td>Good product,Good one,Nice,Really nice product...</td>\n",
       "      <td>Good product,long wire,Charges good,Nice,I bou...</td>\n",
       "      <td>https://m.media-amazon.com/images/I/41V5FtEWPk...</td>\n",
       "      <td>https://www.amazon.in/Deuce-300-Resistant-Tang...</td>\n",
       "    </tr>\n",
       "    <tr>\n",
       "      <th>4</th>\n",
       "      <td>B08CF3B7N1</td>\n",
       "      <td>Portronics Konnect L 1.2M Fast Charging 3A 8 P...</td>\n",
       "      <td>Computers&amp;Accessories|Accessories&amp;Peripherals|...</td>\n",
       "      <td>₹154</td>\n",
       "      <td>₹399</td>\n",
       "      <td>61%</td>\n",
       "      <td>4.2</td>\n",
       "      <td>16,905</td>\n",
       "      <td>[CHARGE &amp; SYNC FUNCTION]- This cable comes wit...</td>\n",
       "      <td>AE3Q6KSUK5P75D5HFYHCRAOLODSA,AFUGIFH5ZAFXRDSZH...</td>\n",
       "      <td>rahuls6099,Swasat Borah,Ajay Wadke,Pranali,RVK...</td>\n",
       "      <td>R1BP4L2HH9TFUP,R16PVJEXKV6QZS,R2UPDB81N66T4P,R...</td>\n",
       "      <td>As good as original,Decent,Good one for second...</td>\n",
       "      <td>Bought this instead of original apple, does th...</td>\n",
       "      <td>https://m.media-amazon.com/images/W/WEBP_40237...</td>\n",
       "      <td>https://www.amazon.in/Portronics-Konnect-POR-1...</td>\n",
       "    </tr>\n",
       "  </tbody>\n",
       "</table>\n",
       "</div>"
      ],
      "text/plain": [
       "   product_id                                       product_name  \\\n",
       "0  B07JW9H4J1  Wayona Nylon Braided USB to Lightning Fast Cha...   \n",
       "1  B098NS6PVG  Ambrane Unbreakable 60W / 3A Fast Charging 1.5...   \n",
       "2  B096MSW6CT  Sounce Fast Phone Charging Cable & Data Sync U...   \n",
       "3  B08HDJ86NZ  boAt Deuce USB 300 2 in 1 Type-C & Micro USB S...   \n",
       "4  B08CF3B7N1  Portronics Konnect L 1.2M Fast Charging 3A 8 P...   \n",
       "\n",
       "                                            category discounted_price  \\\n",
       "0  Computers&Accessories|Accessories&Peripherals|...             ₹399   \n",
       "1  Computers&Accessories|Accessories&Peripherals|...             ₹199   \n",
       "2  Computers&Accessories|Accessories&Peripherals|...             ₹199   \n",
       "3  Computers&Accessories|Accessories&Peripherals|...             ₹329   \n",
       "4  Computers&Accessories|Accessories&Peripherals|...             ₹154   \n",
       "\n",
       "  actual_price discount_percentage rating rating_count  \\\n",
       "0       ₹1,099                 64%    4.2       24,269   \n",
       "1         ₹349                 43%    4.0       43,994   \n",
       "2       ₹1,899                 90%    3.9        7,928   \n",
       "3         ₹699                 53%    4.2       94,363   \n",
       "4         ₹399                 61%    4.2       16,905   \n",
       "\n",
       "                                       about_product  \\\n",
       "0  High Compatibility : Compatible With iPhone 12...   \n",
       "1  Compatible with all Type C enabled devices, be...   \n",
       "2  【 Fast Charger& Data Sync】-With built-in safet...   \n",
       "3  The boAt Deuce USB 300 2 in 1 cable is compati...   \n",
       "4  [CHARGE & SYNC FUNCTION]- This cable comes wit...   \n",
       "\n",
       "                                             user_id  \\\n",
       "0  AG3D6O4STAQKAY2UVGEUV46KN35Q,AHMY5CWJMMK5BJRBB...   \n",
       "1  AECPFYFQVRUWC3KGNLJIOREFP5LQ,AGYYVPDD7YG7FYNBX...   \n",
       "2  AGU3BBQ2V2DDAMOAKGFAWDDQ6QHA,AESFLDV2PT363T2AQ...   \n",
       "3  AEWAZDZZJLQUYVOVGBEUKSLXHQ5A,AG5HTSFRRE6NL3M5S...   \n",
       "4  AE3Q6KSUK5P75D5HFYHCRAOLODSA,AFUGIFH5ZAFXRDSZH...   \n",
       "\n",
       "                                           user_name  \\\n",
       "0  Manav,Adarsh gupta,Sundeep,S.Sayeed Ahmed,jasp...   \n",
       "1  ArdKn,Nirbhay kumar,Sagar Viswanathan,Asp,Plac...   \n",
       "2  Kunal,Himanshu,viswanath,sai niharka,saqib mal...   \n",
       "3  Omkar dhale,JD,HEMALATHA,Ajwadh a.,amar singh ...   \n",
       "4  rahuls6099,Swasat Borah,Ajay Wadke,Pranali,RVK...   \n",
       "\n",
       "                                           review_id  \\\n",
       "0  R3HXWT0LRP0NMF,R2AJM3LFTLZHFO,R6AQJGUP6P86,R1K...   \n",
       "1  RGIQEG07R9HS2,R1SMWZQ86XIN8U,R2J3Y1WL29GWDE,RY...   \n",
       "2  R3J3EQQ9TZI5ZJ,R3E7WBGK7ID0KV,RWU79XKQ6I1QF,R2...   \n",
       "3  R3EEUZKKK9J36I,R3HJVYCLYOY554,REDECAZ7AMPQC,R1...   \n",
       "4  R1BP4L2HH9TFUP,R16PVJEXKV6QZS,R2UPDB81N66T4P,R...   \n",
       "\n",
       "                                        review_title  \\\n",
       "0  Satisfied,Charging is really fast,Value for mo...   \n",
       "1  A Good Braided Cable for Your Type C Device,Go...   \n",
       "2  Good speed for earlier versions,Good Product,W...   \n",
       "3  Good product,Good one,Nice,Really nice product...   \n",
       "4  As good as original,Decent,Good one for second...   \n",
       "\n",
       "                                      review_content  \\\n",
       "0  Looks durable Charging is fine tooNo complains...   \n",
       "1  I ordered this cable to connect my phone to An...   \n",
       "2  Not quite durable and sturdy,https://m.media-a...   \n",
       "3  Good product,long wire,Charges good,Nice,I bou...   \n",
       "4  Bought this instead of original apple, does th...   \n",
       "\n",
       "                                            img_link  \\\n",
       "0  https://m.media-amazon.com/images/W/WEBP_40237...   \n",
       "1  https://m.media-amazon.com/images/W/WEBP_40237...   \n",
       "2  https://m.media-amazon.com/images/W/WEBP_40237...   \n",
       "3  https://m.media-amazon.com/images/I/41V5FtEWPk...   \n",
       "4  https://m.media-amazon.com/images/W/WEBP_40237...   \n",
       "\n",
       "                                        product_link  \n",
       "0  https://www.amazon.in/Wayona-Braided-WN3LG1-Sy...  \n",
       "1  https://www.amazon.in/Ambrane-Unbreakable-Char...  \n",
       "2  https://www.amazon.in/Sounce-iPhone-Charging-C...  \n",
       "3  https://www.amazon.in/Deuce-300-Resistant-Tang...  \n",
       "4  https://www.amazon.in/Portronics-Konnect-POR-1...  "
      ]
     },
     "execution_count": 106,
     "metadata": {},
     "output_type": "execute_result"
    }
   ],
   "source": [
    "df=pd.read_csv('amazon.csv.csv')\n",
    "df.head()\n"
   ]
  },
  {
   "cell_type": "code",
   "execution_count": 107,
   "metadata": {},
   "outputs": [],
   "source": [
    "\n",
    "def clean_rating_count_column(rating):\n",
    "    if isinstance(rating, str):\n",
    "        rating = rating.replace(',', '')\n",
    "        rating = float(rating)\n",
    "        return rating"
   ]
  },
  {
   "cell_type": "code",
   "execution_count": 108,
   "metadata": {},
   "outputs": [
    {
     "data": {
      "text/html": [
       "<div>\n",
       "<style scoped>\n",
       "    .dataframe tbody tr th:only-of-type {\n",
       "        vertical-align: middle;\n",
       "    }\n",
       "\n",
       "    .dataframe tbody tr th {\n",
       "        vertical-align: top;\n",
       "    }\n",
       "\n",
       "    .dataframe thead th {\n",
       "        text-align: right;\n",
       "    }\n",
       "</style>\n",
       "<table border=\"1\" class=\"dataframe\">\n",
       "  <thead>\n",
       "    <tr style=\"text-align: right;\">\n",
       "      <th></th>\n",
       "      <th>product_id</th>\n",
       "      <th>product_name</th>\n",
       "      <th>category</th>\n",
       "      <th>discounted_price</th>\n",
       "      <th>actual_price</th>\n",
       "      <th>discount_percentage</th>\n",
       "      <th>rating</th>\n",
       "      <th>rating_count</th>\n",
       "      <th>about_product</th>\n",
       "      <th>user_id</th>\n",
       "      <th>user_name</th>\n",
       "      <th>review_id</th>\n",
       "      <th>review_title</th>\n",
       "      <th>review_content</th>\n",
       "      <th>img_link</th>\n",
       "      <th>product_link</th>\n",
       "      <th>clean_rating_count</th>\n",
       "    </tr>\n",
       "  </thead>\n",
       "  <tbody>\n",
       "    <tr>\n",
       "      <th>0</th>\n",
       "      <td>B07JW9H4J1</td>\n",
       "      <td>Wayona Nylon Braided USB to Lightning Fast Cha...</td>\n",
       "      <td>Computers&amp;Accessories|Accessories&amp;Peripherals|...</td>\n",
       "      <td>₹399</td>\n",
       "      <td>₹1,099</td>\n",
       "      <td>64%</td>\n",
       "      <td>4.2</td>\n",
       "      <td>24,269</td>\n",
       "      <td>High Compatibility : Compatible With iPhone 12...</td>\n",
       "      <td>AG3D6O4STAQKAY2UVGEUV46KN35Q,AHMY5CWJMMK5BJRBB...</td>\n",
       "      <td>Manav,Adarsh gupta,Sundeep,S.Sayeed Ahmed,jasp...</td>\n",
       "      <td>R3HXWT0LRP0NMF,R2AJM3LFTLZHFO,R6AQJGUP6P86,R1K...</td>\n",
       "      <td>Satisfied,Charging is really fast,Value for mo...</td>\n",
       "      <td>Looks durable Charging is fine tooNo complains...</td>\n",
       "      <td>https://m.media-amazon.com/images/W/WEBP_40237...</td>\n",
       "      <td>https://www.amazon.in/Wayona-Braided-WN3LG1-Sy...</td>\n",
       "      <td>24269.0</td>\n",
       "    </tr>\n",
       "    <tr>\n",
       "      <th>1</th>\n",
       "      <td>B098NS6PVG</td>\n",
       "      <td>Ambrane Unbreakable 60W / 3A Fast Charging 1.5...</td>\n",
       "      <td>Computers&amp;Accessories|Accessories&amp;Peripherals|...</td>\n",
       "      <td>₹199</td>\n",
       "      <td>₹349</td>\n",
       "      <td>43%</td>\n",
       "      <td>4.0</td>\n",
       "      <td>43,994</td>\n",
       "      <td>Compatible with all Type C enabled devices, be...</td>\n",
       "      <td>AECPFYFQVRUWC3KGNLJIOREFP5LQ,AGYYVPDD7YG7FYNBX...</td>\n",
       "      <td>ArdKn,Nirbhay kumar,Sagar Viswanathan,Asp,Plac...</td>\n",
       "      <td>RGIQEG07R9HS2,R1SMWZQ86XIN8U,R2J3Y1WL29GWDE,RY...</td>\n",
       "      <td>A Good Braided Cable for Your Type C Device,Go...</td>\n",
       "      <td>I ordered this cable to connect my phone to An...</td>\n",
       "      <td>https://m.media-amazon.com/images/W/WEBP_40237...</td>\n",
       "      <td>https://www.amazon.in/Ambrane-Unbreakable-Char...</td>\n",
       "      <td>43994.0</td>\n",
       "    </tr>\n",
       "    <tr>\n",
       "      <th>2</th>\n",
       "      <td>B096MSW6CT</td>\n",
       "      <td>Sounce Fast Phone Charging Cable &amp; Data Sync U...</td>\n",
       "      <td>Computers&amp;Accessories|Accessories&amp;Peripherals|...</td>\n",
       "      <td>₹199</td>\n",
       "      <td>₹1,899</td>\n",
       "      <td>90%</td>\n",
       "      <td>3.9</td>\n",
       "      <td>7,928</td>\n",
       "      <td>【 Fast Charger&amp; Data Sync】-With built-in safet...</td>\n",
       "      <td>AGU3BBQ2V2DDAMOAKGFAWDDQ6QHA,AESFLDV2PT363T2AQ...</td>\n",
       "      <td>Kunal,Himanshu,viswanath,sai niharka,saqib mal...</td>\n",
       "      <td>R3J3EQQ9TZI5ZJ,R3E7WBGK7ID0KV,RWU79XKQ6I1QF,R2...</td>\n",
       "      <td>Good speed for earlier versions,Good Product,W...</td>\n",
       "      <td>Not quite durable and sturdy,https://m.media-a...</td>\n",
       "      <td>https://m.media-amazon.com/images/W/WEBP_40237...</td>\n",
       "      <td>https://www.amazon.in/Sounce-iPhone-Charging-C...</td>\n",
       "      <td>7928.0</td>\n",
       "    </tr>\n",
       "    <tr>\n",
       "      <th>3</th>\n",
       "      <td>B08HDJ86NZ</td>\n",
       "      <td>boAt Deuce USB 300 2 in 1 Type-C &amp; Micro USB S...</td>\n",
       "      <td>Computers&amp;Accessories|Accessories&amp;Peripherals|...</td>\n",
       "      <td>₹329</td>\n",
       "      <td>₹699</td>\n",
       "      <td>53%</td>\n",
       "      <td>4.2</td>\n",
       "      <td>94,363</td>\n",
       "      <td>The boAt Deuce USB 300 2 in 1 cable is compati...</td>\n",
       "      <td>AEWAZDZZJLQUYVOVGBEUKSLXHQ5A,AG5HTSFRRE6NL3M5S...</td>\n",
       "      <td>Omkar dhale,JD,HEMALATHA,Ajwadh a.,amar singh ...</td>\n",
       "      <td>R3EEUZKKK9J36I,R3HJVYCLYOY554,REDECAZ7AMPQC,R1...</td>\n",
       "      <td>Good product,Good one,Nice,Really nice product...</td>\n",
       "      <td>Good product,long wire,Charges good,Nice,I bou...</td>\n",
       "      <td>https://m.media-amazon.com/images/I/41V5FtEWPk...</td>\n",
       "      <td>https://www.amazon.in/Deuce-300-Resistant-Tang...</td>\n",
       "      <td>94363.0</td>\n",
       "    </tr>\n",
       "    <tr>\n",
       "      <th>4</th>\n",
       "      <td>B08CF3B7N1</td>\n",
       "      <td>Portronics Konnect L 1.2M Fast Charging 3A 8 P...</td>\n",
       "      <td>Computers&amp;Accessories|Accessories&amp;Peripherals|...</td>\n",
       "      <td>₹154</td>\n",
       "      <td>₹399</td>\n",
       "      <td>61%</td>\n",
       "      <td>4.2</td>\n",
       "      <td>16,905</td>\n",
       "      <td>[CHARGE &amp; SYNC FUNCTION]- This cable comes wit...</td>\n",
       "      <td>AE3Q6KSUK5P75D5HFYHCRAOLODSA,AFUGIFH5ZAFXRDSZH...</td>\n",
       "      <td>rahuls6099,Swasat Borah,Ajay Wadke,Pranali,RVK...</td>\n",
       "      <td>R1BP4L2HH9TFUP,R16PVJEXKV6QZS,R2UPDB81N66T4P,R...</td>\n",
       "      <td>As good as original,Decent,Good one for second...</td>\n",
       "      <td>Bought this instead of original apple, does th...</td>\n",
       "      <td>https://m.media-amazon.com/images/W/WEBP_40237...</td>\n",
       "      <td>https://www.amazon.in/Portronics-Konnect-POR-1...</td>\n",
       "      <td>16905.0</td>\n",
       "    </tr>\n",
       "    <tr>\n",
       "      <th>...</th>\n",
       "      <td>...</td>\n",
       "      <td>...</td>\n",
       "      <td>...</td>\n",
       "      <td>...</td>\n",
       "      <td>...</td>\n",
       "      <td>...</td>\n",
       "      <td>...</td>\n",
       "      <td>...</td>\n",
       "      <td>...</td>\n",
       "      <td>...</td>\n",
       "      <td>...</td>\n",
       "      <td>...</td>\n",
       "      <td>...</td>\n",
       "      <td>...</td>\n",
       "      <td>...</td>\n",
       "      <td>...</td>\n",
       "      <td>...</td>\n",
       "    </tr>\n",
       "    <tr>\n",
       "      <th>1460</th>\n",
       "      <td>B08L7J3T31</td>\n",
       "      <td>Noir Aqua - 5pcs PP Spun Filter + 1 Spanner | ...</td>\n",
       "      <td>Home&amp;Kitchen|Kitchen&amp;HomeAppliances|WaterPurif...</td>\n",
       "      <td>₹379</td>\n",
       "      <td>₹919</td>\n",
       "      <td>59%</td>\n",
       "      <td>4</td>\n",
       "      <td>1,090</td>\n",
       "      <td>SUPREME QUALITY 90 GRAM 3 LAYER THIK PP SPUN F...</td>\n",
       "      <td>AHITFY6AHALOFOHOZEOC6XBP4FEA,AFRABBODZJZQB6Z4U...</td>\n",
       "      <td>Prabha ds,Raghuram bk,Real Deal,Amazon Custome...</td>\n",
       "      <td>R3G3XFHPBFF0E8,R3C0BZCD32EIGW,R2EBVBCN9QPD9R,R...</td>\n",
       "      <td>Received the product without spanner,Excellent...</td>\n",
       "      <td>I received product without spanner,Excellent p...</td>\n",
       "      <td>https://m.media-amazon.com/images/I/41fDdRtjfx...</td>\n",
       "      <td>https://www.amazon.in/Noir-Aqua-Spanner-Purifi...</td>\n",
       "      <td>1090.0</td>\n",
       "    </tr>\n",
       "    <tr>\n",
       "      <th>1461</th>\n",
       "      <td>B01M6453MB</td>\n",
       "      <td>Prestige Delight PRWO Electric Rice Cooker (1 ...</td>\n",
       "      <td>Home&amp;Kitchen|Kitchen&amp;HomeAppliances|SmallKitch...</td>\n",
       "      <td>₹2,280</td>\n",
       "      <td>₹3,045</td>\n",
       "      <td>25%</td>\n",
       "      <td>4.1</td>\n",
       "      <td>4,118</td>\n",
       "      <td>230 Volts, 400 watts, 1 Year</td>\n",
       "      <td>AFG5FM3NEMOL6BNFRV2NK5FNJCHQ,AGEINTRN6Z563RMLH...</td>\n",
       "      <td>Manu Bhai,Naveenpittu,Evatira Sangma,JAGANNADH...</td>\n",
       "      <td>R3DDL2UPKQ2CK9,R2SYYU1OATVIU5,R1VM993161IYRW,R...</td>\n",
       "      <td>ok,everything was good couldn't return bcoz I ...</td>\n",
       "      <td>ok,got everything as mentioned but the measuri...</td>\n",
       "      <td>https://m.media-amazon.com/images/I/41gzDxk4+k...</td>\n",
       "      <td>https://www.amazon.in/Prestige-Delight-PRWO-1-...</td>\n",
       "      <td>4118.0</td>\n",
       "    </tr>\n",
       "    <tr>\n",
       "      <th>1462</th>\n",
       "      <td>B009P2LIL4</td>\n",
       "      <td>Bajaj Majesty RX10 2000 Watts Heat Convector R...</td>\n",
       "      <td>Home&amp;Kitchen|Heating,Cooling&amp;AirQuality|RoomHe...</td>\n",
       "      <td>₹2,219</td>\n",
       "      <td>₹3,080</td>\n",
       "      <td>28%</td>\n",
       "      <td>3.6</td>\n",
       "      <td>468</td>\n",
       "      <td>International design and styling|Two heat sett...</td>\n",
       "      <td>AGVPWCMAHYQWJOQKMUJN4DW3KM5Q,AF4Q3E66MY4SR7YQZ...</td>\n",
       "      <td>Nehal Desai,Danish Parwez,Amazon Customer,Amaz...</td>\n",
       "      <td>R1TLRJVW4STY5I,R2O455KRN493R1,R3Q5MVGBRIAS2G,R...</td>\n",
       "      <td>very good,Work but front melt after 2 month,Go...</td>\n",
       "      <td>plastic but cool body ,u have to find sturdy s...</td>\n",
       "      <td>https://m.media-amazon.com/images/W/WEBP_40237...</td>\n",
       "      <td>https://www.amazon.in/Bajaj-RX-10-2000-Watt-Co...</td>\n",
       "      <td>468.0</td>\n",
       "    </tr>\n",
       "    <tr>\n",
       "      <th>1463</th>\n",
       "      <td>B00J5DYCCA</td>\n",
       "      <td>Havells Ventil Air DSP 230mm Exhaust Fan (Pist...</td>\n",
       "      <td>Home&amp;Kitchen|Heating,Cooling&amp;AirQuality|Fans|E...</td>\n",
       "      <td>₹1,399</td>\n",
       "      <td>₹1,890</td>\n",
       "      <td>26%</td>\n",
       "      <td>4</td>\n",
       "      <td>8,031</td>\n",
       "      <td>Fan sweep area: 230 MM ; Noise level: (40 - 45...</td>\n",
       "      <td>AF2JQCLSCY3QJATWUNNHUSVUPNQQ,AFDMLUXC5LS5RXDJS...</td>\n",
       "      <td>Shubham Dubey,E.GURUBARAN,Mayank S.,eusuf khan...</td>\n",
       "      <td>R39Q2Y79MM9SWK,R3079BG1NIH6MB,R29A31ZELTZNJM,R...</td>\n",
       "      <td>Fan Speed is slow,Good quality,Good product,go...</td>\n",
       "      <td>I have installed this in my kitchen working fi...</td>\n",
       "      <td>https://m.media-amazon.com/images/W/WEBP_40237...</td>\n",
       "      <td>https://www.amazon.in/Havells-Ventilair-230mm-...</td>\n",
       "      <td>8031.0</td>\n",
       "    </tr>\n",
       "    <tr>\n",
       "      <th>1464</th>\n",
       "      <td>B01486F4G6</td>\n",
       "      <td>Borosil Jumbo 1000-Watt Grill Sandwich Maker (...</td>\n",
       "      <td>Home&amp;Kitchen|Kitchen&amp;HomeAppliances|SmallKitch...</td>\n",
       "      <td>₹2,863</td>\n",
       "      <td>₹3,690</td>\n",
       "      <td>22%</td>\n",
       "      <td>4.3</td>\n",
       "      <td>6,987</td>\n",
       "      <td>Brand-Borosil, Specification â€“ 23V ~ 5Hz;1 W...</td>\n",
       "      <td>AFGW5PT3R6ZAVQR4Y5MWVAKBZAYA,AG7QNJ2SCS5VS5VYY...</td>\n",
       "      <td>Rajib,Ajay B,Vikas Kahol,PARDEEP,Anindya Prama...</td>\n",
       "      <td>R20RBRZ0WEUJT9,ROKIFK9R2ISSE,R30EEG2FNJSN5I,R2...</td>\n",
       "      <td>Works perfect,Ok good product,Nice Product. Re...</td>\n",
       "      <td>It does it job perfectly..only issue is temp c...</td>\n",
       "      <td>https://m.media-amazon.com/images/W/WEBP_40237...</td>\n",
       "      <td>https://www.amazon.in/Borosil-Jumbo-1000-Watt-...</td>\n",
       "      <td>6987.0</td>\n",
       "    </tr>\n",
       "  </tbody>\n",
       "</table>\n",
       "<p>1465 rows × 17 columns</p>\n",
       "</div>"
      ],
      "text/plain": [
       "      product_id                                       product_name  \\\n",
       "0     B07JW9H4J1  Wayona Nylon Braided USB to Lightning Fast Cha...   \n",
       "1     B098NS6PVG  Ambrane Unbreakable 60W / 3A Fast Charging 1.5...   \n",
       "2     B096MSW6CT  Sounce Fast Phone Charging Cable & Data Sync U...   \n",
       "3     B08HDJ86NZ  boAt Deuce USB 300 2 in 1 Type-C & Micro USB S...   \n",
       "4     B08CF3B7N1  Portronics Konnect L 1.2M Fast Charging 3A 8 P...   \n",
       "...          ...                                                ...   \n",
       "1460  B08L7J3T31  Noir Aqua - 5pcs PP Spun Filter + 1 Spanner | ...   \n",
       "1461  B01M6453MB  Prestige Delight PRWO Electric Rice Cooker (1 ...   \n",
       "1462  B009P2LIL4  Bajaj Majesty RX10 2000 Watts Heat Convector R...   \n",
       "1463  B00J5DYCCA  Havells Ventil Air DSP 230mm Exhaust Fan (Pist...   \n",
       "1464  B01486F4G6  Borosil Jumbo 1000-Watt Grill Sandwich Maker (...   \n",
       "\n",
       "                                               category discounted_price  \\\n",
       "0     Computers&Accessories|Accessories&Peripherals|...             ₹399   \n",
       "1     Computers&Accessories|Accessories&Peripherals|...             ₹199   \n",
       "2     Computers&Accessories|Accessories&Peripherals|...             ₹199   \n",
       "3     Computers&Accessories|Accessories&Peripherals|...             ₹329   \n",
       "4     Computers&Accessories|Accessories&Peripherals|...             ₹154   \n",
       "...                                                 ...              ...   \n",
       "1460  Home&Kitchen|Kitchen&HomeAppliances|WaterPurif...             ₹379   \n",
       "1461  Home&Kitchen|Kitchen&HomeAppliances|SmallKitch...           ₹2,280   \n",
       "1462  Home&Kitchen|Heating,Cooling&AirQuality|RoomHe...           ₹2,219   \n",
       "1463  Home&Kitchen|Heating,Cooling&AirQuality|Fans|E...           ₹1,399   \n",
       "1464  Home&Kitchen|Kitchen&HomeAppliances|SmallKitch...           ₹2,863   \n",
       "\n",
       "     actual_price discount_percentage rating rating_count  \\\n",
       "0          ₹1,099                 64%    4.2       24,269   \n",
       "1            ₹349                 43%    4.0       43,994   \n",
       "2          ₹1,899                 90%    3.9        7,928   \n",
       "3            ₹699                 53%    4.2       94,363   \n",
       "4            ₹399                 61%    4.2       16,905   \n",
       "...           ...                 ...    ...          ...   \n",
       "1460         ₹919                 59%      4        1,090   \n",
       "1461       ₹3,045                 25%    4.1        4,118   \n",
       "1462       ₹3,080                 28%    3.6          468   \n",
       "1463       ₹1,890                 26%      4        8,031   \n",
       "1464       ₹3,690                 22%    4.3        6,987   \n",
       "\n",
       "                                          about_product  \\\n",
       "0     High Compatibility : Compatible With iPhone 12...   \n",
       "1     Compatible with all Type C enabled devices, be...   \n",
       "2     【 Fast Charger& Data Sync】-With built-in safet...   \n",
       "3     The boAt Deuce USB 300 2 in 1 cable is compati...   \n",
       "4     [CHARGE & SYNC FUNCTION]- This cable comes wit...   \n",
       "...                                                 ...   \n",
       "1460  SUPREME QUALITY 90 GRAM 3 LAYER THIK PP SPUN F...   \n",
       "1461                       230 Volts, 400 watts, 1 Year   \n",
       "1462  International design and styling|Two heat sett...   \n",
       "1463  Fan sweep area: 230 MM ; Noise level: (40 - 45...   \n",
       "1464  Brand-Borosil, Specification â€“ 23V ~ 5Hz;1 W...   \n",
       "\n",
       "                                                user_id  \\\n",
       "0     AG3D6O4STAQKAY2UVGEUV46KN35Q,AHMY5CWJMMK5BJRBB...   \n",
       "1     AECPFYFQVRUWC3KGNLJIOREFP5LQ,AGYYVPDD7YG7FYNBX...   \n",
       "2     AGU3BBQ2V2DDAMOAKGFAWDDQ6QHA,AESFLDV2PT363T2AQ...   \n",
       "3     AEWAZDZZJLQUYVOVGBEUKSLXHQ5A,AG5HTSFRRE6NL3M5S...   \n",
       "4     AE3Q6KSUK5P75D5HFYHCRAOLODSA,AFUGIFH5ZAFXRDSZH...   \n",
       "...                                                 ...   \n",
       "1460  AHITFY6AHALOFOHOZEOC6XBP4FEA,AFRABBODZJZQB6Z4U...   \n",
       "1461  AFG5FM3NEMOL6BNFRV2NK5FNJCHQ,AGEINTRN6Z563RMLH...   \n",
       "1462  AGVPWCMAHYQWJOQKMUJN4DW3KM5Q,AF4Q3E66MY4SR7YQZ...   \n",
       "1463  AF2JQCLSCY3QJATWUNNHUSVUPNQQ,AFDMLUXC5LS5RXDJS...   \n",
       "1464  AFGW5PT3R6ZAVQR4Y5MWVAKBZAYA,AG7QNJ2SCS5VS5VYY...   \n",
       "\n",
       "                                              user_name  \\\n",
       "0     Manav,Adarsh gupta,Sundeep,S.Sayeed Ahmed,jasp...   \n",
       "1     ArdKn,Nirbhay kumar,Sagar Viswanathan,Asp,Plac...   \n",
       "2     Kunal,Himanshu,viswanath,sai niharka,saqib mal...   \n",
       "3     Omkar dhale,JD,HEMALATHA,Ajwadh a.,amar singh ...   \n",
       "4     rahuls6099,Swasat Borah,Ajay Wadke,Pranali,RVK...   \n",
       "...                                                 ...   \n",
       "1460  Prabha ds,Raghuram bk,Real Deal,Amazon Custome...   \n",
       "1461  Manu Bhai,Naveenpittu,Evatira Sangma,JAGANNADH...   \n",
       "1462  Nehal Desai,Danish Parwez,Amazon Customer,Amaz...   \n",
       "1463  Shubham Dubey,E.GURUBARAN,Mayank S.,eusuf khan...   \n",
       "1464  Rajib,Ajay B,Vikas Kahol,PARDEEP,Anindya Prama...   \n",
       "\n",
       "                                              review_id  \\\n",
       "0     R3HXWT0LRP0NMF,R2AJM3LFTLZHFO,R6AQJGUP6P86,R1K...   \n",
       "1     RGIQEG07R9HS2,R1SMWZQ86XIN8U,R2J3Y1WL29GWDE,RY...   \n",
       "2     R3J3EQQ9TZI5ZJ,R3E7WBGK7ID0KV,RWU79XKQ6I1QF,R2...   \n",
       "3     R3EEUZKKK9J36I,R3HJVYCLYOY554,REDECAZ7AMPQC,R1...   \n",
       "4     R1BP4L2HH9TFUP,R16PVJEXKV6QZS,R2UPDB81N66T4P,R...   \n",
       "...                                                 ...   \n",
       "1460  R3G3XFHPBFF0E8,R3C0BZCD32EIGW,R2EBVBCN9QPD9R,R...   \n",
       "1461  R3DDL2UPKQ2CK9,R2SYYU1OATVIU5,R1VM993161IYRW,R...   \n",
       "1462  R1TLRJVW4STY5I,R2O455KRN493R1,R3Q5MVGBRIAS2G,R...   \n",
       "1463  R39Q2Y79MM9SWK,R3079BG1NIH6MB,R29A31ZELTZNJM,R...   \n",
       "1464  R20RBRZ0WEUJT9,ROKIFK9R2ISSE,R30EEG2FNJSN5I,R2...   \n",
       "\n",
       "                                           review_title  \\\n",
       "0     Satisfied,Charging is really fast,Value for mo...   \n",
       "1     A Good Braided Cable for Your Type C Device,Go...   \n",
       "2     Good speed for earlier versions,Good Product,W...   \n",
       "3     Good product,Good one,Nice,Really nice product...   \n",
       "4     As good as original,Decent,Good one for second...   \n",
       "...                                                 ...   \n",
       "1460  Received the product without spanner,Excellent...   \n",
       "1461  ok,everything was good couldn't return bcoz I ...   \n",
       "1462  very good,Work but front melt after 2 month,Go...   \n",
       "1463  Fan Speed is slow,Good quality,Good product,go...   \n",
       "1464  Works perfect,Ok good product,Nice Product. Re...   \n",
       "\n",
       "                                         review_content  \\\n",
       "0     Looks durable Charging is fine tooNo complains...   \n",
       "1     I ordered this cable to connect my phone to An...   \n",
       "2     Not quite durable and sturdy,https://m.media-a...   \n",
       "3     Good product,long wire,Charges good,Nice,I bou...   \n",
       "4     Bought this instead of original apple, does th...   \n",
       "...                                                 ...   \n",
       "1460  I received product without spanner,Excellent p...   \n",
       "1461  ok,got everything as mentioned but the measuri...   \n",
       "1462  plastic but cool body ,u have to find sturdy s...   \n",
       "1463  I have installed this in my kitchen working fi...   \n",
       "1464  It does it job perfectly..only issue is temp c...   \n",
       "\n",
       "                                               img_link  \\\n",
       "0     https://m.media-amazon.com/images/W/WEBP_40237...   \n",
       "1     https://m.media-amazon.com/images/W/WEBP_40237...   \n",
       "2     https://m.media-amazon.com/images/W/WEBP_40237...   \n",
       "3     https://m.media-amazon.com/images/I/41V5FtEWPk...   \n",
       "4     https://m.media-amazon.com/images/W/WEBP_40237...   \n",
       "...                                                 ...   \n",
       "1460  https://m.media-amazon.com/images/I/41fDdRtjfx...   \n",
       "1461  https://m.media-amazon.com/images/I/41gzDxk4+k...   \n",
       "1462  https://m.media-amazon.com/images/W/WEBP_40237...   \n",
       "1463  https://m.media-amazon.com/images/W/WEBP_40237...   \n",
       "1464  https://m.media-amazon.com/images/W/WEBP_40237...   \n",
       "\n",
       "                                           product_link  clean_rating_count  \n",
       "0     https://www.amazon.in/Wayona-Braided-WN3LG1-Sy...             24269.0  \n",
       "1     https://www.amazon.in/Ambrane-Unbreakable-Char...             43994.0  \n",
       "2     https://www.amazon.in/Sounce-iPhone-Charging-C...              7928.0  \n",
       "3     https://www.amazon.in/Deuce-300-Resistant-Tang...             94363.0  \n",
       "4     https://www.amazon.in/Portronics-Konnect-POR-1...             16905.0  \n",
       "...                                                 ...                 ...  \n",
       "1460  https://www.amazon.in/Noir-Aqua-Spanner-Purifi...              1090.0  \n",
       "1461  https://www.amazon.in/Prestige-Delight-PRWO-1-...              4118.0  \n",
       "1462  https://www.amazon.in/Bajaj-RX-10-2000-Watt-Co...               468.0  \n",
       "1463  https://www.amazon.in/Havells-Ventilair-230mm-...              8031.0  \n",
       "1464  https://www.amazon.in/Borosil-Jumbo-1000-Watt-...              6987.0  \n",
       "\n",
       "[1465 rows x 17 columns]"
      ]
     },
     "execution_count": 108,
     "metadata": {},
     "output_type": "execute_result"
    }
   ],
   "source": [
    "df ['clean_rating_count'] = df['rating_count'].apply(clean_rating_count_column)\n",
    "df"
   ]
  },
  {
   "cell_type": "code",
   "execution_count": 109,
   "metadata": {},
   "outputs": [],
   "source": [
    "def clean_rating_column(rating):\n",
    "    if isinstance(rating, str):\n",
    "        rating = rating.replace('.', '')\n",
    "        return rating\n",
    "    return rating"
   ]
  },
  {
   "cell_type": "code",
   "execution_count": 110,
   "metadata": {},
   "outputs": [
    {
     "data": {
      "text/html": [
       "<div>\n",
       "<style scoped>\n",
       "    .dataframe tbody tr th:only-of-type {\n",
       "        vertical-align: middle;\n",
       "    }\n",
       "\n",
       "    .dataframe tbody tr th {\n",
       "        vertical-align: top;\n",
       "    }\n",
       "\n",
       "    .dataframe thead th {\n",
       "        text-align: right;\n",
       "    }\n",
       "</style>\n",
       "<table border=\"1\" class=\"dataframe\">\n",
       "  <thead>\n",
       "    <tr style=\"text-align: right;\">\n",
       "      <th></th>\n",
       "      <th>product_id</th>\n",
       "      <th>product_name</th>\n",
       "      <th>category</th>\n",
       "      <th>discounted_price</th>\n",
       "      <th>actual_price</th>\n",
       "      <th>discount_percentage</th>\n",
       "      <th>rating</th>\n",
       "      <th>rating_count</th>\n",
       "      <th>about_product</th>\n",
       "      <th>user_id</th>\n",
       "      <th>user_name</th>\n",
       "      <th>review_id</th>\n",
       "      <th>review_title</th>\n",
       "      <th>review_content</th>\n",
       "      <th>img_link</th>\n",
       "      <th>product_link</th>\n",
       "      <th>clean_rating_count</th>\n",
       "      <th>clean_rating</th>\n",
       "    </tr>\n",
       "  </thead>\n",
       "  <tbody>\n",
       "    <tr>\n",
       "      <th>0</th>\n",
       "      <td>B07JW9H4J1</td>\n",
       "      <td>Wayona Nylon Braided USB to Lightning Fast Cha...</td>\n",
       "      <td>Computers&amp;Accessories|Accessories&amp;Peripherals|...</td>\n",
       "      <td>₹399</td>\n",
       "      <td>₹1,099</td>\n",
       "      <td>64%</td>\n",
       "      <td>4.2</td>\n",
       "      <td>24,269</td>\n",
       "      <td>High Compatibility : Compatible With iPhone 12...</td>\n",
       "      <td>AG3D6O4STAQKAY2UVGEUV46KN35Q,AHMY5CWJMMK5BJRBB...</td>\n",
       "      <td>Manav,Adarsh gupta,Sundeep,S.Sayeed Ahmed,jasp...</td>\n",
       "      <td>R3HXWT0LRP0NMF,R2AJM3LFTLZHFO,R6AQJGUP6P86,R1K...</td>\n",
       "      <td>Satisfied,Charging is really fast,Value for mo...</td>\n",
       "      <td>Looks durable Charging is fine tooNo complains...</td>\n",
       "      <td>https://m.media-amazon.com/images/W/WEBP_40237...</td>\n",
       "      <td>https://www.amazon.in/Wayona-Braided-WN3LG1-Sy...</td>\n",
       "      <td>24269.0</td>\n",
       "      <td>42</td>\n",
       "    </tr>\n",
       "    <tr>\n",
       "      <th>1</th>\n",
       "      <td>B098NS6PVG</td>\n",
       "      <td>Ambrane Unbreakable 60W / 3A Fast Charging 1.5...</td>\n",
       "      <td>Computers&amp;Accessories|Accessories&amp;Peripherals|...</td>\n",
       "      <td>₹199</td>\n",
       "      <td>₹349</td>\n",
       "      <td>43%</td>\n",
       "      <td>4.0</td>\n",
       "      <td>43,994</td>\n",
       "      <td>Compatible with all Type C enabled devices, be...</td>\n",
       "      <td>AECPFYFQVRUWC3KGNLJIOREFP5LQ,AGYYVPDD7YG7FYNBX...</td>\n",
       "      <td>ArdKn,Nirbhay kumar,Sagar Viswanathan,Asp,Plac...</td>\n",
       "      <td>RGIQEG07R9HS2,R1SMWZQ86XIN8U,R2J3Y1WL29GWDE,RY...</td>\n",
       "      <td>A Good Braided Cable for Your Type C Device,Go...</td>\n",
       "      <td>I ordered this cable to connect my phone to An...</td>\n",
       "      <td>https://m.media-amazon.com/images/W/WEBP_40237...</td>\n",
       "      <td>https://www.amazon.in/Ambrane-Unbreakable-Char...</td>\n",
       "      <td>43994.0</td>\n",
       "      <td>40</td>\n",
       "    </tr>\n",
       "    <tr>\n",
       "      <th>2</th>\n",
       "      <td>B096MSW6CT</td>\n",
       "      <td>Sounce Fast Phone Charging Cable &amp; Data Sync U...</td>\n",
       "      <td>Computers&amp;Accessories|Accessories&amp;Peripherals|...</td>\n",
       "      <td>₹199</td>\n",
       "      <td>₹1,899</td>\n",
       "      <td>90%</td>\n",
       "      <td>3.9</td>\n",
       "      <td>7,928</td>\n",
       "      <td>【 Fast Charger&amp; Data Sync】-With built-in safet...</td>\n",
       "      <td>AGU3BBQ2V2DDAMOAKGFAWDDQ6QHA,AESFLDV2PT363T2AQ...</td>\n",
       "      <td>Kunal,Himanshu,viswanath,sai niharka,saqib mal...</td>\n",
       "      <td>R3J3EQQ9TZI5ZJ,R3E7WBGK7ID0KV,RWU79XKQ6I1QF,R2...</td>\n",
       "      <td>Good speed for earlier versions,Good Product,W...</td>\n",
       "      <td>Not quite durable and sturdy,https://m.media-a...</td>\n",
       "      <td>https://m.media-amazon.com/images/W/WEBP_40237...</td>\n",
       "      <td>https://www.amazon.in/Sounce-iPhone-Charging-C...</td>\n",
       "      <td>7928.0</td>\n",
       "      <td>39</td>\n",
       "    </tr>\n",
       "    <tr>\n",
       "      <th>3</th>\n",
       "      <td>B08HDJ86NZ</td>\n",
       "      <td>boAt Deuce USB 300 2 in 1 Type-C &amp; Micro USB S...</td>\n",
       "      <td>Computers&amp;Accessories|Accessories&amp;Peripherals|...</td>\n",
       "      <td>₹329</td>\n",
       "      <td>₹699</td>\n",
       "      <td>53%</td>\n",
       "      <td>4.2</td>\n",
       "      <td>94,363</td>\n",
       "      <td>The boAt Deuce USB 300 2 in 1 cable is compati...</td>\n",
       "      <td>AEWAZDZZJLQUYVOVGBEUKSLXHQ5A,AG5HTSFRRE6NL3M5S...</td>\n",
       "      <td>Omkar dhale,JD,HEMALATHA,Ajwadh a.,amar singh ...</td>\n",
       "      <td>R3EEUZKKK9J36I,R3HJVYCLYOY554,REDECAZ7AMPQC,R1...</td>\n",
       "      <td>Good product,Good one,Nice,Really nice product...</td>\n",
       "      <td>Good product,long wire,Charges good,Nice,I bou...</td>\n",
       "      <td>https://m.media-amazon.com/images/I/41V5FtEWPk...</td>\n",
       "      <td>https://www.amazon.in/Deuce-300-Resistant-Tang...</td>\n",
       "      <td>94363.0</td>\n",
       "      <td>42</td>\n",
       "    </tr>\n",
       "    <tr>\n",
       "      <th>4</th>\n",
       "      <td>B08CF3B7N1</td>\n",
       "      <td>Portronics Konnect L 1.2M Fast Charging 3A 8 P...</td>\n",
       "      <td>Computers&amp;Accessories|Accessories&amp;Peripherals|...</td>\n",
       "      <td>₹154</td>\n",
       "      <td>₹399</td>\n",
       "      <td>61%</td>\n",
       "      <td>4.2</td>\n",
       "      <td>16,905</td>\n",
       "      <td>[CHARGE &amp; SYNC FUNCTION]- This cable comes wit...</td>\n",
       "      <td>AE3Q6KSUK5P75D5HFYHCRAOLODSA,AFUGIFH5ZAFXRDSZH...</td>\n",
       "      <td>rahuls6099,Swasat Borah,Ajay Wadke,Pranali,RVK...</td>\n",
       "      <td>R1BP4L2HH9TFUP,R16PVJEXKV6QZS,R2UPDB81N66T4P,R...</td>\n",
       "      <td>As good as original,Decent,Good one for second...</td>\n",
       "      <td>Bought this instead of original apple, does th...</td>\n",
       "      <td>https://m.media-amazon.com/images/W/WEBP_40237...</td>\n",
       "      <td>https://www.amazon.in/Portronics-Konnect-POR-1...</td>\n",
       "      <td>16905.0</td>\n",
       "      <td>42</td>\n",
       "    </tr>\n",
       "    <tr>\n",
       "      <th>...</th>\n",
       "      <td>...</td>\n",
       "      <td>...</td>\n",
       "      <td>...</td>\n",
       "      <td>...</td>\n",
       "      <td>...</td>\n",
       "      <td>...</td>\n",
       "      <td>...</td>\n",
       "      <td>...</td>\n",
       "      <td>...</td>\n",
       "      <td>...</td>\n",
       "      <td>...</td>\n",
       "      <td>...</td>\n",
       "      <td>...</td>\n",
       "      <td>...</td>\n",
       "      <td>...</td>\n",
       "      <td>...</td>\n",
       "      <td>...</td>\n",
       "      <td>...</td>\n",
       "    </tr>\n",
       "    <tr>\n",
       "      <th>1460</th>\n",
       "      <td>B08L7J3T31</td>\n",
       "      <td>Noir Aqua - 5pcs PP Spun Filter + 1 Spanner | ...</td>\n",
       "      <td>Home&amp;Kitchen|Kitchen&amp;HomeAppliances|WaterPurif...</td>\n",
       "      <td>₹379</td>\n",
       "      <td>₹919</td>\n",
       "      <td>59%</td>\n",
       "      <td>4</td>\n",
       "      <td>1,090</td>\n",
       "      <td>SUPREME QUALITY 90 GRAM 3 LAYER THIK PP SPUN F...</td>\n",
       "      <td>AHITFY6AHALOFOHOZEOC6XBP4FEA,AFRABBODZJZQB6Z4U...</td>\n",
       "      <td>Prabha ds,Raghuram bk,Real Deal,Amazon Custome...</td>\n",
       "      <td>R3G3XFHPBFF0E8,R3C0BZCD32EIGW,R2EBVBCN9QPD9R,R...</td>\n",
       "      <td>Received the product without spanner,Excellent...</td>\n",
       "      <td>I received product without spanner,Excellent p...</td>\n",
       "      <td>https://m.media-amazon.com/images/I/41fDdRtjfx...</td>\n",
       "      <td>https://www.amazon.in/Noir-Aqua-Spanner-Purifi...</td>\n",
       "      <td>1090.0</td>\n",
       "      <td>4</td>\n",
       "    </tr>\n",
       "    <tr>\n",
       "      <th>1461</th>\n",
       "      <td>B01M6453MB</td>\n",
       "      <td>Prestige Delight PRWO Electric Rice Cooker (1 ...</td>\n",
       "      <td>Home&amp;Kitchen|Kitchen&amp;HomeAppliances|SmallKitch...</td>\n",
       "      <td>₹2,280</td>\n",
       "      <td>₹3,045</td>\n",
       "      <td>25%</td>\n",
       "      <td>4.1</td>\n",
       "      <td>4,118</td>\n",
       "      <td>230 Volts, 400 watts, 1 Year</td>\n",
       "      <td>AFG5FM3NEMOL6BNFRV2NK5FNJCHQ,AGEINTRN6Z563RMLH...</td>\n",
       "      <td>Manu Bhai,Naveenpittu,Evatira Sangma,JAGANNADH...</td>\n",
       "      <td>R3DDL2UPKQ2CK9,R2SYYU1OATVIU5,R1VM993161IYRW,R...</td>\n",
       "      <td>ok,everything was good couldn't return bcoz I ...</td>\n",
       "      <td>ok,got everything as mentioned but the measuri...</td>\n",
       "      <td>https://m.media-amazon.com/images/I/41gzDxk4+k...</td>\n",
       "      <td>https://www.amazon.in/Prestige-Delight-PRWO-1-...</td>\n",
       "      <td>4118.0</td>\n",
       "      <td>41</td>\n",
       "    </tr>\n",
       "    <tr>\n",
       "      <th>1462</th>\n",
       "      <td>B009P2LIL4</td>\n",
       "      <td>Bajaj Majesty RX10 2000 Watts Heat Convector R...</td>\n",
       "      <td>Home&amp;Kitchen|Heating,Cooling&amp;AirQuality|RoomHe...</td>\n",
       "      <td>₹2,219</td>\n",
       "      <td>₹3,080</td>\n",
       "      <td>28%</td>\n",
       "      <td>3.6</td>\n",
       "      <td>468</td>\n",
       "      <td>International design and styling|Two heat sett...</td>\n",
       "      <td>AGVPWCMAHYQWJOQKMUJN4DW3KM5Q,AF4Q3E66MY4SR7YQZ...</td>\n",
       "      <td>Nehal Desai,Danish Parwez,Amazon Customer,Amaz...</td>\n",
       "      <td>R1TLRJVW4STY5I,R2O455KRN493R1,R3Q5MVGBRIAS2G,R...</td>\n",
       "      <td>very good,Work but front melt after 2 month,Go...</td>\n",
       "      <td>plastic but cool body ,u have to find sturdy s...</td>\n",
       "      <td>https://m.media-amazon.com/images/W/WEBP_40237...</td>\n",
       "      <td>https://www.amazon.in/Bajaj-RX-10-2000-Watt-Co...</td>\n",
       "      <td>468.0</td>\n",
       "      <td>36</td>\n",
       "    </tr>\n",
       "    <tr>\n",
       "      <th>1463</th>\n",
       "      <td>B00J5DYCCA</td>\n",
       "      <td>Havells Ventil Air DSP 230mm Exhaust Fan (Pist...</td>\n",
       "      <td>Home&amp;Kitchen|Heating,Cooling&amp;AirQuality|Fans|E...</td>\n",
       "      <td>₹1,399</td>\n",
       "      <td>₹1,890</td>\n",
       "      <td>26%</td>\n",
       "      <td>4</td>\n",
       "      <td>8,031</td>\n",
       "      <td>Fan sweep area: 230 MM ; Noise level: (40 - 45...</td>\n",
       "      <td>AF2JQCLSCY3QJATWUNNHUSVUPNQQ,AFDMLUXC5LS5RXDJS...</td>\n",
       "      <td>Shubham Dubey,E.GURUBARAN,Mayank S.,eusuf khan...</td>\n",
       "      <td>R39Q2Y79MM9SWK,R3079BG1NIH6MB,R29A31ZELTZNJM,R...</td>\n",
       "      <td>Fan Speed is slow,Good quality,Good product,go...</td>\n",
       "      <td>I have installed this in my kitchen working fi...</td>\n",
       "      <td>https://m.media-amazon.com/images/W/WEBP_40237...</td>\n",
       "      <td>https://www.amazon.in/Havells-Ventilair-230mm-...</td>\n",
       "      <td>8031.0</td>\n",
       "      <td>4</td>\n",
       "    </tr>\n",
       "    <tr>\n",
       "      <th>1464</th>\n",
       "      <td>B01486F4G6</td>\n",
       "      <td>Borosil Jumbo 1000-Watt Grill Sandwich Maker (...</td>\n",
       "      <td>Home&amp;Kitchen|Kitchen&amp;HomeAppliances|SmallKitch...</td>\n",
       "      <td>₹2,863</td>\n",
       "      <td>₹3,690</td>\n",
       "      <td>22%</td>\n",
       "      <td>4.3</td>\n",
       "      <td>6,987</td>\n",
       "      <td>Brand-Borosil, Specification â€“ 23V ~ 5Hz;1 W...</td>\n",
       "      <td>AFGW5PT3R6ZAVQR4Y5MWVAKBZAYA,AG7QNJ2SCS5VS5VYY...</td>\n",
       "      <td>Rajib,Ajay B,Vikas Kahol,PARDEEP,Anindya Prama...</td>\n",
       "      <td>R20RBRZ0WEUJT9,ROKIFK9R2ISSE,R30EEG2FNJSN5I,R2...</td>\n",
       "      <td>Works perfect,Ok good product,Nice Product. Re...</td>\n",
       "      <td>It does it job perfectly..only issue is temp c...</td>\n",
       "      <td>https://m.media-amazon.com/images/W/WEBP_40237...</td>\n",
       "      <td>https://www.amazon.in/Borosil-Jumbo-1000-Watt-...</td>\n",
       "      <td>6987.0</td>\n",
       "      <td>43</td>\n",
       "    </tr>\n",
       "  </tbody>\n",
       "</table>\n",
       "<p>1465 rows × 18 columns</p>\n",
       "</div>"
      ],
      "text/plain": [
       "      product_id                                       product_name  \\\n",
       "0     B07JW9H4J1  Wayona Nylon Braided USB to Lightning Fast Cha...   \n",
       "1     B098NS6PVG  Ambrane Unbreakable 60W / 3A Fast Charging 1.5...   \n",
       "2     B096MSW6CT  Sounce Fast Phone Charging Cable & Data Sync U...   \n",
       "3     B08HDJ86NZ  boAt Deuce USB 300 2 in 1 Type-C & Micro USB S...   \n",
       "4     B08CF3B7N1  Portronics Konnect L 1.2M Fast Charging 3A 8 P...   \n",
       "...          ...                                                ...   \n",
       "1460  B08L7J3T31  Noir Aqua - 5pcs PP Spun Filter + 1 Spanner | ...   \n",
       "1461  B01M6453MB  Prestige Delight PRWO Electric Rice Cooker (1 ...   \n",
       "1462  B009P2LIL4  Bajaj Majesty RX10 2000 Watts Heat Convector R...   \n",
       "1463  B00J5DYCCA  Havells Ventil Air DSP 230mm Exhaust Fan (Pist...   \n",
       "1464  B01486F4G6  Borosil Jumbo 1000-Watt Grill Sandwich Maker (...   \n",
       "\n",
       "                                               category discounted_price  \\\n",
       "0     Computers&Accessories|Accessories&Peripherals|...             ₹399   \n",
       "1     Computers&Accessories|Accessories&Peripherals|...             ₹199   \n",
       "2     Computers&Accessories|Accessories&Peripherals|...             ₹199   \n",
       "3     Computers&Accessories|Accessories&Peripherals|...             ₹329   \n",
       "4     Computers&Accessories|Accessories&Peripherals|...             ₹154   \n",
       "...                                                 ...              ...   \n",
       "1460  Home&Kitchen|Kitchen&HomeAppliances|WaterPurif...             ₹379   \n",
       "1461  Home&Kitchen|Kitchen&HomeAppliances|SmallKitch...           ₹2,280   \n",
       "1462  Home&Kitchen|Heating,Cooling&AirQuality|RoomHe...           ₹2,219   \n",
       "1463  Home&Kitchen|Heating,Cooling&AirQuality|Fans|E...           ₹1,399   \n",
       "1464  Home&Kitchen|Kitchen&HomeAppliances|SmallKitch...           ₹2,863   \n",
       "\n",
       "     actual_price discount_percentage rating rating_count  \\\n",
       "0          ₹1,099                 64%    4.2       24,269   \n",
       "1            ₹349                 43%    4.0       43,994   \n",
       "2          ₹1,899                 90%    3.9        7,928   \n",
       "3            ₹699                 53%    4.2       94,363   \n",
       "4            ₹399                 61%    4.2       16,905   \n",
       "...           ...                 ...    ...          ...   \n",
       "1460         ₹919                 59%      4        1,090   \n",
       "1461       ₹3,045                 25%    4.1        4,118   \n",
       "1462       ₹3,080                 28%    3.6          468   \n",
       "1463       ₹1,890                 26%      4        8,031   \n",
       "1464       ₹3,690                 22%    4.3        6,987   \n",
       "\n",
       "                                          about_product  \\\n",
       "0     High Compatibility : Compatible With iPhone 12...   \n",
       "1     Compatible with all Type C enabled devices, be...   \n",
       "2     【 Fast Charger& Data Sync】-With built-in safet...   \n",
       "3     The boAt Deuce USB 300 2 in 1 cable is compati...   \n",
       "4     [CHARGE & SYNC FUNCTION]- This cable comes wit...   \n",
       "...                                                 ...   \n",
       "1460  SUPREME QUALITY 90 GRAM 3 LAYER THIK PP SPUN F...   \n",
       "1461                       230 Volts, 400 watts, 1 Year   \n",
       "1462  International design and styling|Two heat sett...   \n",
       "1463  Fan sweep area: 230 MM ; Noise level: (40 - 45...   \n",
       "1464  Brand-Borosil, Specification â€“ 23V ~ 5Hz;1 W...   \n",
       "\n",
       "                                                user_id  \\\n",
       "0     AG3D6O4STAQKAY2UVGEUV46KN35Q,AHMY5CWJMMK5BJRBB...   \n",
       "1     AECPFYFQVRUWC3KGNLJIOREFP5LQ,AGYYVPDD7YG7FYNBX...   \n",
       "2     AGU3BBQ2V2DDAMOAKGFAWDDQ6QHA,AESFLDV2PT363T2AQ...   \n",
       "3     AEWAZDZZJLQUYVOVGBEUKSLXHQ5A,AG5HTSFRRE6NL3M5S...   \n",
       "4     AE3Q6KSUK5P75D5HFYHCRAOLODSA,AFUGIFH5ZAFXRDSZH...   \n",
       "...                                                 ...   \n",
       "1460  AHITFY6AHALOFOHOZEOC6XBP4FEA,AFRABBODZJZQB6Z4U...   \n",
       "1461  AFG5FM3NEMOL6BNFRV2NK5FNJCHQ,AGEINTRN6Z563RMLH...   \n",
       "1462  AGVPWCMAHYQWJOQKMUJN4DW3KM5Q,AF4Q3E66MY4SR7YQZ...   \n",
       "1463  AF2JQCLSCY3QJATWUNNHUSVUPNQQ,AFDMLUXC5LS5RXDJS...   \n",
       "1464  AFGW5PT3R6ZAVQR4Y5MWVAKBZAYA,AG7QNJ2SCS5VS5VYY...   \n",
       "\n",
       "                                              user_name  \\\n",
       "0     Manav,Adarsh gupta,Sundeep,S.Sayeed Ahmed,jasp...   \n",
       "1     ArdKn,Nirbhay kumar,Sagar Viswanathan,Asp,Plac...   \n",
       "2     Kunal,Himanshu,viswanath,sai niharka,saqib mal...   \n",
       "3     Omkar dhale,JD,HEMALATHA,Ajwadh a.,amar singh ...   \n",
       "4     rahuls6099,Swasat Borah,Ajay Wadke,Pranali,RVK...   \n",
       "...                                                 ...   \n",
       "1460  Prabha ds,Raghuram bk,Real Deal,Amazon Custome...   \n",
       "1461  Manu Bhai,Naveenpittu,Evatira Sangma,JAGANNADH...   \n",
       "1462  Nehal Desai,Danish Parwez,Amazon Customer,Amaz...   \n",
       "1463  Shubham Dubey,E.GURUBARAN,Mayank S.,eusuf khan...   \n",
       "1464  Rajib,Ajay B,Vikas Kahol,PARDEEP,Anindya Prama...   \n",
       "\n",
       "                                              review_id  \\\n",
       "0     R3HXWT0LRP0NMF,R2AJM3LFTLZHFO,R6AQJGUP6P86,R1K...   \n",
       "1     RGIQEG07R9HS2,R1SMWZQ86XIN8U,R2J3Y1WL29GWDE,RY...   \n",
       "2     R3J3EQQ9TZI5ZJ,R3E7WBGK7ID0KV,RWU79XKQ6I1QF,R2...   \n",
       "3     R3EEUZKKK9J36I,R3HJVYCLYOY554,REDECAZ7AMPQC,R1...   \n",
       "4     R1BP4L2HH9TFUP,R16PVJEXKV6QZS,R2UPDB81N66T4P,R...   \n",
       "...                                                 ...   \n",
       "1460  R3G3XFHPBFF0E8,R3C0BZCD32EIGW,R2EBVBCN9QPD9R,R...   \n",
       "1461  R3DDL2UPKQ2CK9,R2SYYU1OATVIU5,R1VM993161IYRW,R...   \n",
       "1462  R1TLRJVW4STY5I,R2O455KRN493R1,R3Q5MVGBRIAS2G,R...   \n",
       "1463  R39Q2Y79MM9SWK,R3079BG1NIH6MB,R29A31ZELTZNJM,R...   \n",
       "1464  R20RBRZ0WEUJT9,ROKIFK9R2ISSE,R30EEG2FNJSN5I,R2...   \n",
       "\n",
       "                                           review_title  \\\n",
       "0     Satisfied,Charging is really fast,Value for mo...   \n",
       "1     A Good Braided Cable for Your Type C Device,Go...   \n",
       "2     Good speed for earlier versions,Good Product,W...   \n",
       "3     Good product,Good one,Nice,Really nice product...   \n",
       "4     As good as original,Decent,Good one for second...   \n",
       "...                                                 ...   \n",
       "1460  Received the product without spanner,Excellent...   \n",
       "1461  ok,everything was good couldn't return bcoz I ...   \n",
       "1462  very good,Work but front melt after 2 month,Go...   \n",
       "1463  Fan Speed is slow,Good quality,Good product,go...   \n",
       "1464  Works perfect,Ok good product,Nice Product. Re...   \n",
       "\n",
       "                                         review_content  \\\n",
       "0     Looks durable Charging is fine tooNo complains...   \n",
       "1     I ordered this cable to connect my phone to An...   \n",
       "2     Not quite durable and sturdy,https://m.media-a...   \n",
       "3     Good product,long wire,Charges good,Nice,I bou...   \n",
       "4     Bought this instead of original apple, does th...   \n",
       "...                                                 ...   \n",
       "1460  I received product without spanner,Excellent p...   \n",
       "1461  ok,got everything as mentioned but the measuri...   \n",
       "1462  plastic but cool body ,u have to find sturdy s...   \n",
       "1463  I have installed this in my kitchen working fi...   \n",
       "1464  It does it job perfectly..only issue is temp c...   \n",
       "\n",
       "                                               img_link  \\\n",
       "0     https://m.media-amazon.com/images/W/WEBP_40237...   \n",
       "1     https://m.media-amazon.com/images/W/WEBP_40237...   \n",
       "2     https://m.media-amazon.com/images/W/WEBP_40237...   \n",
       "3     https://m.media-amazon.com/images/I/41V5FtEWPk...   \n",
       "4     https://m.media-amazon.com/images/W/WEBP_40237...   \n",
       "...                                                 ...   \n",
       "1460  https://m.media-amazon.com/images/I/41fDdRtjfx...   \n",
       "1461  https://m.media-amazon.com/images/I/41gzDxk4+k...   \n",
       "1462  https://m.media-amazon.com/images/W/WEBP_40237...   \n",
       "1463  https://m.media-amazon.com/images/W/WEBP_40237...   \n",
       "1464  https://m.media-amazon.com/images/W/WEBP_40237...   \n",
       "\n",
       "                                           product_link  clean_rating_count  \\\n",
       "0     https://www.amazon.in/Wayona-Braided-WN3LG1-Sy...             24269.0   \n",
       "1     https://www.amazon.in/Ambrane-Unbreakable-Char...             43994.0   \n",
       "2     https://www.amazon.in/Sounce-iPhone-Charging-C...              7928.0   \n",
       "3     https://www.amazon.in/Deuce-300-Resistant-Tang...             94363.0   \n",
       "4     https://www.amazon.in/Portronics-Konnect-POR-1...             16905.0   \n",
       "...                                                 ...                 ...   \n",
       "1460  https://www.amazon.in/Noir-Aqua-Spanner-Purifi...              1090.0   \n",
       "1461  https://www.amazon.in/Prestige-Delight-PRWO-1-...              4118.0   \n",
       "1462  https://www.amazon.in/Bajaj-RX-10-2000-Watt-Co...               468.0   \n",
       "1463  https://www.amazon.in/Havells-Ventilair-230mm-...              8031.0   \n",
       "1464  https://www.amazon.in/Borosil-Jumbo-1000-Watt-...              6987.0   \n",
       "\n",
       "     clean_rating  \n",
       "0              42  \n",
       "1              40  \n",
       "2              39  \n",
       "3              42  \n",
       "4              42  \n",
       "...           ...  \n",
       "1460            4  \n",
       "1461           41  \n",
       "1462           36  \n",
       "1463            4  \n",
       "1464           43  \n",
       "\n",
       "[1465 rows x 18 columns]"
      ]
     },
     "execution_count": 110,
     "metadata": {},
     "output_type": "execute_result"
    }
   ],
   "source": [
    "df ['clean_rating'] = df['rating'].apply(clean_rating_column)\n",
    "df"
   ]
  },
  {
   "cell_type": "code",
   "execution_count": 111,
   "metadata": {},
   "outputs": [
    {
     "name": "stdout",
     "output_type": "stream",
     "text": [
      "<class 'pandas.core.frame.DataFrame'>\n",
      "RangeIndex: 1465 entries, 0 to 1464\n",
      "Data columns (total 18 columns):\n",
      " #   Column               Non-Null Count  Dtype  \n",
      "---  ------               --------------  -----  \n",
      " 0   product_id           1465 non-null   object \n",
      " 1   product_name         1465 non-null   object \n",
      " 2   category             1465 non-null   object \n",
      " 3   discounted_price     1465 non-null   object \n",
      " 4   actual_price         1465 non-null   object \n",
      " 5   discount_percentage  1465 non-null   object \n",
      " 6   rating               1465 non-null   object \n",
      " 7   rating_count         1463 non-null   object \n",
      " 8   about_product        1465 non-null   object \n",
      " 9   user_id              1465 non-null   object \n",
      " 10  user_name            1465 non-null   object \n",
      " 11  review_id            1465 non-null   object \n",
      " 12  review_title         1465 non-null   object \n",
      " 13  review_content       1465 non-null   object \n",
      " 14  img_link             1465 non-null   object \n",
      " 15  product_link         1465 non-null   object \n",
      " 16  clean_rating_count   1463 non-null   float64\n",
      " 17  clean_rating         1465 non-null   object \n",
      "dtypes: float64(1), object(17)\n",
      "memory usage: 206.1+ KB\n"
     ]
    }
   ],
   "source": [
    "df.info()"
   ]
  },
  {
   "cell_type": "code",
   "execution_count": 117,
   "metadata": {},
   "outputs": [
    {
     "data": {
      "text/html": [
       "<div>\n",
       "<style scoped>\n",
       "    .dataframe tbody tr th:only-of-type {\n",
       "        vertical-align: middle;\n",
       "    }\n",
       "\n",
       "    .dataframe tbody tr th {\n",
       "        vertical-align: top;\n",
       "    }\n",
       "\n",
       "    .dataframe thead th {\n",
       "        text-align: right;\n",
       "    }\n",
       "</style>\n",
       "<table border=\"1\" class=\"dataframe\">\n",
       "  <thead>\n",
       "    <tr style=\"text-align: right;\">\n",
       "      <th></th>\n",
       "      <th>index</th>\n",
       "      <th>product_id</th>\n",
       "      <th>product_name</th>\n",
       "      <th>category</th>\n",
       "      <th>discounted_price</th>\n",
       "      <th>actual_price</th>\n",
       "      <th>discount_percentage</th>\n",
       "      <th>rating</th>\n",
       "      <th>rating_count</th>\n",
       "      <th>about_product</th>\n",
       "      <th>...</th>\n",
       "      <th>review_title</th>\n",
       "      <th>review_content</th>\n",
       "      <th>img_link</th>\n",
       "      <th>product_link</th>\n",
       "      <th>clean_rating_count</th>\n",
       "      <th>clean_rating</th>\n",
       "      <th>clean_discounted_price</th>\n",
       "      <th>clean_actual_price</th>\n",
       "      <th>clean_discount_percentage</th>\n",
       "      <th>price_bins</th>\n",
       "    </tr>\n",
       "  </thead>\n",
       "  <tbody>\n",
       "    <tr>\n",
       "      <th>0</th>\n",
       "      <td>249</td>\n",
       "      <td>B09WN3SRC7</td>\n",
       "      <td>Sony Bravia 164 cm (65 inches) 4K Ultra HD Sma...</td>\n",
       "      <td>Electronics|HomeTheater,TV&amp;Video|Televisions|S...</td>\n",
       "      <td>₹77,990</td>\n",
       "      <td>₹1,39,900</td>\n",
       "      <td>44%</td>\n",
       "      <td>4.7</td>\n",
       "      <td>5,935</td>\n",
       "      <td>Resolution: 4K Ultra HD (3840 x 2160) | Refres...</td>\n",
       "      <td>...</td>\n",
       "      <td>Product installation was excellent  but delive...</td>\n",
       "      <td>The delivery people were not careful with the ...</td>\n",
       "      <td>https://m.media-amazon.com/images/I/51uVckL1jR...</td>\n",
       "      <td>https://www.amazon.in/Sony-Bravia-inches-Googl...</td>\n",
       "      <td>5935.0</td>\n",
       "      <td>47</td>\n",
       "      <td>77990.0</td>\n",
       "      <td>139900.0</td>\n",
       "      <td>44.0</td>\n",
       "      <td>very expensive</td>\n",
       "    </tr>\n",
       "    <tr>\n",
       "      <th>1</th>\n",
       "      <td>255</td>\n",
       "      <td>B0BC8BQ432</td>\n",
       "      <td>VU 164 cm (65 inches) The GloLED Series 4K Sma...</td>\n",
       "      <td>Electronics|HomeTheater,TV&amp;Video|Televisions|S...</td>\n",
       "      <td>₹54,990</td>\n",
       "      <td>₹85,000</td>\n",
       "      <td>35%</td>\n",
       "      <td>4.3</td>\n",
       "      <td>3,587</td>\n",
       "      <td>Resolution: 4K Ultra HD (3840x2160) | Refresh ...</td>\n",
       "      <td>...</td>\n",
       "      <td>Good TV for the price. (But my experience was ...</td>\n",
       "      <td>,Screen quality is good.It's been a month I bo...</td>\n",
       "      <td>https://m.media-amazon.com/images/W/WEBP_40237...</td>\n",
       "      <td>https://www.amazon.in/VU-inches-GloLED-Google-...</td>\n",
       "      <td>3587.0</td>\n",
       "      <td>43</td>\n",
       "      <td>54990.0</td>\n",
       "      <td>85000.0</td>\n",
       "      <td>35.0</td>\n",
       "      <td>expensive</td>\n",
       "    </tr>\n",
       "    <tr>\n",
       "      <th>2</th>\n",
       "      <td>283</td>\n",
       "      <td>B0B3XXSB1K</td>\n",
       "      <td>LG 139 cm (55 inches) 4K Ultra HD Smart LED TV...</td>\n",
       "      <td>Electronics|HomeTheater,TV&amp;Video|Televisions|S...</td>\n",
       "      <td>₹47,990</td>\n",
       "      <td>₹79,990</td>\n",
       "      <td>40%</td>\n",
       "      <td>4.3</td>\n",
       "      <td>1,376</td>\n",
       "      <td>Resolution: 4K Ultra HD (3840x2160) | Refresh ...</td>\n",
       "      <td>...</td>\n",
       "      <td>Love Amazon but lg is misleading,Amazing produ...</td>\n",
       "      <td>There's no magic remote and lg should include ...</td>\n",
       "      <td>https://m.media-amazon.com/images/W/WEBP_40237...</td>\n",
       "      <td>https://www.amazon.in/LG-inches-Ultra-55UQ7500...</td>\n",
       "      <td>1376.0</td>\n",
       "      <td>43</td>\n",
       "      <td>47990.0</td>\n",
       "      <td>79990.0</td>\n",
       "      <td>40.0</td>\n",
       "      <td>moderate</td>\n",
       "    </tr>\n",
       "    <tr>\n",
       "      <th>3</th>\n",
       "      <td>1354</td>\n",
       "      <td>B09NS5TKPN</td>\n",
       "      <td>LG 1.5 Ton 5 Star AI DUAL Inverter Split AC (C...</td>\n",
       "      <td>Home&amp;Kitchen|Heating,Cooling&amp;AirQuality|AirCon...</td>\n",
       "      <td>₹42,990</td>\n",
       "      <td>₹75,990</td>\n",
       "      <td>43%</td>\n",
       "      <td>4.3</td>\n",
       "      <td>3,231</td>\n",
       "      <td>Split AC with inverter compressor: variable sp...</td>\n",
       "      <td>...</td>\n",
       "      <td>Very nice,Efficient but little costly.,Good pr...</td>\n",
       "      <td>Very nice,Efficiency is good , cost is little ...</td>\n",
       "      <td>https://m.media-amazon.com/images/I/21ywp-zfTj...</td>\n",
       "      <td>https://www.amazon.in/LG-Convertible-Anti-Viru...</td>\n",
       "      <td>3231.0</td>\n",
       "      <td>43</td>\n",
       "      <td>42990.0</td>\n",
       "      <td>75990.0</td>\n",
       "      <td>43.0</td>\n",
       "      <td>moderate</td>\n",
       "    </tr>\n",
       "    <tr>\n",
       "      <th>4</th>\n",
       "      <td>568</td>\n",
       "      <td>B08VB57558</td>\n",
       "      <td>Samsung Galaxy S20 FE 5G (Cloud Navy, 8GB RAM,...</td>\n",
       "      <td>Electronics|Mobiles&amp;Accessories|Smartphones&amp;Ba...</td>\n",
       "      <td>₹37,990</td>\n",
       "      <td>₹74,999</td>\n",
       "      <td>49%</td>\n",
       "      <td>4.2</td>\n",
       "      <td>27,790</td>\n",
       "      <td>5G Ready powered by Qualcomm Snapdragon 865 Oc...</td>\n",
       "      <td>...</td>\n",
       "      <td>WORTH BUY ! THE BEST,Good for the price.</td>\n",
       "      <td>It's been 15 days since i using the device ext...</td>\n",
       "      <td>https://m.media-amazon.com/images/I/41ezRvTwca...</td>\n",
       "      <td>https://www.amazon.in/Samsung-Galaxy-Cloud-128...</td>\n",
       "      <td>27790.0</td>\n",
       "      <td>42</td>\n",
       "      <td>37990.0</td>\n",
       "      <td>74999.0</td>\n",
       "      <td>49.0</td>\n",
       "      <td>moderate</td>\n",
       "    </tr>\n",
       "  </tbody>\n",
       "</table>\n",
       "<p>5 rows × 23 columns</p>\n",
       "</div>"
      ],
      "text/plain": [
       "   index  product_id                                       product_name  \\\n",
       "0    249  B09WN3SRC7  Sony Bravia 164 cm (65 inches) 4K Ultra HD Sma...   \n",
       "1    255  B0BC8BQ432  VU 164 cm (65 inches) The GloLED Series 4K Sma...   \n",
       "2    283  B0B3XXSB1K  LG 139 cm (55 inches) 4K Ultra HD Smart LED TV...   \n",
       "3   1354  B09NS5TKPN  LG 1.5 Ton 5 Star AI DUAL Inverter Split AC (C...   \n",
       "4    568  B08VB57558  Samsung Galaxy S20 FE 5G (Cloud Navy, 8GB RAM,...   \n",
       "\n",
       "                                            category discounted_price  \\\n",
       "0  Electronics|HomeTheater,TV&Video|Televisions|S...          ₹77,990   \n",
       "1  Electronics|HomeTheater,TV&Video|Televisions|S...          ₹54,990   \n",
       "2  Electronics|HomeTheater,TV&Video|Televisions|S...          ₹47,990   \n",
       "3  Home&Kitchen|Heating,Cooling&AirQuality|AirCon...          ₹42,990   \n",
       "4  Electronics|Mobiles&Accessories|Smartphones&Ba...          ₹37,990   \n",
       "\n",
       "  actual_price discount_percentage rating rating_count  \\\n",
       "0    ₹1,39,900                 44%    4.7        5,935   \n",
       "1      ₹85,000                 35%    4.3        3,587   \n",
       "2      ₹79,990                 40%    4.3        1,376   \n",
       "3      ₹75,990                 43%    4.3        3,231   \n",
       "4      ₹74,999                 49%    4.2       27,790   \n",
       "\n",
       "                                       about_product  ...  \\\n",
       "0  Resolution: 4K Ultra HD (3840 x 2160) | Refres...  ...   \n",
       "1  Resolution: 4K Ultra HD (3840x2160) | Refresh ...  ...   \n",
       "2  Resolution: 4K Ultra HD (3840x2160) | Refresh ...  ...   \n",
       "3  Split AC with inverter compressor: variable sp...  ...   \n",
       "4  5G Ready powered by Qualcomm Snapdragon 865 Oc...  ...   \n",
       "\n",
       "                                        review_title  \\\n",
       "0  Product installation was excellent  but delive...   \n",
       "1  Good TV for the price. (But my experience was ...   \n",
       "2  Love Amazon but lg is misleading,Amazing produ...   \n",
       "3  Very nice,Efficient but little costly.,Good pr...   \n",
       "4           WORTH BUY ! THE BEST,Good for the price.   \n",
       "\n",
       "                                      review_content  \\\n",
       "0  The delivery people were not careful with the ...   \n",
       "1  ,Screen quality is good.It's been a month I bo...   \n",
       "2  There's no magic remote and lg should include ...   \n",
       "3  Very nice,Efficiency is good , cost is little ...   \n",
       "4  It's been 15 days since i using the device ext...   \n",
       "\n",
       "                                            img_link  \\\n",
       "0  https://m.media-amazon.com/images/I/51uVckL1jR...   \n",
       "1  https://m.media-amazon.com/images/W/WEBP_40237...   \n",
       "2  https://m.media-amazon.com/images/W/WEBP_40237...   \n",
       "3  https://m.media-amazon.com/images/I/21ywp-zfTj...   \n",
       "4  https://m.media-amazon.com/images/I/41ezRvTwca...   \n",
       "\n",
       "                                        product_link clean_rating_count  \\\n",
       "0  https://www.amazon.in/Sony-Bravia-inches-Googl...             5935.0   \n",
       "1  https://www.amazon.in/VU-inches-GloLED-Google-...             3587.0   \n",
       "2  https://www.amazon.in/LG-inches-Ultra-55UQ7500...             1376.0   \n",
       "3  https://www.amazon.in/LG-Convertible-Anti-Viru...             3231.0   \n",
       "4  https://www.amazon.in/Samsung-Galaxy-Cloud-128...            27790.0   \n",
       "\n",
       "  clean_rating clean_discounted_price  clean_actual_price  \\\n",
       "0           47                77990.0            139900.0   \n",
       "1           43                54990.0             85000.0   \n",
       "2           43                47990.0             79990.0   \n",
       "3           43                42990.0             75990.0   \n",
       "4           42                37990.0             74999.0   \n",
       "\n",
       "  clean_discount_percentage      price_bins  \n",
       "0                      44.0  very expensive  \n",
       "1                      35.0       expensive  \n",
       "2                      40.0        moderate  \n",
       "3                      43.0        moderate  \n",
       "4                      49.0        moderate  \n",
       "\n",
       "[5 rows x 23 columns]"
      ]
     },
     "execution_count": 117,
     "metadata": {},
     "output_type": "execute_result"
    }
   ],
   "source": [
    "def clean_actual_price_column(price):\n",
    "    if isinstance(price, str):\n",
    "        price = price.replace(',', '').replace('₹','')\n",
    "        price = float(price)\n",
    "        return price\n",
    "    return price\n",
    "\n",
    "def clean_discounted_price_column(price):\n",
    "    if isinstance(price, str):\n",
    "        price = price.replace(',', '').replace('₹','')\n",
    "        price = float(price)\n",
    "        return price\n",
    "    return price \n",
    "\n",
    "def clean_discounted_percentage(discount):\n",
    "    if isinstance(discount, str):\n",
    "        discount = discount.replace('%','')\n",
    "        discount = float(discount)\n",
    "        return discount\n",
    "    return discount\n",
    "\n",
    "def clean_rating_column(rating):\n",
    "    if isinstance(rating, str):\n",
    "        rating = rating.replace('.', '')\n",
    "        return rating\n",
    "    return rating\n",
    "\n",
    "def clean_rating_count(rating_count):\n",
    "    if isinstance(rating_count, str):\n",
    "        rating_count = rating_count.replace(',', '')\n",
    "        rating_count = float(rating_count)\n",
    "        return rating_count\n",
    "    return rating_count\n",
    "df['clean_discounted_price'] = df['discounted_price'].apply(clean_discounted_price_column)\n",
    "df['clean_actual_price'] = df['actual_price'].apply(clean_actual_price_column)\n",
    "df['clean_discount_percentage'] = df['discount_percentage'].apply(clean_discounted_percentage)\n",
    "df['clean_rating_count'] = df['rating_count'].apply(clean_rating_count)\n",
    "df.head()"
   ]
  },
  {
   "cell_type": "code",
   "execution_count": 113,
   "metadata": {},
   "outputs": [],
   "source": [
    "#univariate graph\n",
    "import plotly.express as px"
   ]
  },
  {
   "cell_type": "code",
   "execution_count": 114,
   "metadata": {},
   "outputs": [
    {
     "data": {
      "application/vnd.plotly.v1+json": {
       "config": {
        "plotlyServerURL": "https://plot.ly"
       },
       "data": [
        {
         "alignmentgroup": "True",
         "hovertemplate": "<b>%{hovertext}</b><br><br>_index=%{x}<br>clean_actual_price=%{marker.color}<extra></extra>",
         "hovertext": [
          "Sony Bravia 164 cm (65 inches) 4K Ultra HD Smart LED Google TV KD-65X74K (Black)",
          "VU 164 cm (65 inches) The GloLED Series 4K Smart LED Google TV 65GloLED (Grey)",
          "LG 139 cm (55 inches) 4K Ultra HD Smart LED TV 55UQ7500PSF (Ceramic Black)",
          "LG 1.5 Ton 5 Star AI DUAL Inverter Split AC (Copper, Super Convertible 6-in-1 Cooling, HD Filter with Anti-Virus Protection, 2022 Model, PS-Q19YNZE, White)",
          "Samsung Galaxy S20 FE 5G (Cloud Navy, 8GB RAM, 128GB Storage) with No Cost EMI & Additional Exchange Offers",
          "Samsung 138 cm (55 inches) Crystal 4K Neo Series Ultra HD Smart LED TV UA55AUE65AKXXL (Black)",
          "OnePlus 163.8 cm (65 inches) U Series 4K LED Smart Android TV 65U1S (Black)",
          "MI 138.8 cm (55 inches) 5X Series 4K Ultra HD LED Smart Android TV L55M6-ES (Grey)",
          "Samsung 138 cm (55 inches) Crystal 4K Series Ultra HD Smart LED TV UA55AUE60AKLXL (Black)",
          "VU 139 cm (55 inches) The GloLED Series 4K Smart LED Google TV 55GloLED (Grey)",
          "VU 138 cm (55 inches) Premium Series 4K Ultra HD Smart IPS LED TV 55UT (Black)",
          "OnePlus 138.7 cm (55 inches) U Series 4K LED Smart Android TV 55U1S (Black)",
          "ECOVACS DEEBOT N8 2-in-1 Robotic Vacuum Cleaner, 2022 New Launch, Most Powerful Suction, Covers 2000+ Sq. Ft in One Charge, Advanced dToF Technology with OZMO Mopping (DEEBOT N8) - White",
          "Coway Professional Air Purifier for Home, Longest Filter Life 8500 Hrs, Green True HEPA Filter, Traps 99.99% Virus & PM 0.1 Particles, Warranty 7 Years (AirMega 150 (AP-1019C))",
          "Lenovo IdeaPad 3 11th Gen Intel Core i3 15.6\" FHD Thin & Light Laptop(8GB/512GB SSD/Windows 11/Office 2021/2Yr Warranty/3months Xbox Game Pass/Platinum Grey/1.7Kg), 81X800LGIN",
          "Sansui 140cm (55 inches) 4K Ultra HD Certified Android LED TV with Dolby Audio & Dolby Vision JSW55ASUHD (Mystique Black)",
          "Hisense 126 cm (50 inches) Bezelless Series 4K Ultra HD Smart LED Google TV 50A6H (Black)",
          "Samsung 108 cm (43 inches) Crystal 4K Series Ultra HD Smart LED TV UA43AUE60AKLXL (Black)",
          "TCL 108 cm (43 inches) 4K Ultra HD Certified Android Smart LED TV 43P615 (Black)",
          "Kodak 139 cm (55 inches) 4K Ultra HD Smart LED TV 55CA0909 (Black)",
          "AmazonBasics 108 cm (43 inches) 4K Ultra HD Smart LED Fire TV AB43U20PS (Black)",
          "OnePlus 10T 5G (Moonstone Black, 8GB RAM, 128GB Storage)",
          "MI 108 cm (43 inches) 5X Series 4K Ultra HD LED Smart Android TV L43M6-ES (Grey)",
          "LG 108 cm (43 inches) 4K Ultra HD Smart LED TV 43UQ7500PSF (Ceramic Black)",
          "Acer 139 cm (55 inches) H Series 4K Ultra HD Android Smart LED TV AR55AR2851UDPRO (Black)",
          "Acer 139 cm (55 inches) I Series 4K Ultra HD Android Smart LED TV AR55AR2851UDFL (Black)",
          "Samsung 108 cm (43 inches) Crystal 4K Neo Series Ultra HD Smart LED TV UA43AUE65AKXXL (Black)",
          "OnePlus 126 cm (50 inches) Y Series 4K Ultra HD Smart Android LED TV 50Y1S Pro (Black)",
          "Redmi 126 cm (50 inches) 4K Ultra HD Android Smart LED TV X50 | L50M6-RA (Black)",
          "Hisense 108 cm (43 inches) 4K Ultra HD Smart Certified Android LED TV 43A6GE (Black)",
          "Kodak 126 cm (50 inches) Bezel-Less Design Series 4K Ultra HD Smart Android LED TV 50UHDX7XPROBL (Black)",
          "Redmi 108 cm (43 inches) 4K Ultra HD Android Smart LED TV X43 | L43R7-7AIN (Black)",
          "TCL 100 cm (40 inches) Full HD Certified Android R Smart LED TV 40S6505 (Black)",
          "Acer 127 cm (50 inches) I Series 4K Ultra HD Android Smart LED TV AR50AR2851UDFL (Black)",
          "OnePlus 108 cm (43 inches) Y Series 4K Ultra HD Smart Android LED TV 43Y1S Pro (Black)",
          "iQOO 9 SE 5G (Sunset Sierra, 8GB RAM, 128GB Storage) | Qualcomm Snapdragon 888 | 66W Flash Charge",
          "OnePlus 10R 5G (Forest Green, 8GB RAM, 128GB Storage, 80W SuperVOOC)",
          "Xiaomi Pad 5| Qualcomm Snapdragon 860| 120Hz Refresh Rate| 6GB, 128GB| 2.5K+ Display (10.95-inch/27.81cm)|1 Billion Colours| Dolby Vision Atmos| Quad Speakers| Wi-Fi| Gray",
          "MI 108 cm (43 inches) 5A Series Full HD Smart Android LED TV L43M7-EAIN (Black)",
          "VU 108 cm (43 inches) Premium Series Full HD Smart LED TV 43GA (Black)",
          "iQOO Neo 6 5G (Dark Nova, 8GB RAM, 128GB Storage) | Snapdragon® 870 5G | 80W FlashCharge",
          "Mi 108 cm (43 inches) Full HD Android LED TV 4C | L43M6-INC (Black)",
          "Toshiba 108 cm (43 inches) V Series Full HD Smart Android LED TV 43V35KP (Silver)",
          "Acer 109 cm (43 inches) I Series 4K Ultra HD Android Smart LED TV AR43AR2851UDFL (Black)",
          "OnePlus Nord 2T 5G (Jade Fog, 12GB RAM, 256GB Storage)",
          "Samsung Galaxy M53 5G (Deep Ocean Blue, 6GB, 128GB Storage) | 108MP | sAmoled+ 120Hz | 12GB RAM with RAM Plus | Travel Adapter to be Purchased Separately",
          "SanDisk 1TB Extreme Portable SSD 1050MB/s R, 1000MB/s W,Upto 2 Meter Drop Protection with IP55 Water/dust Resistance, HW Encryption, PC,MAC & TypeC Smartphone Compatible, 5Y Warranty, External SSD",
          "OnePlus 108 cm (43 inches) Y Series Full HD Smart Android LED TV 43 Y1S (Black)",
          "TCL 80 cm (32 inches) HD Ready Certified Android Smart LED TV 32S615 (Black)",
          "TCL 80 cm (32 inches) HD Ready Certified Android Smart LED TV 32S5205 (Black)",
          "Mi 100 cm (40 inches) Horizon Edition Full HD Android LED TV 4A | L40M6-EI (Black)",
          "Samsung Galaxy Watch4 Bluetooth(4.4 cm, Black, Compatible with Android only)",
          "MI 100 cm (40 inches) 5A Series Full HD Smart Android LED TV with 24W Dolby Audio & Metal Bezel-Less Frame (Black) (2022 Model)",
          "Mi Robot Vacuum-Mop P, Best-in-class Laser Navigation in 10-20K INR price band, Intelligent mapping, Robotic Floor Cleaner with 2 in 1 Mopping and Vacuum, App Control (WiFi, Alexa,GA), Strong suction",
          "iQOO Z6 Pro 5G by vivo (Phantom Dusk, 8GB RAM, 128GB Storage) | Snapdragon 778G 5G | 66W FlashCharge | 1300 nits Peak Brightness | HDR10+",
          "iQOO Z6 Pro 5G by vivo (Legion Sky, 8GB RAM, 128GB Storage) | Snapdragon 778G 5G | 66W FlashCharge | 1300 nits Peak Brightness | HDR10+",
          "OnePlus Nord 2T 5G (Jade Fog, 8GB RAM, 128GB Storage)",
          "Redmi Note 11 Pro + 5G (Stealth Black, 8GB RAM, 256GB Storage) | 67W Turbo Charge | 120Hz Super AMOLED Display | Additional Exchange Offers | Charger Included",
          "OnePlus Nord 2T 5G (Gray Shadow, 8GB RAM, 128GB Storage)",
          "WANBO X1 Pro (Upgraded) | Native 1080P Full HD | Android 9 | Projector for Home | LED Cinema | 350ANSI | 3900 lumens | WiFi Bluetooth | HDMI ARC | Dolby DTS | 4D Keystone Correction (Global Version)",
          "iQOO Z6 Pro 5G by vivo (Legion Sky, 6GB RAM, 128GB Storage) | Snapdragon 778G 5G | 66W FlashCharge | 1300 nits Peak Brightness | HDR10+",
          "iFFALCON 80 cm (32 inches) HD Ready Smart LED TV 32F53 (Black)",
          "Redmi Note 11 Pro + 5G (Phantom White, 8GB RAM, 128GB Storage) | 67W Turbo Charge | 120Hz Super AMOLED Display | Additional Exchange Offers | Charger Included",
          "Samsung Galaxy M33 5G (Mystique Green, 8GB, 128GB Storage) | 6000mAh Battery | Upto 16GB RAM with RAM Plus | Travel Adapter to be Purchased Separately",
          "MI 80 cm (32 inches) HD Ready Smart Android LED TV 5A Pro | L32M7-EAIN (Black)",
          "Redmi Note 11 Pro + 5G (Stealth Black, 6GB RAM, 128GB Storage) | 67W Turbo Charge | 120Hz Super AMOLED Display | Additional Exchange Offers | Charger Included",
          "Samsung Galaxy M33 5G (Emerald Brown, 6GB, 128GB Storage) | 6000mAh Battery | Upto 12GB RAM with RAM Plus | Travel Adapter to be Purchased Separately",
          "Redmi 80 cm (32 inches) Android 11 Series HD Ready Smart LED TV | L32M6-RA/L32M7-RA (Black)",
          "Aquadpure Copper + Mineral RO+UV+UF 10 to 12 Liter RO + UV + TDS ADJUSTER Water Purifier with Copper Charge Technology black & copper Best For Home and Office (Made In India)",
          "Aqua d pure Active Copper 12-L RO+UV Water Filter Purifier for Home, Kitchen Fully Automatic UF+TDS Controller",
          "Samsung Galaxy M33 5G (Emerald Brown, 6GB, 128GB Storage) | 6000mAh Battery | Upto 12GB RAM with RAM Plus | Travel Adapter to be Purchased Separately",
          "Redmi 80 cm (32 inches) Android 11 Series HD Ready Smart LED TV | L32M6-RA/L32M7-RA (Black)",
          "MI 80 cm (32 inches) 5A Series HD Ready Smart Android LED TV L32M7-5AIN (Black)",
          "Acer 100 cm (40 inches) P Series Full HD Android Smart LED TV AR40AR2841FDFL (Black)",
          "HUL Pureit Eco Water Saver Mineral RO+UV+MF AS wall mounted/Counter top Black 10L Water Purifier",
          "Aquaguard Aura RO+UV+UF+Taste Adjuster(MTDS) with Active Copper & Zinc 7L water purifier,8 stages of purification,suitable for borewell,tanker,municipal water(Black) from Eureka Forbes",
          "AGARO Imperial 240-Watt Slow Juicer with Cold Press Technology",
          "LG 80 cm (32 inches) HD Ready Smart LED TV 32LQ576BPSA (Ceramic Black)",
          "Philips Air Purifier Ac2887/20,Vitashield Intelligent Purification,Long Hepa Filter Life Upto 17000 Hours,Removes 99.9% Airborne Viruses & Bacteria,99.97% Airborne Pollutants,Ideal For Master Bedroom",
          "Acer 80 cm (32 inches) S Series HD Ready Android Smart LED TV AR32AR2841HDSB (Black)",
          "Samsung 80 cm (32 Inches) Wondertainment Series HD Ready LED Smart TV UA32T4340BKXXL (Glossy Black)",
          "Samsung 80 cm (32 Inches) Wondertainment Series HD Ready LED Smart TV UA32T4340BKXXL (Glossy Black)",
          "OnePlus 80 cm (32 inches) Y Series HD Ready Smart Android LED TV 32 Y1S (Black)",
          "LG 80 cm (32 inches) HD Ready Smart LED TV 32LM563BPTC (Dark Iron Gray)",
          "iQOO vivo Z6 5G (Chromatic Blue, 8GB RAM, 128GB Storage) | Snapdragon 695-6nm Processor | 120Hz FHD+ Display | 5000mAh Battery",
          "LG 80 cm (32 inches) HD Ready Smart LED TV 32LM563BPTC (Dark Iron Gray)",
          "iQOO Z6 44W by vivo (Raven Black, 6GB RAM, 128GB Storage) | 6.44\" FHD+ AMOLED Display | 50% Charge in just 27 mins | in-Display Fingerprint Scanning",
          "iQOO vivo Z6 5G (Chromatic Blue, 6GB RAM, 128GB Storage) | Snapdragon 695-6nm Processor | 120Hz FHD+ Display | 5000mAh Battery",
          "Redmi Note 11T 5G (Stardust White, 6GB RAM, 128GB ROM)| Dimensity 810 5G | 33W Pro Fast Charging | Charger Included | Additional Exchange Offers|Get 2 Months of YouTube Premium Free!",
          "iQOO Z6 44W by vivo (Lumina Blue, 6GB RAM, 128GB Storage) | 6.44\" FHD+ AMOLED Display | 50% Charge in just 27 mins | in-Display Fingerprint Scanning",
          "Redmi Note 11T 5G (Aquamarine Blue, 6GB RAM, 128GB ROM)| Dimensity 810 5G | 33W Pro Fast Charging | Charger Included | Additional Exchange Offers| Get 2 Months of YouTube Premium Free!",
          "Redmi Note 11T 5G (Matte Black, 6GB RAM, 128GB ROM)| Dimensity 810 5G | 33W Pro Fast Charging | Charger Included | Additional Exchange Offers|Get 2 Months of YouTube Premium Free!",
          "OPPO A74 5G (Fantastic Purple,6GB RAM,128GB Storage) with No Cost EMI/Additional Exchange Offers",
          "iQOO vivo Z6 5G (Dynamo Black, 6GB RAM, 128GB Storage) | Snapdragon 695-6nm Processor | 120Hz FHD+ Display | 5000mAh Battery",
          "OPPO A74 5G (Fluid Black, 6GB RAM, 128GB Storage) with No Cost EMI/Additional Exchange Offers",
          "Samsung 80 cm (32 inches) Wondertainment Series HD Ready LED Smart TV UA32TE40AAKBXL (Titan Gray)",
          "Instant Pot Air Fryer, Vortex 2QT, Touch Control Panel, 360° EvenCrisp™ Technology, Uses 95 % less Oil, 4-in-1 Appliance: Air Fry, Roast, Bake, Reheat (Vortex 1.97Litre, Black)",
          "Croma 80 cm (32 Inches) HD Ready LED TV (CREL7369, Black) (2021 Model)",
          "Fire-Boltt Ninja Call Pro Plus 1.83\" Smart Watch with Bluetooth Calling, AI Voice Assistance, 100 Sports Modes IP67 Rating, 240*280 Pixel High Resolution",
          "Fire-Boltt Ninja Call Pro Plus 1.83\" Smart Watch with Bluetooth Calling, AI Voice Assistance, 100 Sports Modes IP67 Rating, 240*280 Pixel High Resolution"
         ],
         "legendgroup": "",
         "marker": {
          "color": [
           139900,
           85000,
           79990,
           75990,
           74999,
           70900,
           69999,
           69999,
           69900,
           65000,
           65000,
           59999,
           59900,
           59900,
           59890,
           56790,
           54990,
           52900,
           51990,
           50999,
           50000,
           49999,
           49999,
           49990,
           49990,
           47990,
           47900,
           45999,
           44999,
           44990,
           42999,
           42999,
           40990,
           40990,
           39999,
           39990,
           38999,
           37999,
           35999,
           35000,
           34999,
           34999,
           34990,
           34990,
           33999,
           32999,
           32000,
           31999,
           31990,
           30990,
           29999,
           29999,
           29999,
           29999,
           29990,
           29990,
           28999,
           28999,
           28999,
           28900,
           27990,
           27990,
           26999,
           25999,
           25999,
           24999,
           24999,
           24999,
           24999,
           24999,
           24999,
           24999,
           24999,
           24990,
           24850,
           24500,
           23999,
           23990,
           23559,
           22990,
           22900,
           22900,
           21999,
           21990,
           21990,
           21990,
           20999,
           20999,
           20999,
           20999,
           20999,
           20999,
           20990,
           20990,
           20990,
           20900,
           20049,
           20000,
           19999,
           19999
          ],
          "coloraxis": "coloraxis",
          "pattern": {
           "shape": ""
          }
         },
         "name": "",
         "offsetgroup": "",
         "orientation": "v",
         "showlegend": false,
         "textposition": "auto",
         "type": "bar",
         "x": [
          0,
          1,
          2,
          3,
          4,
          5,
          6,
          7,
          8,
          9,
          10,
          11,
          12,
          13,
          14,
          15,
          16,
          17,
          18,
          19,
          20,
          21,
          22,
          23,
          24,
          25,
          26,
          27,
          28,
          29,
          30,
          31,
          32,
          33,
          34,
          35,
          36,
          37,
          38,
          39,
          40,
          41,
          42,
          43,
          44,
          45,
          46,
          47,
          48,
          49,
          50,
          51,
          52,
          53,
          54,
          55,
          56,
          57,
          58,
          59,
          60,
          61,
          62,
          63,
          64,
          65,
          66,
          67,
          68,
          69,
          70,
          71,
          72,
          73,
          74,
          75,
          76,
          77,
          78,
          79,
          80,
          81,
          82,
          83,
          84,
          85,
          86,
          87,
          88,
          89,
          90,
          91,
          92,
          93,
          94,
          95,
          96,
          97,
          98,
          99
         ],
         "xaxis": "x",
         "y": [
          139900,
          85000,
          79990,
          75990,
          74999,
          70900,
          69999,
          69999,
          69900,
          65000,
          65000,
          59999,
          59900,
          59900,
          59890,
          56790,
          54990,
          52900,
          51990,
          50999,
          50000,
          49999,
          49999,
          49990,
          49990,
          47990,
          47900,
          45999,
          44999,
          44990,
          42999,
          42999,
          40990,
          40990,
          39999,
          39990,
          38999,
          37999,
          35999,
          35000,
          34999,
          34999,
          34990,
          34990,
          33999,
          32999,
          32000,
          31999,
          31990,
          30990,
          29999,
          29999,
          29999,
          29999,
          29990,
          29990,
          28999,
          28999,
          28999,
          28900,
          27990,
          27990,
          26999,
          25999,
          25999,
          24999,
          24999,
          24999,
          24999,
          24999,
          24999,
          24999,
          24999,
          24990,
          24850,
          24500,
          23999,
          23990,
          23559,
          22990,
          22900,
          22900,
          21999,
          21990,
          21990,
          21990,
          20999,
          20999,
          20999,
          20999,
          20999,
          20999,
          20990,
          20990,
          20990,
          20900,
          20049,
          20000,
          19999,
          19999
         ],
         "yaxis": "y"
        }
       ],
       "layout": {
        "barmode": "relative",
        "coloraxis": {
         "colorbar": {
          "title": {
           "text": "clean_actual_price"
          }
         },
         "colorscale": [
          [
           0,
           "#0d0887"
          ],
          [
           0.1111111111111111,
           "#46039f"
          ],
          [
           0.2222222222222222,
           "#7201a8"
          ],
          [
           0.3333333333333333,
           "#9c179e"
          ],
          [
           0.4444444444444444,
           "#bd3786"
          ],
          [
           0.5555555555555556,
           "#d8576b"
          ],
          [
           0.6666666666666666,
           "#ed7953"
          ],
          [
           0.7777777777777778,
           "#fb9f3a"
          ],
          [
           0.8888888888888888,
           "#fdca26"
          ],
          [
           1,
           "#f0f921"
          ]
         ]
        },
        "height": 800,
        "legend": {
         "tracegroupgap": 0
        },
        "margin": {
         "t": 60
        },
        "template": {
         "data": {
          "bar": [
           {
            "error_x": {
             "color": "#2a3f5f"
            },
            "error_y": {
             "color": "#2a3f5f"
            },
            "marker": {
             "line": {
              "color": "#E5ECF6",
              "width": 0.5
             },
             "pattern": {
              "fillmode": "overlay",
              "size": 10,
              "solidity": 0.2
             }
            },
            "type": "bar"
           }
          ],
          "barpolar": [
           {
            "marker": {
             "line": {
              "color": "#E5ECF6",
              "width": 0.5
             },
             "pattern": {
              "fillmode": "overlay",
              "size": 10,
              "solidity": 0.2
             }
            },
            "type": "barpolar"
           }
          ],
          "carpet": [
           {
            "aaxis": {
             "endlinecolor": "#2a3f5f",
             "gridcolor": "white",
             "linecolor": "white",
             "minorgridcolor": "white",
             "startlinecolor": "#2a3f5f"
            },
            "baxis": {
             "endlinecolor": "#2a3f5f",
             "gridcolor": "white",
             "linecolor": "white",
             "minorgridcolor": "white",
             "startlinecolor": "#2a3f5f"
            },
            "type": "carpet"
           }
          ],
          "choropleth": [
           {
            "colorbar": {
             "outlinewidth": 0,
             "ticks": ""
            },
            "type": "choropleth"
           }
          ],
          "contour": [
           {
            "colorbar": {
             "outlinewidth": 0,
             "ticks": ""
            },
            "colorscale": [
             [
              0,
              "#0d0887"
             ],
             [
              0.1111111111111111,
              "#46039f"
             ],
             [
              0.2222222222222222,
              "#7201a8"
             ],
             [
              0.3333333333333333,
              "#9c179e"
             ],
             [
              0.4444444444444444,
              "#bd3786"
             ],
             [
              0.5555555555555556,
              "#d8576b"
             ],
             [
              0.6666666666666666,
              "#ed7953"
             ],
             [
              0.7777777777777778,
              "#fb9f3a"
             ],
             [
              0.8888888888888888,
              "#fdca26"
             ],
             [
              1,
              "#f0f921"
             ]
            ],
            "type": "contour"
           }
          ],
          "contourcarpet": [
           {
            "colorbar": {
             "outlinewidth": 0,
             "ticks": ""
            },
            "type": "contourcarpet"
           }
          ],
          "heatmap": [
           {
            "colorbar": {
             "outlinewidth": 0,
             "ticks": ""
            },
            "colorscale": [
             [
              0,
              "#0d0887"
             ],
             [
              0.1111111111111111,
              "#46039f"
             ],
             [
              0.2222222222222222,
              "#7201a8"
             ],
             [
              0.3333333333333333,
              "#9c179e"
             ],
             [
              0.4444444444444444,
              "#bd3786"
             ],
             [
              0.5555555555555556,
              "#d8576b"
             ],
             [
              0.6666666666666666,
              "#ed7953"
             ],
             [
              0.7777777777777778,
              "#fb9f3a"
             ],
             [
              0.8888888888888888,
              "#fdca26"
             ],
             [
              1,
              "#f0f921"
             ]
            ],
            "type": "heatmap"
           }
          ],
          "heatmapgl": [
           {
            "colorbar": {
             "outlinewidth": 0,
             "ticks": ""
            },
            "colorscale": [
             [
              0,
              "#0d0887"
             ],
             [
              0.1111111111111111,
              "#46039f"
             ],
             [
              0.2222222222222222,
              "#7201a8"
             ],
             [
              0.3333333333333333,
              "#9c179e"
             ],
             [
              0.4444444444444444,
              "#bd3786"
             ],
             [
              0.5555555555555556,
              "#d8576b"
             ],
             [
              0.6666666666666666,
              "#ed7953"
             ],
             [
              0.7777777777777778,
              "#fb9f3a"
             ],
             [
              0.8888888888888888,
              "#fdca26"
             ],
             [
              1,
              "#f0f921"
             ]
            ],
            "type": "heatmapgl"
           }
          ],
          "histogram": [
           {
            "marker": {
             "pattern": {
              "fillmode": "overlay",
              "size": 10,
              "solidity": 0.2
             }
            },
            "type": "histogram"
           }
          ],
          "histogram2d": [
           {
            "colorbar": {
             "outlinewidth": 0,
             "ticks": ""
            },
            "colorscale": [
             [
              0,
              "#0d0887"
             ],
             [
              0.1111111111111111,
              "#46039f"
             ],
             [
              0.2222222222222222,
              "#7201a8"
             ],
             [
              0.3333333333333333,
              "#9c179e"
             ],
             [
              0.4444444444444444,
              "#bd3786"
             ],
             [
              0.5555555555555556,
              "#d8576b"
             ],
             [
              0.6666666666666666,
              "#ed7953"
             ],
             [
              0.7777777777777778,
              "#fb9f3a"
             ],
             [
              0.8888888888888888,
              "#fdca26"
             ],
             [
              1,
              "#f0f921"
             ]
            ],
            "type": "histogram2d"
           }
          ],
          "histogram2dcontour": [
           {
            "colorbar": {
             "outlinewidth": 0,
             "ticks": ""
            },
            "colorscale": [
             [
              0,
              "#0d0887"
             ],
             [
              0.1111111111111111,
              "#46039f"
             ],
             [
              0.2222222222222222,
              "#7201a8"
             ],
             [
              0.3333333333333333,
              "#9c179e"
             ],
             [
              0.4444444444444444,
              "#bd3786"
             ],
             [
              0.5555555555555556,
              "#d8576b"
             ],
             [
              0.6666666666666666,
              "#ed7953"
             ],
             [
              0.7777777777777778,
              "#fb9f3a"
             ],
             [
              0.8888888888888888,
              "#fdca26"
             ],
             [
              1,
              "#f0f921"
             ]
            ],
            "type": "histogram2dcontour"
           }
          ],
          "mesh3d": [
           {
            "colorbar": {
             "outlinewidth": 0,
             "ticks": ""
            },
            "type": "mesh3d"
           }
          ],
          "parcoords": [
           {
            "line": {
             "colorbar": {
              "outlinewidth": 0,
              "ticks": ""
             }
            },
            "type": "parcoords"
           }
          ],
          "pie": [
           {
            "automargin": true,
            "type": "pie"
           }
          ],
          "scatter": [
           {
            "fillpattern": {
             "fillmode": "overlay",
             "size": 10,
             "solidity": 0.2
            },
            "type": "scatter"
           }
          ],
          "scatter3d": [
           {
            "line": {
             "colorbar": {
              "outlinewidth": 0,
              "ticks": ""
             }
            },
            "marker": {
             "colorbar": {
              "outlinewidth": 0,
              "ticks": ""
             }
            },
            "type": "scatter3d"
           }
          ],
          "scattercarpet": [
           {
            "marker": {
             "colorbar": {
              "outlinewidth": 0,
              "ticks": ""
             }
            },
            "type": "scattercarpet"
           }
          ],
          "scattergeo": [
           {
            "marker": {
             "colorbar": {
              "outlinewidth": 0,
              "ticks": ""
             }
            },
            "type": "scattergeo"
           }
          ],
          "scattergl": [
           {
            "marker": {
             "colorbar": {
              "outlinewidth": 0,
              "ticks": ""
             }
            },
            "type": "scattergl"
           }
          ],
          "scattermapbox": [
           {
            "marker": {
             "colorbar": {
              "outlinewidth": 0,
              "ticks": ""
             }
            },
            "type": "scattermapbox"
           }
          ],
          "scatterpolar": [
           {
            "marker": {
             "colorbar": {
              "outlinewidth": 0,
              "ticks": ""
             }
            },
            "type": "scatterpolar"
           }
          ],
          "scatterpolargl": [
           {
            "marker": {
             "colorbar": {
              "outlinewidth": 0,
              "ticks": ""
             }
            },
            "type": "scatterpolargl"
           }
          ],
          "scatterternary": [
           {
            "marker": {
             "colorbar": {
              "outlinewidth": 0,
              "ticks": ""
             }
            },
            "type": "scatterternary"
           }
          ],
          "surface": [
           {
            "colorbar": {
             "outlinewidth": 0,
             "ticks": ""
            },
            "colorscale": [
             [
              0,
              "#0d0887"
             ],
             [
              0.1111111111111111,
              "#46039f"
             ],
             [
              0.2222222222222222,
              "#7201a8"
             ],
             [
              0.3333333333333333,
              "#9c179e"
             ],
             [
              0.4444444444444444,
              "#bd3786"
             ],
             [
              0.5555555555555556,
              "#d8576b"
             ],
             [
              0.6666666666666666,
              "#ed7953"
             ],
             [
              0.7777777777777778,
              "#fb9f3a"
             ],
             [
              0.8888888888888888,
              "#fdca26"
             ],
             [
              1,
              "#f0f921"
             ]
            ],
            "type": "surface"
           }
          ],
          "table": [
           {
            "cells": {
             "fill": {
              "color": "#EBF0F8"
             },
             "line": {
              "color": "white"
             }
            },
            "header": {
             "fill": {
              "color": "#C8D4E3"
             },
             "line": {
              "color": "white"
             }
            },
            "type": "table"
           }
          ]
         },
         "layout": {
          "annotationdefaults": {
           "arrowcolor": "#2a3f5f",
           "arrowhead": 0,
           "arrowwidth": 1
          },
          "autotypenumbers": "strict",
          "coloraxis": {
           "colorbar": {
            "outlinewidth": 0,
            "ticks": ""
           }
          },
          "colorscale": {
           "diverging": [
            [
             0,
             "#8e0152"
            ],
            [
             0.1,
             "#c51b7d"
            ],
            [
             0.2,
             "#de77ae"
            ],
            [
             0.3,
             "#f1b6da"
            ],
            [
             0.4,
             "#fde0ef"
            ],
            [
             0.5,
             "#f7f7f7"
            ],
            [
             0.6,
             "#e6f5d0"
            ],
            [
             0.7,
             "#b8e186"
            ],
            [
             0.8,
             "#7fbc41"
            ],
            [
             0.9,
             "#4d9221"
            ],
            [
             1,
             "#276419"
            ]
           ],
           "sequential": [
            [
             0,
             "#0d0887"
            ],
            [
             0.1111111111111111,
             "#46039f"
            ],
            [
             0.2222222222222222,
             "#7201a8"
            ],
            [
             0.3333333333333333,
             "#9c179e"
            ],
            [
             0.4444444444444444,
             "#bd3786"
            ],
            [
             0.5555555555555556,
             "#d8576b"
            ],
            [
             0.6666666666666666,
             "#ed7953"
            ],
            [
             0.7777777777777778,
             "#fb9f3a"
            ],
            [
             0.8888888888888888,
             "#fdca26"
            ],
            [
             1,
             "#f0f921"
            ]
           ],
           "sequentialminus": [
            [
             0,
             "#0d0887"
            ],
            [
             0.1111111111111111,
             "#46039f"
            ],
            [
             0.2222222222222222,
             "#7201a8"
            ],
            [
             0.3333333333333333,
             "#9c179e"
            ],
            [
             0.4444444444444444,
             "#bd3786"
            ],
            [
             0.5555555555555556,
             "#d8576b"
            ],
            [
             0.6666666666666666,
             "#ed7953"
            ],
            [
             0.7777777777777778,
             "#fb9f3a"
            ],
            [
             0.8888888888888888,
             "#fdca26"
            ],
            [
             1,
             "#f0f921"
            ]
           ]
          },
          "colorway": [
           "#636efa",
           "#EF553B",
           "#00cc96",
           "#ab63fa",
           "#FFA15A",
           "#19d3f3",
           "#FF6692",
           "#B6E880",
           "#FF97FF",
           "#FECB52"
          ],
          "font": {
           "color": "#2a3f5f"
          },
          "geo": {
           "bgcolor": "white",
           "lakecolor": "white",
           "landcolor": "#E5ECF6",
           "showlakes": true,
           "showland": true,
           "subunitcolor": "white"
          },
          "hoverlabel": {
           "align": "left"
          },
          "hovermode": "closest",
          "mapbox": {
           "style": "light"
          },
          "paper_bgcolor": "white",
          "plot_bgcolor": "#E5ECF6",
          "polar": {
           "angularaxis": {
            "gridcolor": "white",
            "linecolor": "white",
            "ticks": ""
           },
           "bgcolor": "#E5ECF6",
           "radialaxis": {
            "gridcolor": "white",
            "linecolor": "white",
            "ticks": ""
           }
          },
          "scene": {
           "xaxis": {
            "backgroundcolor": "#E5ECF6",
            "gridcolor": "white",
            "gridwidth": 2,
            "linecolor": "white",
            "showbackground": true,
            "ticks": "",
            "zerolinecolor": "white"
           },
           "yaxis": {
            "backgroundcolor": "#E5ECF6",
            "gridcolor": "white",
            "gridwidth": 2,
            "linecolor": "white",
            "showbackground": true,
            "ticks": "",
            "zerolinecolor": "white"
           },
           "zaxis": {
            "backgroundcolor": "#E5ECF6",
            "gridcolor": "white",
            "gridwidth": 2,
            "linecolor": "white",
            "showbackground": true,
            "ticks": "",
            "zerolinecolor": "white"
           }
          },
          "shapedefaults": {
           "line": {
            "color": "#2a3f5f"
           }
          },
          "ternary": {
           "aaxis": {
            "gridcolor": "white",
            "linecolor": "white",
            "ticks": ""
           },
           "baxis": {
            "gridcolor": "white",
            "linecolor": "white",
            "ticks": ""
           },
           "bgcolor": "#E5ECF6",
           "caxis": {
            "gridcolor": "white",
            "linecolor": "white",
            "ticks": ""
           }
          },
          "title": {
           "x": 0.05
          },
          "xaxis": {
           "automargin": true,
           "gridcolor": "white",
           "linecolor": "white",
           "ticks": "",
           "title": {
            "standoff": 15
           },
           "zerolinecolor": "white",
           "zerolinewidth": 2
          },
          "yaxis": {
           "automargin": true,
           "gridcolor": "white",
           "linecolor": "white",
           "ticks": "",
           "title": {
            "standoff": 15
           },
           "zerolinecolor": "white",
           "zerolinewidth": 2
          }
         }
        },
        "xaxis": {
         "anchor": "y",
         "domain": [
          0,
          1
         ],
         "title": {
          "text": "_index"
         }
        },
        "yaxis": {
         "anchor": "x",
         "domain": [
          0,
          1
         ],
         "title": {
          "text": "clean_actual_price"
         }
        }
       }
      }
     },
     "metadata": {},
     "output_type": "display_data"
    }
   ],
   "source": [
    "# clean_actual_price\n",
    "df.sort_values(by='clean_actual_price', ascending=False, inplace=True)\n",
    "df.reset_index(inplace=True)\n",
    "fig = px.bar(df.head(100), y='clean_actual_price', color='clean_actual_price', height=800, hover_name='product_name')\n",
    "fig.show()"
   ]
  },
  {
   "cell_type": "code",
   "execution_count": 115,
   "metadata": {},
   "outputs": [
    {
     "data": {
      "application/vnd.plotly.v1+json": {
       "config": {
        "plotlyServerURL": "https://plot.ly"
       },
       "data": [
        {
         "alignmentgroup": "True",
         "bingroup": "x",
         "hovertemplate": "clean_actual_price=%{x}<br>count=%{y}<extra></extra>",
         "legendgroup": "",
         "marker": {
          "color": "#636efa",
          "pattern": {
           "shape": ""
          }
         },
         "name": "",
         "nbinsx": 100,
         "offsetgroup": "",
         "orientation": "v",
         "showlegend": false,
         "type": "histogram",
         "x": [
          139900,
          85000,
          79990,
          75990,
          74999,
          70900,
          69999,
          69999,
          69900,
          65000,
          65000,
          59999,
          59900,
          59900,
          59890,
          56790,
          54990,
          52900,
          51990,
          50999,
          50000,
          49999,
          49999,
          49990,
          49990,
          47990,
          47900,
          45999,
          44999,
          44990,
          42999,
          42999,
          40990,
          40990,
          39999,
          39990,
          38999,
          37999,
          35999,
          35000,
          34999,
          34999,
          34990,
          34990,
          33999,
          32999,
          32000,
          31999,
          31990,
          30990,
          29999,
          29999,
          29999,
          29999,
          29990,
          29990,
          28999,
          28999,
          28999,
          28900,
          27990,
          27990,
          26999,
          25999,
          25999,
          24999,
          24999,
          24999,
          24999,
          24999,
          24999,
          24999,
          24999,
          24990,
          24850,
          24500,
          23999,
          23990,
          23559,
          22990,
          22900,
          22900,
          21999,
          21990,
          21990,
          21990,
          20999,
          20999,
          20999,
          20999,
          20999,
          20999,
          20990,
          20990,
          20990,
          20900,
          20049,
          20000,
          19999,
          19999,
          19999,
          19999,
          19999,
          19999,
          19999,
          19999,
          19990,
          19990,
          19990,
          19825,
          19499,
          19499,
          19499,
          19499,
          19499,
          19125,
          19110,
          18999,
          18999,
          18999,
          18999,
          18999,
          18999,
          18990,
          18990,
          18000,
          17999,
          17999,
          17999,
          17999,
          16999,
          16999,
          16990,
          16899,
          16490,
          16000,
          15999,
          15999,
          15999,
          15999,
          15999,
          15999,
          15990,
          15990,
          15990,
          15270,
          14999,
          14999,
          14999,
          14999,
          14990,
          14290,
          13999,
          13750,
          13499,
          13499,
          13499,
          13150,
          13049,
          12999,
          12999,
          12999,
          12999,
          12500,
          12499,
          12150,
          11999,
          11999,
          11999,
          11999,
          11999,
          11999,
          11999,
          11999,
          11995,
          11990,
          11850,
          11595,
          11500,
          11500,
          11495,
          11000,
          10999,
          10999,
          10995,
          10900,
          10590,
          10400,
          10295,
          9999,
          9999,
          9999,
          9999,
          9999,
          9999,
          9999,
          9999,
          9999,
          9999,
          9999,
          9999,
          9999,
          9999,
          9999,
          9999,
          9999,
          9999,
          9999,
          9995,
          9995,
          9990,
          9650,
          9625,
          9499,
          9455,
          8999,
          8999,
          8999,
          8999,
          8999,
          8995,
          8995,
          8995,
          8990,
          8820,
          8500,
          8499,
          8499,
          8478,
          8073,
          7999,
          7999,
          7999,
          7999,
          7999,
          7999,
          7999,
          7999,
          7999,
          7999,
          7990,
          7990,
          7990,
          7990,
          7990,
          7990,
          7990,
          7990,
          7990,
          7990,
          7990,
          7950,
          7795,
          7776,
          7506,
          7500,
          7445,
          7350,
          7299,
          7290,
          7200,
          7005,
          6999,
          6999,
          6999,
          6999,
          6999,
          6990,
          6990,
          6990,
          6990,
          6990,
          6990,
          6700,
          6500,
          6499,
          6375,
          6355,
          6299,
          6295,
          6295,
          6190,
          6100,
          6070,
          6000,
          6000,
          5999,
          5999,
          5999,
          5999,
          5999,
          5999,
          5999,
          5999,
          5999,
          5999,
          5999,
          5999,
          5999,
          5999,
          5999,
          5999,
          5999,
          5995,
          5890,
          5799,
          5795,
          5795,
          5734,
          5550,
          5500,
          5499,
          5499,
          5499,
          5495,
          5490,
          5299,
          5295,
          5295,
          5190,
          5156,
          5000,
          5000,
          5000,
          4999,
          4999,
          4999,
          4999,
          4999,
          4999,
          4999,
          4999,
          4999,
          4999,
          4999,
          4999,
          4999,
          4999,
          4999,
          4999,
          4999,
          4995,
          4990,
          4990,
          4890,
          4849,
          4799,
          4780,
          4775,
          4700,
          4700,
          4699,
          4699,
          4650,
          4600,
          4590,
          4560,
          4500,
          4499,
          4499,
          4495,
          4495,
          4490,
          4400,
          4332.96,
          4330,
          4295,
          4295,
          4290,
          4200,
          4200,
          4199,
          4195,
          4100,
          4005,
          4000,
          4000,
          4000,
          3999,
          3999,
          3999,
          3999,
          3999,
          3999,
          3999,
          3999,
          3999,
          3999,
          3999,
          3999,
          3999,
          3999,
          3999,
          3999,
          3999,
          3995,
          3995,
          3990,
          3990,
          3990,
          3990,
          3990,
          3990,
          3990,
          3990,
          3945,
          3945,
          3945,
          3945,
          3899,
          3895,
          3890,
          3875,
          3799,
          3799,
          3790,
          3690,
          3645,
          3599,
          3595,
          3595,
          3550,
          3500,
          3500,
          3500,
          3500,
          3500,
          3500,
          3500,
          3500,
          3499,
          3499,
          3499,
          3499,
          3499,
          3499,
          3499,
          3495,
          3490,
          3490,
          3398,
          3390,
          3300,
          3300,
          3299,
          3299,
          3295,
          3295,
          3295,
          3290,
          3279,
          3250,
          3210,
          3199,
          3195,
          3193,
          3190,
          3190,
          3100,
          3100,
          3099,
          3098,
          3080,
          3045,
          3045,
          3000,
          2999,
          2999,
          2999,
          2999,
          2999,
          2999,
          2999,
          2999,
          2999,
          2999,
          2999,
          2999,
          2999,
          2999,
          2999,
          2999,
          2999,
          2999,
          2999,
          2999,
          2999,
          2999,
          2995,
          2995,
          2990,
          2990,
          2990,
          2990,
          2990,
          2990,
          2911,
          2900,
          2900,
          2899,
          2899,
          2899,
          2895,
          2890,
          2890,
          2800,
          2800,
          2799,
          2799,
          2799,
          2796,
          2790,
          2699,
          2695,
          2695,
          2660,
          2600,
          2599,
          2599,
          2595,
          2590,
          2550,
          2545,
          2500,
          2500,
          2499,
          2499,
          2499,
          2499,
          2499,
          2499,
          2499,
          2499,
          2499,
          2499,
          2499,
          2499,
          2499,
          2499,
          2499,
          2499,
          2499,
          2499,
          2499,
          2498,
          2495,
          2495,
          2495,
          2495,
          2490,
          2490,
          2490,
          2490,
          2485,
          2400,
          2400,
          2400,
          2400,
          2400,
          2400,
          2399,
          2399,
          2385,
          2380,
          2360,
          2349,
          2300,
          2299,
          2299,
          2299,
          2299,
          2299,
          2295,
          2295,
          2290,
          2199,
          2199,
          2199,
          2199,
          2199,
          2199,
          2199,
          2199,
          2199,
          2199,
          2199,
          2198,
          2100,
          2100,
          2100,
          2100,
          2100,
          2099,
          2095,
          2095,
          2000,
          2000,
          2000,
          2000,
          2000,
          1999,
          1999,
          1999,
          1999,
          1999,
          1999,
          1999,
          1999,
          1999,
          1999,
          1999,
          1999,
          1999,
          1999,
          1999,
          1999,
          1999,
          1999,
          1999,
          1999,
          1999,
          1999,
          1999,
          1999,
          1999,
          1999,
          1999,
          1999,
          1999,
          1999,
          1999,
          1999,
          1999,
          1999,
          1999,
          1999,
          1999,
          1999,
          1999,
          1999,
          1999,
          1999,
          1999,
          1999,
          1999,
          1999,
          1999,
          1999,
          1999,
          1999,
          1999,
          1999,
          1999,
          1999,
          1999,
          1999,
          1995,
          1995,
          1995,
          1995,
          1990,
          1990,
          1990,
          1989,
          1975,
          1950,
          1950,
          1950,
          1950,
          1950,
          1949,
          1929,
          1920,
          1900,
          1900,
          1900,
          1900,
          1900,
          1900,
          1900,
          1899,
          1899,
          1899,
          1899,
          1899,
          1899,
          1899,
          1899,
          1899,
          1899,
          1899,
          1899,
          1890,
          1850,
          1809,
          1800,
          1800,
          1800,
          1800,
          1800,
          1799,
          1799,
          1799,
          1799,
          1799,
          1799,
          1799,
          1795,
          1795,
          1795,
          1790,
          1775,
          1750,
          1749,
          1745,
          1700,
          1699,
          1699,
          1699,
          1699,
          1699,
          1699,
          1699,
          1699,
          1699,
          1699,
          1699,
          1695,
          1695,
          1695,
          1690,
          1690,
          1650,
          1650,
          1645,
          1639,
          1630,
          1630,
          1620,
          1600,
          1600,
          1600,
          1600,
          1599,
          1599,
          1599,
          1599,
          1599,
          1599,
          1599,
          1599,
          1599,
          1599,
          1599,
          1599,
          1599,
          1599,
          1599,
          1599,
          1599,
          1595,
          1560,
          1549,
          1547,
          1545,
          1545,
          1500,
          1500,
          1500,
          1500,
          1500,
          1500,
          1500,
          1500,
          1499,
          1499,
          1499,
          1499,
          1499,
          1499,
          1499,
          1499,
          1499,
          1499,
          1499,
          1499,
          1499,
          1499,
          1499,
          1499,
          1499,
          1499,
          1499,
          1499,
          1499,
          1499,
          1499,
          1499,
          1499,
          1499,
          1499,
          1499,
          1499,
          1499,
          1499,
          1499,
          1499,
          1499,
          1499,
          1499,
          1499,
          1490,
          1490,
          1490,
          1490,
          1490,
          1490,
          1490,
          1445,
          1440,
          1400,
          1400,
          1400,
          1399,
          1399,
          1399,
          1399,
          1395,
          1390,
          1390,
          1350,
          1345,
          1345,
          1339,
          1300,
          1300,
          1300,
          1299,
          1299,
          1299,
          1299,
          1299,
          1299,
          1299,
          1299,
          1299,
          1299,
          1299,
          1299,
          1299,
          1299,
          1299,
          1299,
          1299,
          1299,
          1299,
          1299,
          1299,
          1295,
          1295,
          1295,
          1295,
          1295,
          1290,
          1290,
          1290,
          1282,
          1249,
          1249,
          1245,
          1245,
          1230,
          1208,
          1208,
          1200,
          1200,
          1200,
          1199,
          1199,
          1199,
          1199,
          1199,
          1199,
          1199,
          1199,
          1199,
          1199,
          1190,
          1190,
          1190,
          1150,
          1130,
          1129,
          1111,
          1109,
          1100,
          1100,
          1100,
          1099,
          1099,
          1099,
          1099,
          1099,
          1099,
          1099,
          1099,
          1099,
          1099,
          1099,
          1099,
          1099,
          1099,
          1099,
          1099,
          1099,
          1099,
          1099,
          1090,
          1090,
          1075,
          1052,
          1020,
          1020,
          1010,
          1000,
          1000,
          1000,
          1000,
          1000,
          1000,
          1000,
          1000,
          1000,
          1000,
          999,
          999,
          999,
          999,
          999,
          999,
          999,
          999,
          999,
          999,
          999,
          999,
          999,
          999,
          999,
          999,
          999,
          999,
          999,
          999,
          999,
          999,
          999,
          999,
          999,
          999,
          999,
          999,
          999,
          999,
          999,
          999,
          999,
          999,
          999,
          999,
          999,
          999,
          999,
          999,
          999,
          999,
          999,
          999,
          999,
          999,
          999,
          999,
          999,
          999,
          999,
          999,
          999,
          999,
          999,
          999,
          999,
          999,
          999,
          999,
          999,
          999,
          999,
          999,
          999,
          999,
          999,
          999,
          999,
          999,
          999,
          999,
          999,
          999,
          999,
          999,
          999,
          999,
          999,
          999,
          999,
          999,
          999,
          999,
          999,
          999,
          999,
          999,
          999,
          999,
          999,
          999,
          999,
          999,
          999,
          999,
          999,
          999,
          999,
          999,
          999,
          999,
          999,
          999,
          999,
          999,
          999,
          999,
          999,
          999,
          999,
          999,
          999,
          999,
          999,
          999,
          999,
          999,
          999,
          999,
          995,
          995,
          995,
          995,
          990,
          990,
          980,
          975,
          970,
          940,
          931,
          919,
          900,
          899,
          899,
          899,
          899,
          899,
          899,
          899,
          899,
          899,
          899,
          899,
          899,
          899,
          899,
          899,
          899,
          899,
          899,
          899,
          899,
          895,
          875,
          861,
          850,
          849,
          849,
          845,
          845,
          825,
          825,
          800,
          800,
          800,
          800,
          800,
          800,
          800,
          800,
          799,
          799,
          799,
          799,
          799,
          799,
          799,
          799,
          799,
          799,
          799,
          799,
          799,
          799,
          799,
          799,
          799,
          799,
          799,
          799,
          799,
          799,
          799,
          799,
          798,
          795,
          795,
          785,
          775,
          761,
          758,
          750,
          750,
          749,
          747,
          723,
          720,
          720,
          700,
          700,
          700,
          700,
          700,
          700,
          700,
          700,
          699,
          699,
          699,
          699,
          699,
          699,
          699,
          699,
          699,
          699,
          699,
          699,
          699,
          699,
          699,
          699,
          699,
          699,
          699,
          699,
          699,
          699,
          699,
          699,
          699,
          699,
          699,
          699,
          699,
          695,
          695,
          670,
          670,
          666.66,
          666.66,
          650,
          650,
          650,
          649,
          649,
          640,
          640,
          635,
          625,
          600,
          600,
          600,
          600,
          600,
          599,
          599,
          599,
          599,
          599,
          599,
          599,
          599,
          599,
          599,
          599,
          599,
          599,
          599,
          599,
          599,
          599,
          599,
          599,
          599,
          599,
          599,
          599,
          599,
          599,
          599,
          599,
          599,
          599,
          599,
          599,
          599,
          599,
          595,
          595,
          595,
          590,
          550,
          550,
          549,
          549,
          549,
          549,
          535,
          510,
          500,
          500,
          499,
          499,
          499,
          499,
          499,
          499,
          499,
          499,
          499,
          499,
          499,
          499,
          499,
          499,
          499,
          499,
          499,
          499,
          499,
          499,
          499,
          499,
          499,
          499,
          499,
          499,
          499,
          499,
          499,
          499,
          499,
          499,
          499,
          499,
          499,
          499,
          499,
          499,
          499,
          499,
          499,
          499,
          499,
          499,
          499,
          499,
          499,
          499,
          499,
          499,
          499,
          499,
          499,
          499,
          499,
          499,
          499,
          499,
          499,
          499,
          499,
          499,
          499,
          499,
          499,
          499,
          499,
          499,
          499,
          499,
          499,
          495,
          495,
          485,
          475,
          450,
          450,
          450,
          449,
          449,
          440,
          420,
          404,
          400,
          400,
          400,
          400,
          399,
          399,
          399,
          399,
          399,
          399,
          399,
          399,
          399,
          399,
          399,
          399,
          399,
          399,
          399,
          399,
          399,
          399,
          399,
          399,
          399,
          399,
          399,
          399,
          399,
          399,
          399,
          399,
          399,
          399,
          399,
          399,
          399,
          399,
          395,
          395,
          389,
          375,
          350,
          349,
          349,
          349,
          349,
          349,
          349,
          349,
          349,
          339,
          339,
          339,
          320,
          315,
          315,
          315,
          310,
          300,
          300,
          300,
          299,
          299,
          299,
          299,
          299,
          299,
          299,
          299,
          299,
          299,
          299,
          299,
          299,
          299,
          299,
          299,
          299,
          260,
          250,
          250,
          250,
          249,
          249,
          249,
          249,
          249,
          239,
          237,
          230,
          230,
          225,
          225,
          220,
          210,
          200,
          200,
          199,
          199,
          199,
          199,
          199,
          199,
          199,
          180,
          180,
          180,
          175,
          171,
          165,
          165,
          160,
          160,
          160,
          150,
          149,
          149,
          120,
          120,
          120,
          100,
          100,
          100,
          100,
          99,
          99,
          99,
          89,
          79,
          75,
          59,
          50,
          39,
          39
         ],
         "xaxis": "x",
         "yaxis": "y"
        }
       ],
       "layout": {
        "annotations": [
         {
          "font": {
           "size": 15
          },
          "text": "Most of the products are priced between 0 and 2000",
          "x": 70000,
          "y": 2
         }
        ],
        "barmode": "relative",
        "height": 500,
        "legend": {
         "tracegroupgap": 0
        },
        "template": {
         "data": {
          "bar": [
           {
            "error_x": {
             "color": "#2a3f5f"
            },
            "error_y": {
             "color": "#2a3f5f"
            },
            "marker": {
             "line": {
              "color": "#E5ECF6",
              "width": 0.5
             },
             "pattern": {
              "fillmode": "overlay",
              "size": 10,
              "solidity": 0.2
             }
            },
            "type": "bar"
           }
          ],
          "barpolar": [
           {
            "marker": {
             "line": {
              "color": "#E5ECF6",
              "width": 0.5
             },
             "pattern": {
              "fillmode": "overlay",
              "size": 10,
              "solidity": 0.2
             }
            },
            "type": "barpolar"
           }
          ],
          "carpet": [
           {
            "aaxis": {
             "endlinecolor": "#2a3f5f",
             "gridcolor": "white",
             "linecolor": "white",
             "minorgridcolor": "white",
             "startlinecolor": "#2a3f5f"
            },
            "baxis": {
             "endlinecolor": "#2a3f5f",
             "gridcolor": "white",
             "linecolor": "white",
             "minorgridcolor": "white",
             "startlinecolor": "#2a3f5f"
            },
            "type": "carpet"
           }
          ],
          "choropleth": [
           {
            "colorbar": {
             "outlinewidth": 0,
             "ticks": ""
            },
            "type": "choropleth"
           }
          ],
          "contour": [
           {
            "colorbar": {
             "outlinewidth": 0,
             "ticks": ""
            },
            "colorscale": [
             [
              0,
              "#0d0887"
             ],
             [
              0.1111111111111111,
              "#46039f"
             ],
             [
              0.2222222222222222,
              "#7201a8"
             ],
             [
              0.3333333333333333,
              "#9c179e"
             ],
             [
              0.4444444444444444,
              "#bd3786"
             ],
             [
              0.5555555555555556,
              "#d8576b"
             ],
             [
              0.6666666666666666,
              "#ed7953"
             ],
             [
              0.7777777777777778,
              "#fb9f3a"
             ],
             [
              0.8888888888888888,
              "#fdca26"
             ],
             [
              1,
              "#f0f921"
             ]
            ],
            "type": "contour"
           }
          ],
          "contourcarpet": [
           {
            "colorbar": {
             "outlinewidth": 0,
             "ticks": ""
            },
            "type": "contourcarpet"
           }
          ],
          "heatmap": [
           {
            "colorbar": {
             "outlinewidth": 0,
             "ticks": ""
            },
            "colorscale": [
             [
              0,
              "#0d0887"
             ],
             [
              0.1111111111111111,
              "#46039f"
             ],
             [
              0.2222222222222222,
              "#7201a8"
             ],
             [
              0.3333333333333333,
              "#9c179e"
             ],
             [
              0.4444444444444444,
              "#bd3786"
             ],
             [
              0.5555555555555556,
              "#d8576b"
             ],
             [
              0.6666666666666666,
              "#ed7953"
             ],
             [
              0.7777777777777778,
              "#fb9f3a"
             ],
             [
              0.8888888888888888,
              "#fdca26"
             ],
             [
              1,
              "#f0f921"
             ]
            ],
            "type": "heatmap"
           }
          ],
          "heatmapgl": [
           {
            "colorbar": {
             "outlinewidth": 0,
             "ticks": ""
            },
            "colorscale": [
             [
              0,
              "#0d0887"
             ],
             [
              0.1111111111111111,
              "#46039f"
             ],
             [
              0.2222222222222222,
              "#7201a8"
             ],
             [
              0.3333333333333333,
              "#9c179e"
             ],
             [
              0.4444444444444444,
              "#bd3786"
             ],
             [
              0.5555555555555556,
              "#d8576b"
             ],
             [
              0.6666666666666666,
              "#ed7953"
             ],
             [
              0.7777777777777778,
              "#fb9f3a"
             ],
             [
              0.8888888888888888,
              "#fdca26"
             ],
             [
              1,
              "#f0f921"
             ]
            ],
            "type": "heatmapgl"
           }
          ],
          "histogram": [
           {
            "marker": {
             "pattern": {
              "fillmode": "overlay",
              "size": 10,
              "solidity": 0.2
             }
            },
            "type": "histogram"
           }
          ],
          "histogram2d": [
           {
            "colorbar": {
             "outlinewidth": 0,
             "ticks": ""
            },
            "colorscale": [
             [
              0,
              "#0d0887"
             ],
             [
              0.1111111111111111,
              "#46039f"
             ],
             [
              0.2222222222222222,
              "#7201a8"
             ],
             [
              0.3333333333333333,
              "#9c179e"
             ],
             [
              0.4444444444444444,
              "#bd3786"
             ],
             [
              0.5555555555555556,
              "#d8576b"
             ],
             [
              0.6666666666666666,
              "#ed7953"
             ],
             [
              0.7777777777777778,
              "#fb9f3a"
             ],
             [
              0.8888888888888888,
              "#fdca26"
             ],
             [
              1,
              "#f0f921"
             ]
            ],
            "type": "histogram2d"
           }
          ],
          "histogram2dcontour": [
           {
            "colorbar": {
             "outlinewidth": 0,
             "ticks": ""
            },
            "colorscale": [
             [
              0,
              "#0d0887"
             ],
             [
              0.1111111111111111,
              "#46039f"
             ],
             [
              0.2222222222222222,
              "#7201a8"
             ],
             [
              0.3333333333333333,
              "#9c179e"
             ],
             [
              0.4444444444444444,
              "#bd3786"
             ],
             [
              0.5555555555555556,
              "#d8576b"
             ],
             [
              0.6666666666666666,
              "#ed7953"
             ],
             [
              0.7777777777777778,
              "#fb9f3a"
             ],
             [
              0.8888888888888888,
              "#fdca26"
             ],
             [
              1,
              "#f0f921"
             ]
            ],
            "type": "histogram2dcontour"
           }
          ],
          "mesh3d": [
           {
            "colorbar": {
             "outlinewidth": 0,
             "ticks": ""
            },
            "type": "mesh3d"
           }
          ],
          "parcoords": [
           {
            "line": {
             "colorbar": {
              "outlinewidth": 0,
              "ticks": ""
             }
            },
            "type": "parcoords"
           }
          ],
          "pie": [
           {
            "automargin": true,
            "type": "pie"
           }
          ],
          "scatter": [
           {
            "fillpattern": {
             "fillmode": "overlay",
             "size": 10,
             "solidity": 0.2
            },
            "type": "scatter"
           }
          ],
          "scatter3d": [
           {
            "line": {
             "colorbar": {
              "outlinewidth": 0,
              "ticks": ""
             }
            },
            "marker": {
             "colorbar": {
              "outlinewidth": 0,
              "ticks": ""
             }
            },
            "type": "scatter3d"
           }
          ],
          "scattercarpet": [
           {
            "marker": {
             "colorbar": {
              "outlinewidth": 0,
              "ticks": ""
             }
            },
            "type": "scattercarpet"
           }
          ],
          "scattergeo": [
           {
            "marker": {
             "colorbar": {
              "outlinewidth": 0,
              "ticks": ""
             }
            },
            "type": "scattergeo"
           }
          ],
          "scattergl": [
           {
            "marker": {
             "colorbar": {
              "outlinewidth": 0,
              "ticks": ""
             }
            },
            "type": "scattergl"
           }
          ],
          "scattermapbox": [
           {
            "marker": {
             "colorbar": {
              "outlinewidth": 0,
              "ticks": ""
             }
            },
            "type": "scattermapbox"
           }
          ],
          "scatterpolar": [
           {
            "marker": {
             "colorbar": {
              "outlinewidth": 0,
              "ticks": ""
             }
            },
            "type": "scatterpolar"
           }
          ],
          "scatterpolargl": [
           {
            "marker": {
             "colorbar": {
              "outlinewidth": 0,
              "ticks": ""
             }
            },
            "type": "scatterpolargl"
           }
          ],
          "scatterternary": [
           {
            "marker": {
             "colorbar": {
              "outlinewidth": 0,
              "ticks": ""
             }
            },
            "type": "scatterternary"
           }
          ],
          "surface": [
           {
            "colorbar": {
             "outlinewidth": 0,
             "ticks": ""
            },
            "colorscale": [
             [
              0,
              "#0d0887"
             ],
             [
              0.1111111111111111,
              "#46039f"
             ],
             [
              0.2222222222222222,
              "#7201a8"
             ],
             [
              0.3333333333333333,
              "#9c179e"
             ],
             [
              0.4444444444444444,
              "#bd3786"
             ],
             [
              0.5555555555555556,
              "#d8576b"
             ],
             [
              0.6666666666666666,
              "#ed7953"
             ],
             [
              0.7777777777777778,
              "#fb9f3a"
             ],
             [
              0.8888888888888888,
              "#fdca26"
             ],
             [
              1,
              "#f0f921"
             ]
            ],
            "type": "surface"
           }
          ],
          "table": [
           {
            "cells": {
             "fill": {
              "color": "#EBF0F8"
             },
             "line": {
              "color": "white"
             }
            },
            "header": {
             "fill": {
              "color": "#C8D4E3"
             },
             "line": {
              "color": "white"
             }
            },
            "type": "table"
           }
          ]
         },
         "layout": {
          "annotationdefaults": {
           "arrowcolor": "#2a3f5f",
           "arrowhead": 0,
           "arrowwidth": 1
          },
          "autotypenumbers": "strict",
          "coloraxis": {
           "colorbar": {
            "outlinewidth": 0,
            "ticks": ""
           }
          },
          "colorscale": {
           "diverging": [
            [
             0,
             "#8e0152"
            ],
            [
             0.1,
             "#c51b7d"
            ],
            [
             0.2,
             "#de77ae"
            ],
            [
             0.3,
             "#f1b6da"
            ],
            [
             0.4,
             "#fde0ef"
            ],
            [
             0.5,
             "#f7f7f7"
            ],
            [
             0.6,
             "#e6f5d0"
            ],
            [
             0.7,
             "#b8e186"
            ],
            [
             0.8,
             "#7fbc41"
            ],
            [
             0.9,
             "#4d9221"
            ],
            [
             1,
             "#276419"
            ]
           ],
           "sequential": [
            [
             0,
             "#0d0887"
            ],
            [
             0.1111111111111111,
             "#46039f"
            ],
            [
             0.2222222222222222,
             "#7201a8"
            ],
            [
             0.3333333333333333,
             "#9c179e"
            ],
            [
             0.4444444444444444,
             "#bd3786"
            ],
            [
             0.5555555555555556,
             "#d8576b"
            ],
            [
             0.6666666666666666,
             "#ed7953"
            ],
            [
             0.7777777777777778,
             "#fb9f3a"
            ],
            [
             0.8888888888888888,
             "#fdca26"
            ],
            [
             1,
             "#f0f921"
            ]
           ],
           "sequentialminus": [
            [
             0,
             "#0d0887"
            ],
            [
             0.1111111111111111,
             "#46039f"
            ],
            [
             0.2222222222222222,
             "#7201a8"
            ],
            [
             0.3333333333333333,
             "#9c179e"
            ],
            [
             0.4444444444444444,
             "#bd3786"
            ],
            [
             0.5555555555555556,
             "#d8576b"
            ],
            [
             0.6666666666666666,
             "#ed7953"
            ],
            [
             0.7777777777777778,
             "#fb9f3a"
            ],
            [
             0.8888888888888888,
             "#fdca26"
            ],
            [
             1,
             "#f0f921"
            ]
           ]
          },
          "colorway": [
           "#636efa",
           "#EF553B",
           "#00cc96",
           "#ab63fa",
           "#FFA15A",
           "#19d3f3",
           "#FF6692",
           "#B6E880",
           "#FF97FF",
           "#FECB52"
          ],
          "font": {
           "color": "#2a3f5f"
          },
          "geo": {
           "bgcolor": "white",
           "lakecolor": "white",
           "landcolor": "#E5ECF6",
           "showlakes": true,
           "showland": true,
           "subunitcolor": "white"
          },
          "hoverlabel": {
           "align": "left"
          },
          "hovermode": "closest",
          "mapbox": {
           "style": "light"
          },
          "paper_bgcolor": "white",
          "plot_bgcolor": "#E5ECF6",
          "polar": {
           "angularaxis": {
            "gridcolor": "white",
            "linecolor": "white",
            "ticks": ""
           },
           "bgcolor": "#E5ECF6",
           "radialaxis": {
            "gridcolor": "white",
            "linecolor": "white",
            "ticks": ""
           }
          },
          "scene": {
           "xaxis": {
            "backgroundcolor": "#E5ECF6",
            "gridcolor": "white",
            "gridwidth": 2,
            "linecolor": "white",
            "showbackground": true,
            "ticks": "",
            "zerolinecolor": "white"
           },
           "yaxis": {
            "backgroundcolor": "#E5ECF6",
            "gridcolor": "white",
            "gridwidth": 2,
            "linecolor": "white",
            "showbackground": true,
            "ticks": "",
            "zerolinecolor": "white"
           },
           "zaxis": {
            "backgroundcolor": "#E5ECF6",
            "gridcolor": "white",
            "gridwidth": 2,
            "linecolor": "white",
            "showbackground": true,
            "ticks": "",
            "zerolinecolor": "white"
           }
          },
          "shapedefaults": {
           "line": {
            "color": "#2a3f5f"
           }
          },
          "ternary": {
           "aaxis": {
            "gridcolor": "white",
            "linecolor": "white",
            "ticks": ""
           },
           "baxis": {
            "gridcolor": "white",
            "linecolor": "white",
            "ticks": ""
           },
           "bgcolor": "#E5ECF6",
           "caxis": {
            "gridcolor": "white",
            "linecolor": "white",
            "ticks": ""
           }
          },
          "title": {
           "x": 0.05
          },
          "xaxis": {
           "automargin": true,
           "gridcolor": "white",
           "linecolor": "white",
           "ticks": "",
           "title": {
            "standoff": 15
           },
           "zerolinecolor": "white",
           "zerolinewidth": 2
          },
          "yaxis": {
           "automargin": true,
           "gridcolor": "white",
           "linecolor": "white",
           "ticks": "",
           "title": {
            "standoff": 15
           },
           "zerolinecolor": "white",
           "zerolinewidth": 2
          }
         }
        },
        "title": {
         "text": "Histogram of Actual Price"
        },
        "xaxis": {
         "anchor": "y",
         "domain": [
          0,
          1
         ],
         "title": {
          "text": "clean_actual_price"
         }
        },
        "yaxis": {
         "anchor": "x",
         "domain": [
          0,
          1
         ],
         "title": {
          "text": "count"
         },
         "type": "log"
        }
       }
      }
     },
     "metadata": {},
     "output_type": "display_data"
    }
   ],
   "source": [
    "# histogram of clean_actual_price\n",
    "fig2 = px.histogram(df, x='clean_actual_price', nbins=100, height=500, log_y=True, title='Histogram of Actual Price')\n",
    "conclusion = 'Most of the products are priced between 0 and 2000'\n",
    "fig2.add_annotation(x=70000, y=2, text=conclusion, font_size=15)\n",
    "fig2.show()"
   ]
  },
  {
   "cell_type": "code",
   "execution_count": 116,
   "metadata": {},
   "outputs": [
    {
     "data": {
      "application/vnd.plotly.v1+json": {
       "config": {
        "plotlyServerURL": "https://plot.ly"
       },
       "data": [
        {
         "alignmentgroup": "True",
         "hovertemplate": "index=%{x}<br>y=%{y}<br>color=%{marker.color}<extra></extra>",
         "legendgroup": "",
         "marker": {
          "color": [
           1405,
           44,
           14,
           1,
           1
          ],
          "coloraxis": "coloraxis",
          "pattern": {
           "shape": ""
          }
         },
         "name": "",
         "offsetgroup": "",
         "orientation": "v",
         "showlegend": false,
         "textposition": "auto",
         "type": "bar",
         "x": [
          "cheap",
          "affordable",
          "moderate",
          "expensive",
          "very expensive"
         ],
         "xaxis": "x",
         "y": [
          1405,
          44,
          14,
          1,
          1
         ],
         "yaxis": "y"
        }
       ],
       "layout": {
        "barmode": "relative",
        "coloraxis": {
         "colorbar": {
          "title": {
           "text": "color"
          }
         },
         "colorscale": [
          [
           0,
           "#0d0887"
          ],
          [
           0.1111111111111111,
           "#46039f"
          ],
          [
           0.2222222222222222,
           "#7201a8"
          ],
          [
           0.3333333333333333,
           "#9c179e"
          ],
          [
           0.4444444444444444,
           "#bd3786"
          ],
          [
           0.5555555555555556,
           "#d8576b"
          ],
          [
           0.6666666666666666,
           "#ed7953"
          ],
          [
           0.7777777777777778,
           "#fb9f3a"
          ],
          [
           0.8888888888888888,
           "#fdca26"
          ],
          [
           1,
           "#f0f921"
          ]
         ]
        },
        "legend": {
         "tracegroupgap": 0
        },
        "template": {
         "data": {
          "bar": [
           {
            "error_x": {
             "color": "#2a3f5f"
            },
            "error_y": {
             "color": "#2a3f5f"
            },
            "marker": {
             "line": {
              "color": "#E5ECF6",
              "width": 0.5
             },
             "pattern": {
              "fillmode": "overlay",
              "size": 10,
              "solidity": 0.2
             }
            },
            "type": "bar"
           }
          ],
          "barpolar": [
           {
            "marker": {
             "line": {
              "color": "#E5ECF6",
              "width": 0.5
             },
             "pattern": {
              "fillmode": "overlay",
              "size": 10,
              "solidity": 0.2
             }
            },
            "type": "barpolar"
           }
          ],
          "carpet": [
           {
            "aaxis": {
             "endlinecolor": "#2a3f5f",
             "gridcolor": "white",
             "linecolor": "white",
             "minorgridcolor": "white",
             "startlinecolor": "#2a3f5f"
            },
            "baxis": {
             "endlinecolor": "#2a3f5f",
             "gridcolor": "white",
             "linecolor": "white",
             "minorgridcolor": "white",
             "startlinecolor": "#2a3f5f"
            },
            "type": "carpet"
           }
          ],
          "choropleth": [
           {
            "colorbar": {
             "outlinewidth": 0,
             "ticks": ""
            },
            "type": "choropleth"
           }
          ],
          "contour": [
           {
            "colorbar": {
             "outlinewidth": 0,
             "ticks": ""
            },
            "colorscale": [
             [
              0,
              "#0d0887"
             ],
             [
              0.1111111111111111,
              "#46039f"
             ],
             [
              0.2222222222222222,
              "#7201a8"
             ],
             [
              0.3333333333333333,
              "#9c179e"
             ],
             [
              0.4444444444444444,
              "#bd3786"
             ],
             [
              0.5555555555555556,
              "#d8576b"
             ],
             [
              0.6666666666666666,
              "#ed7953"
             ],
             [
              0.7777777777777778,
              "#fb9f3a"
             ],
             [
              0.8888888888888888,
              "#fdca26"
             ],
             [
              1,
              "#f0f921"
             ]
            ],
            "type": "contour"
           }
          ],
          "contourcarpet": [
           {
            "colorbar": {
             "outlinewidth": 0,
             "ticks": ""
            },
            "type": "contourcarpet"
           }
          ],
          "heatmap": [
           {
            "colorbar": {
             "outlinewidth": 0,
             "ticks": ""
            },
            "colorscale": [
             [
              0,
              "#0d0887"
             ],
             [
              0.1111111111111111,
              "#46039f"
             ],
             [
              0.2222222222222222,
              "#7201a8"
             ],
             [
              0.3333333333333333,
              "#9c179e"
             ],
             [
              0.4444444444444444,
              "#bd3786"
             ],
             [
              0.5555555555555556,
              "#d8576b"
             ],
             [
              0.6666666666666666,
              "#ed7953"
             ],
             [
              0.7777777777777778,
              "#fb9f3a"
             ],
             [
              0.8888888888888888,
              "#fdca26"
             ],
             [
              1,
              "#f0f921"
             ]
            ],
            "type": "heatmap"
           }
          ],
          "heatmapgl": [
           {
            "colorbar": {
             "outlinewidth": 0,
             "ticks": ""
            },
            "colorscale": [
             [
              0,
              "#0d0887"
             ],
             [
              0.1111111111111111,
              "#46039f"
             ],
             [
              0.2222222222222222,
              "#7201a8"
             ],
             [
              0.3333333333333333,
              "#9c179e"
             ],
             [
              0.4444444444444444,
              "#bd3786"
             ],
             [
              0.5555555555555556,
              "#d8576b"
             ],
             [
              0.6666666666666666,
              "#ed7953"
             ],
             [
              0.7777777777777778,
              "#fb9f3a"
             ],
             [
              0.8888888888888888,
              "#fdca26"
             ],
             [
              1,
              "#f0f921"
             ]
            ],
            "type": "heatmapgl"
           }
          ],
          "histogram": [
           {
            "marker": {
             "pattern": {
              "fillmode": "overlay",
              "size": 10,
              "solidity": 0.2
             }
            },
            "type": "histogram"
           }
          ],
          "histogram2d": [
           {
            "colorbar": {
             "outlinewidth": 0,
             "ticks": ""
            },
            "colorscale": [
             [
              0,
              "#0d0887"
             ],
             [
              0.1111111111111111,
              "#46039f"
             ],
             [
              0.2222222222222222,
              "#7201a8"
             ],
             [
              0.3333333333333333,
              "#9c179e"
             ],
             [
              0.4444444444444444,
              "#bd3786"
             ],
             [
              0.5555555555555556,
              "#d8576b"
             ],
             [
              0.6666666666666666,
              "#ed7953"
             ],
             [
              0.7777777777777778,
              "#fb9f3a"
             ],
             [
              0.8888888888888888,
              "#fdca26"
             ],
             [
              1,
              "#f0f921"
             ]
            ],
            "type": "histogram2d"
           }
          ],
          "histogram2dcontour": [
           {
            "colorbar": {
             "outlinewidth": 0,
             "ticks": ""
            },
            "colorscale": [
             [
              0,
              "#0d0887"
             ],
             [
              0.1111111111111111,
              "#46039f"
             ],
             [
              0.2222222222222222,
              "#7201a8"
             ],
             [
              0.3333333333333333,
              "#9c179e"
             ],
             [
              0.4444444444444444,
              "#bd3786"
             ],
             [
              0.5555555555555556,
              "#d8576b"
             ],
             [
              0.6666666666666666,
              "#ed7953"
             ],
             [
              0.7777777777777778,
              "#fb9f3a"
             ],
             [
              0.8888888888888888,
              "#fdca26"
             ],
             [
              1,
              "#f0f921"
             ]
            ],
            "type": "histogram2dcontour"
           }
          ],
          "mesh3d": [
           {
            "colorbar": {
             "outlinewidth": 0,
             "ticks": ""
            },
            "type": "mesh3d"
           }
          ],
          "parcoords": [
           {
            "line": {
             "colorbar": {
              "outlinewidth": 0,
              "ticks": ""
             }
            },
            "type": "parcoords"
           }
          ],
          "pie": [
           {
            "automargin": true,
            "type": "pie"
           }
          ],
          "scatter": [
           {
            "fillpattern": {
             "fillmode": "overlay",
             "size": 10,
             "solidity": 0.2
            },
            "type": "scatter"
           }
          ],
          "scatter3d": [
           {
            "line": {
             "colorbar": {
              "outlinewidth": 0,
              "ticks": ""
             }
            },
            "marker": {
             "colorbar": {
              "outlinewidth": 0,
              "ticks": ""
             }
            },
            "type": "scatter3d"
           }
          ],
          "scattercarpet": [
           {
            "marker": {
             "colorbar": {
              "outlinewidth": 0,
              "ticks": ""
             }
            },
            "type": "scattercarpet"
           }
          ],
          "scattergeo": [
           {
            "marker": {
             "colorbar": {
              "outlinewidth": 0,
              "ticks": ""
             }
            },
            "type": "scattergeo"
           }
          ],
          "scattergl": [
           {
            "marker": {
             "colorbar": {
              "outlinewidth": 0,
              "ticks": ""
             }
            },
            "type": "scattergl"
           }
          ],
          "scattermapbox": [
           {
            "marker": {
             "colorbar": {
              "outlinewidth": 0,
              "ticks": ""
             }
            },
            "type": "scattermapbox"
           }
          ],
          "scatterpolar": [
           {
            "marker": {
             "colorbar": {
              "outlinewidth": 0,
              "ticks": ""
             }
            },
            "type": "scatterpolar"
           }
          ],
          "scatterpolargl": [
           {
            "marker": {
             "colorbar": {
              "outlinewidth": 0,
              "ticks": ""
             }
            },
            "type": "scatterpolargl"
           }
          ],
          "scatterternary": [
           {
            "marker": {
             "colorbar": {
              "outlinewidth": 0,
              "ticks": ""
             }
            },
            "type": "scatterternary"
           }
          ],
          "surface": [
           {
            "colorbar": {
             "outlinewidth": 0,
             "ticks": ""
            },
            "colorscale": [
             [
              0,
              "#0d0887"
             ],
             [
              0.1111111111111111,
              "#46039f"
             ],
             [
              0.2222222222222222,
              "#7201a8"
             ],
             [
              0.3333333333333333,
              "#9c179e"
             ],
             [
              0.4444444444444444,
              "#bd3786"
             ],
             [
              0.5555555555555556,
              "#d8576b"
             ],
             [
              0.6666666666666666,
              "#ed7953"
             ],
             [
              0.7777777777777778,
              "#fb9f3a"
             ],
             [
              0.8888888888888888,
              "#fdca26"
             ],
             [
              1,
              "#f0f921"
             ]
            ],
            "type": "surface"
           }
          ],
          "table": [
           {
            "cells": {
             "fill": {
              "color": "#EBF0F8"
             },
             "line": {
              "color": "white"
             }
            },
            "header": {
             "fill": {
              "color": "#C8D4E3"
             },
             "line": {
              "color": "white"
             }
            },
            "type": "table"
           }
          ]
         },
         "layout": {
          "annotationdefaults": {
           "arrowcolor": "#2a3f5f",
           "arrowhead": 0,
           "arrowwidth": 1
          },
          "autotypenumbers": "strict",
          "coloraxis": {
           "colorbar": {
            "outlinewidth": 0,
            "ticks": ""
           }
          },
          "colorscale": {
           "diverging": [
            [
             0,
             "#8e0152"
            ],
            [
             0.1,
             "#c51b7d"
            ],
            [
             0.2,
             "#de77ae"
            ],
            [
             0.3,
             "#f1b6da"
            ],
            [
             0.4,
             "#fde0ef"
            ],
            [
             0.5,
             "#f7f7f7"
            ],
            [
             0.6,
             "#e6f5d0"
            ],
            [
             0.7,
             "#b8e186"
            ],
            [
             0.8,
             "#7fbc41"
            ],
            [
             0.9,
             "#4d9221"
            ],
            [
             1,
             "#276419"
            ]
           ],
           "sequential": [
            [
             0,
             "#0d0887"
            ],
            [
             0.1111111111111111,
             "#46039f"
            ],
            [
             0.2222222222222222,
             "#7201a8"
            ],
            [
             0.3333333333333333,
             "#9c179e"
            ],
            [
             0.4444444444444444,
             "#bd3786"
            ],
            [
             0.5555555555555556,
             "#d8576b"
            ],
            [
             0.6666666666666666,
             "#ed7953"
            ],
            [
             0.7777777777777778,
             "#fb9f3a"
            ],
            [
             0.8888888888888888,
             "#fdca26"
            ],
            [
             1,
             "#f0f921"
            ]
           ],
           "sequentialminus": [
            [
             0,
             "#0d0887"
            ],
            [
             0.1111111111111111,
             "#46039f"
            ],
            [
             0.2222222222222222,
             "#7201a8"
            ],
            [
             0.3333333333333333,
             "#9c179e"
            ],
            [
             0.4444444444444444,
             "#bd3786"
            ],
            [
             0.5555555555555556,
             "#d8576b"
            ],
            [
             0.6666666666666666,
             "#ed7953"
            ],
            [
             0.7777777777777778,
             "#fb9f3a"
            ],
            [
             0.8888888888888888,
             "#fdca26"
            ],
            [
             1,
             "#f0f921"
            ]
           ]
          },
          "colorway": [
           "#636efa",
           "#EF553B",
           "#00cc96",
           "#ab63fa",
           "#FFA15A",
           "#19d3f3",
           "#FF6692",
           "#B6E880",
           "#FF97FF",
           "#FECB52"
          ],
          "font": {
           "color": "#2a3f5f"
          },
          "geo": {
           "bgcolor": "white",
           "lakecolor": "white",
           "landcolor": "#E5ECF6",
           "showlakes": true,
           "showland": true,
           "subunitcolor": "white"
          },
          "hoverlabel": {
           "align": "left"
          },
          "hovermode": "closest",
          "mapbox": {
           "style": "light"
          },
          "paper_bgcolor": "white",
          "plot_bgcolor": "#E5ECF6",
          "polar": {
           "angularaxis": {
            "gridcolor": "white",
            "linecolor": "white",
            "ticks": ""
           },
           "bgcolor": "#E5ECF6",
           "radialaxis": {
            "gridcolor": "white",
            "linecolor": "white",
            "ticks": ""
           }
          },
          "scene": {
           "xaxis": {
            "backgroundcolor": "#E5ECF6",
            "gridcolor": "white",
            "gridwidth": 2,
            "linecolor": "white",
            "showbackground": true,
            "ticks": "",
            "zerolinecolor": "white"
           },
           "yaxis": {
            "backgroundcolor": "#E5ECF6",
            "gridcolor": "white",
            "gridwidth": 2,
            "linecolor": "white",
            "showbackground": true,
            "ticks": "",
            "zerolinecolor": "white"
           },
           "zaxis": {
            "backgroundcolor": "#E5ECF6",
            "gridcolor": "white",
            "gridwidth": 2,
            "linecolor": "white",
            "showbackground": true,
            "ticks": "",
            "zerolinecolor": "white"
           }
          },
          "shapedefaults": {
           "line": {
            "color": "#2a3f5f"
           }
          },
          "ternary": {
           "aaxis": {
            "gridcolor": "white",
            "linecolor": "white",
            "ticks": ""
           },
           "baxis": {
            "gridcolor": "white",
            "linecolor": "white",
            "ticks": ""
           },
           "bgcolor": "#E5ECF6",
           "caxis": {
            "gridcolor": "white",
            "linecolor": "white",
            "ticks": ""
           }
          },
          "title": {
           "x": 0.05
          },
          "xaxis": {
           "automargin": true,
           "gridcolor": "white",
           "linecolor": "white",
           "ticks": "",
           "title": {
            "standoff": 15
           },
           "zerolinecolor": "white",
           "zerolinewidth": 2
          },
          "yaxis": {
           "automargin": true,
           "gridcolor": "white",
           "linecolor": "white",
           "ticks": "",
           "title": {
            "standoff": 15
           },
           "zerolinecolor": "white",
           "zerolinewidth": 2
          }
         }
        },
        "title": {
         "text": "Price Bins"
        },
        "xaxis": {
         "anchor": "y",
         "domain": [
          0,
          1
         ],
         "title": {
          "text": "index"
         }
        },
        "yaxis": {
         "anchor": "x",
         "domain": [
          0,
          1
         ],
         "title": {
          "text": "y"
         },
         "type": "log"
        }
       }
      }
     },
     "metadata": {},
     "output_type": "display_data"
    }
   ],
   "source": [
    "# bin products based on price in 10 bins\n",
    "bin_names = ['cheap', 'affordable', 'moderate', 'expensive', 'very expensive']\n",
    "df['price_bins'] = pd.cut(df['clean_actual_price'], bins=5, labels=bin_names)\n",
    "price_bins = df['price_bins'].value_counts()\n",
    "px.bar(price_bins, y=price_bins, color=price_bins, title='Price Bins', log_y=True)"
   ]
  },
  {
   "cell_type": "code",
   "execution_count": 132,
   "metadata": {},
   "outputs": [
    {
     "data": {
      "application/vnd.plotly.v1+json": {
       "config": {
        "plotlyServerURL": "https://plot.ly"
       },
       "data": [
        {
         "alignmentgroup": "True",
         "bingroup": "x",
         "hovertemplate": "clean_rating=%{x}<br>count=%{y}<extra></extra>",
         "legendgroup": "",
         "marker": {
          "color": "#636efa",
          "pattern": {
           "shape": ""
          }
         },
         "name": "",
         "offsetgroup": "",
         "orientation": "v",
         "showlegend": false,
         "type": "histogram",
         "x": [
          "47",
          "43",
          "43",
          "43",
          "42",
          "43",
          "41",
          "43",
          "43",
          "43",
          "41",
          "41",
          "44",
          "44",
          "40",
          "43",
          "41",
          "43",
          "42",
          "44",
          "39",
          "43",
          "43",
          "43",
          "43",
          "43",
          "43",
          "42",
          "42",
          "41",
          "42",
          "42",
          "42",
          "43",
          "42",
          "43",
          "42",
          "46",
          "42",
          "40",
          "44",
          "43",
          "43",
          "43",
          "43",
          "39",
          "44",
          "42",
          "42",
          "41",
          "42",
          "43",
          "42",
          "41",
          "43",
          "43",
          "43",
          "39",
          "43",
          "45",
          "43",
          "42",
          "39",
          "41",
          "42",
          "39",
          "41",
          "42",
          "46",
          "45",
          "41",
          "42",
          "42",
          "43",
          "44",
          "4",
          "44",
          "43",
          "43",
          "43",
          "43",
          "43",
          "42",
          "43",
          "40",
          "43",
          "41",
          "40",
          "41",
          "41",
          "41",
          "41",
          "42",
          "40",
          "42",
          "43",
          "48",
          "41",
          "42",
          "42",
          "42",
          "42",
          "42",
          "41",
          "42",
          "41",
          "37",
          "44",
          "43",
          "41",
          "41",
          "42",
          "41",
          "41",
          "41",
          "34",
          "43",
          "41",
          "40",
          "41",
          "41",
          "41",
          "41",
          "39",
          "42",
          "4",
          "41",
          "43",
          "41",
          "41",
          "43",
          "43",
          "38",
          "42",
          "43",
          "39",
          "41",
          "42",
          "43",
          "38",
          "39",
          "39",
          "39",
          "40",
          "42",
          "41",
          "43",
          "41",
          "41",
          "41",
          "43",
          "44",
          "4",
          "42",
          "41",
          "42",
          "38",
          "42",
          "43",
          "41",
          "42",
          "43",
          "42",
          "4",
          "42",
          "43",
          "42",
          "40",
          "40",
          "38",
          "39",
          "44",
          "40",
          "42",
          "41",
          "39",
          "42",
          "44",
          "39",
          "41",
          "43",
          "42",
          "41",
          "42",
          "45",
          "42",
          "44",
          "41",
          "39",
          "42",
          "41",
          "42",
          "43",
          "37",
          "42",
          "42",
          "44",
          "43",
          "42",
          "43",
          "41",
          "40",
          "42",
          "43",
          "42",
          "38",
          "43",
          "42",
          "44",
          "44",
          "40",
          "42",
          "38",
          "41",
          "41",
          "37",
          "40",
          "40",
          "40",
          "41",
          "4",
          "44",
          "43",
          "43",
          "45",
          "44",
          "41",
          "43",
          "46",
          "46",
          "42",
          "42",
          "45",
          "40",
          "36",
          "41",
          "35",
          "42",
          "42",
          "42",
          "42",
          "38",
          "38",
          "38",
          "38",
          "42",
          "41",
          "38",
          "41",
          "41",
          "41",
          "42",
          "42",
          "44",
          "45",
          "41",
          "39",
          "44",
          "4",
          "39",
          "45",
          "36",
          "38",
          "4",
          "45",
          "45",
          "41",
          "39",
          "40",
          "39",
          "39",
          "39",
          "40",
          "42",
          "37",
          "41",
          "4",
          "39",
          "39",
          "38",
          "39",
          "43",
          "43",
          "42",
          "42",
          "41",
          "43",
          "41",
          "33",
          "41",
          "35",
          "39",
          "4",
          "42",
          "43",
          "41",
          "33",
          "33",
          "41",
          "37",
          "43",
          "4",
          "41",
          "38",
          "41",
          "43",
          "39",
          "39",
          "44",
          "4",
          "38",
          "42",
          "38",
          "39",
          "41",
          "41",
          "35",
          "42",
          "42",
          "43",
          "39",
          "4",
          "41",
          "38",
          "40",
          "43",
          "41",
          "40",
          "40",
          "38",
          "44",
          "41",
          "39",
          "39",
          "4",
          "42",
          "36",
          "45",
          "41",
          "40",
          "40",
          "38",
          "41",
          "42",
          "39",
          "42",
          "37",
          "39",
          "42",
          "42",
          "38",
          "44",
          "45",
          "41",
          "43",
          "41",
          "44",
          "40",
          "38",
          "38",
          "43",
          "39",
          "39",
          "41",
          "35",
          "37",
          "34",
          "41",
          "44",
          "38",
          "41",
          "35",
          "4",
          "39",
          "43",
          "42",
          "44",
          "38",
          "44",
          "37",
          "40",
          "46",
          "43",
          "40",
          "35",
          "39",
          "42",
          "40",
          "46",
          "42",
          "40",
          "39",
          "38",
          "40",
          "43",
          "43",
          "44",
          "41",
          "41",
          "41",
          "40",
          "38",
          "42",
          "43",
          "41",
          "37",
          "38",
          "4",
          "42",
          "39",
          "39",
          "42",
          "34",
          "39",
          "4",
          "38",
          "43",
          "41",
          "42",
          "4",
          "38",
          "4",
          "42",
          "43",
          "41",
          "38",
          "45",
          "47",
          "35",
          "44",
          "30",
          "36",
          "45",
          "40",
          "39",
          "43",
          "45",
          "41",
          "37",
          "41",
          "38",
          "4",
          "42",
          "41",
          "42",
          "38",
          "44",
          "43",
          "38",
          "38",
          "41",
          "38",
          "42",
          "39",
          "45",
          "38",
          "43",
          "41",
          "40",
          "45",
          "41",
          "35",
          "36",
          "42",
          "41",
          "43",
          "44",
          "43",
          "39",
          "38",
          "44",
          "43",
          "45",
          "41",
          "35",
          "33",
          "33",
          "40",
          "41",
          "37",
          "41",
          "45",
          "43",
          "45",
          "46",
          "38",
          "42",
          "43",
          "42",
          "45",
          "38",
          "41",
          "41",
          "38",
          "38",
          "38",
          "43",
          "37",
          "45",
          "46",
          "46",
          "47",
          "46",
          "45",
          "39",
          "39",
          "43",
          "39",
          "4",
          "42",
          "44",
          "36",
          "43",
          "44",
          "44",
          "41",
          "34",
          "43",
          "36",
          "43",
          "4",
          "38",
          "41",
          "4",
          "43",
          "41",
          "44",
          "|",
          "40",
          "36",
          "37",
          "41",
          "40",
          "41",
          "38",
          "43",
          "39",
          "33",
          "43",
          "43",
          "37",
          "43",
          "42",
          "39",
          "42",
          "38",
          "2",
          "41",
          "44",
          "42",
          "41",
          "43",
          "44",
          "41",
          "42",
          "4",
          "38",
          "41",
          "39",
          "44",
          "46",
          "43",
          "41",
          "4",
          "42",
          "39",
          "38",
          "36",
          "39",
          "43",
          "43",
          "42",
          "42",
          "46",
          "44",
          "44",
          "43",
          "43",
          "37",
          "44",
          "43",
          "31",
          "28",
          "44",
          "39",
          "37",
          "40",
          "41",
          "43",
          "43",
          "43",
          "45",
          "4",
          "43",
          "45",
          "4",
          "4",
          "36",
          "38",
          "39",
          "44",
          "36",
          "44",
          "37",
          "39",
          "40",
          "43",
          "44",
          "44",
          "41",
          "45",
          "42",
          "43",
          "42",
          "42",
          "34",
          "44",
          "4",
          "38",
          "42",
          "45",
          "42",
          "36",
          "41",
          "40",
          "44",
          "44",
          "41",
          "44",
          "40",
          "42",
          "41",
          "38",
          "42",
          "4",
          "28",
          "43",
          "43",
          "33",
          "38",
          "37",
          "42",
          "44",
          "30",
          "44",
          "41",
          "41",
          "42",
          "4",
          "44",
          "42",
          "40",
          "42",
          "50",
          "48",
          "37",
          "45",
          "45",
          "43",
          "40",
          "39",
          "41",
          "41",
          "43",
          "41",
          "38",
          "38",
          "39",
          "39",
          "39",
          "40",
          "41",
          "42",
          "44",
          "36",
          "44",
          "4",
          "4",
          "36",
          "44",
          "40",
          "39",
          "43",
          "44",
          "42",
          "43",
          "44",
          "35",
          "43",
          "41",
          "45",
          "41",
          "4",
          "44",
          "43",
          "44",
          "45",
          "35",
          "43",
          "41",
          "45",
          "40",
          "43",
          "4",
          "43",
          "45",
          "45",
          "42",
          "42",
          "41",
          "43",
          "39",
          "38",
          "41",
          "43",
          "41",
          "40",
          "42",
          "44",
          "44",
          "39",
          "44",
          "42",
          "4",
          "44",
          "40",
          "31",
          "42",
          "36",
          "44",
          "41",
          "42",
          "41",
          "43",
          "46",
          "37",
          "40",
          "40",
          "41",
          "40",
          "40",
          "43",
          "40",
          "40",
          "40",
          "40",
          "38",
          "40",
          "43",
          "38",
          "37",
          "45",
          "47",
          "43",
          "34",
          "43",
          "47",
          "43",
          "43",
          "45",
          "41",
          "36",
          "39",
          "43",
          "37",
          "43",
          "45",
          "43",
          "42",
          "42",
          "44",
          "45",
          "40",
          "42",
          "45",
          "38",
          "40",
          "41",
          "42",
          "41",
          "36",
          "42",
          "42",
          "38",
          "41",
          "41",
          "43",
          "39",
          "42",
          "42",
          "31",
          "23",
          "41",
          "40",
          "43",
          "41",
          "42",
          "41",
          "41",
          "42",
          "41",
          "41",
          "43",
          "43",
          "43",
          "45",
          "42",
          "45",
          "42",
          "41",
          "41",
          "39",
          "41",
          "41",
          "40",
          "41",
          "41",
          "4",
          "39",
          "42",
          "42",
          "43",
          "44",
          "41",
          "42",
          "38",
          "39",
          "42",
          "4",
          "44",
          "43",
          "39",
          "38",
          "42",
          "41",
          "39",
          "42",
          "44",
          "42",
          "39",
          "41",
          "42",
          "42",
          "40",
          "45",
          "39",
          "43",
          "41",
          "43",
          "42",
          "40",
          "40",
          "47",
          "41",
          "4",
          "40",
          "42",
          "42",
          "43",
          "45",
          "42",
          "41",
          "44",
          "41",
          "42",
          "42",
          "42",
          "39",
          "38",
          "39",
          "39",
          "41",
          "41",
          "41",
          "32",
          "43",
          "44",
          "45",
          "43",
          "38",
          "39",
          "35",
          "40",
          "44",
          "37",
          "42",
          "40",
          "41",
          "42",
          "41",
          "41",
          "42",
          "4",
          "42",
          "44",
          "4",
          "36",
          "44",
          "41",
          "32",
          "43",
          "41",
          "43",
          "42",
          "42",
          "43",
          "40",
          "37",
          "40",
          "42",
          "41",
          "43",
          "42",
          "43",
          "42",
          "42",
          "43",
          "42",
          "44",
          "41",
          "43",
          "41",
          "41",
          "41",
          "39",
          "41",
          "36",
          "44",
          "39",
          "42",
          "39",
          "44",
          "50",
          "39",
          "41",
          "41",
          "42",
          "41",
          "42",
          "41",
          "39",
          "43",
          "43",
          "33",
          "44",
          "41",
          "44",
          "41",
          "39",
          "37",
          "42",
          "42",
          "43",
          "43",
          "45",
          "41",
          "43",
          "50",
          "33",
          "43",
          "36",
          "40",
          "39",
          "41",
          "40",
          "43",
          "45",
          "42",
          "42",
          "38",
          "43",
          "4",
          "42",
          "43",
          "40",
          "43",
          "38",
          "38",
          "43",
          "40",
          "40",
          "37",
          "43",
          "39",
          "40",
          "43",
          "41",
          "35",
          "4",
          "42",
          "4",
          "37",
          "41",
          "37",
          "38",
          "43",
          "39",
          "44",
          "43",
          "39",
          "43",
          "41",
          "40",
          "41",
          "45",
          "40",
          "40",
          "41",
          "40",
          "43",
          "44",
          "41",
          "41",
          "36",
          "43",
          "39",
          "35",
          "42",
          "39",
          "36",
          "33",
          "40",
          "43",
          "39",
          "43",
          "39",
          "43",
          "33",
          "40",
          "43",
          "41",
          "31",
          "35",
          "30",
          "33",
          "43",
          "42",
          "39",
          "38",
          "46",
          "42",
          "38",
          "43",
          "42",
          "43",
          "4",
          "43",
          "42",
          "43",
          "35",
          "40",
          "41",
          "41",
          "3",
          "42",
          "42",
          "39",
          "45",
          "39",
          "45",
          "42",
          "43",
          "42",
          "41",
          "39",
          "4",
          "44",
          "40",
          "45",
          "42",
          "40",
          "41",
          "39",
          "43",
          "42",
          "34",
          "41",
          "42",
          "40",
          "42",
          "39",
          "45",
          "45",
          "38",
          "38",
          "42",
          "37",
          "44",
          "42",
          "42",
          "41",
          "45",
          "45",
          "42",
          "42",
          "41",
          "4",
          "41",
          "44",
          "45",
          "36",
          "39",
          "39",
          "39",
          "36",
          "36",
          "40",
          "43",
          "42",
          "42",
          "43",
          "42",
          "42",
          "35",
          "42",
          "41",
          "38",
          "38",
          "44",
          "43",
          "37",
          "39",
          "43",
          "36",
          "44",
          "36",
          "40",
          "43",
          "41",
          "44",
          "40",
          "44",
          "42",
          "43",
          "40",
          "42",
          "45",
          "45",
          "46",
          "45",
          "44",
          "41",
          "44",
          "43",
          "44",
          "43",
          "44",
          "43",
          "44",
          "44",
          "43",
          "39",
          "34",
          "41",
          "29",
          "43",
          "42",
          "42",
          "44",
          "39",
          "40",
          "42",
          "37",
          "42",
          "39",
          "41",
          "40",
          "42",
          "43",
          "38",
          "41",
          "42",
          "42",
          "41",
          "41",
          "42",
          "42",
          "38",
          "44",
          "35",
          "45",
          "45",
          "41",
          "39",
          "39",
          "39",
          "43",
          "45",
          "44",
          "40",
          "43",
          "38",
          "41",
          "43",
          "42",
          "43",
          "41",
          "40",
          "44",
          "42",
          "4",
          "41",
          "42",
          "39",
          "40",
          "40",
          "39",
          "39",
          "41",
          "41",
          "43",
          "45",
          "41",
          "42",
          "42",
          "45",
          "39",
          "41",
          "35",
          "43",
          "44",
          "43",
          "38",
          "40",
          "35",
          "43",
          "37",
          "43",
          "43",
          "40",
          "41",
          "36",
          "39",
          "43",
          "4",
          "43",
          "44",
          "44",
          "46",
          "39",
          "39",
          "44",
          "45",
          "44",
          "38",
          "43",
          "42",
          "37",
          "44",
          "45",
          "37",
          "41",
          "39",
          "37",
          "38",
          "41",
          "37",
          "39",
          "41",
          "42",
          "40",
          "42",
          "40",
          "40",
          "41",
          "34",
          "43",
          "40",
          "36",
          "4",
          "37",
          "39",
          "42",
          "41",
          "35",
          "37",
          "41",
          "41",
          "41",
          "41",
          "33",
          "42",
          "41",
          "33",
          "42",
          "33",
          "41",
          "41",
          "40",
          "33",
          "41",
          "43",
          "40",
          "39",
          "41",
          "43",
          "35",
          "38",
          "48",
          "44",
          "4",
          "38",
          "41",
          "42",
          "42",
          "43",
          "35",
          "44",
          "41",
          "42",
          "39",
          "37",
          "41",
          "41",
          "36",
          "41",
          "40",
          "41",
          "41",
          "43",
          "43",
          "44",
          "42",
          "43",
          "41",
          "37",
          "35",
          "45",
          "42",
          "44",
          "38",
          "41",
          "41",
          "44",
          "44",
          "42",
          "41",
          "42",
          "40",
          "40",
          "37",
          "42",
          "39",
          "35",
          "42",
          "40",
          "41",
          "39",
          "36",
          "40",
          "40",
          "34",
          "40",
          "44",
          "41",
          "40",
          "42",
          "40",
          "40",
          "41",
          "44",
          "39",
          "41",
          "36",
          "36",
          "36",
          "40",
          "40",
          "42",
          "42",
          "42",
          "43",
          "39",
          "40",
          "37",
          "43",
          "40",
          "43",
          "41",
          "41",
          "40",
          "43",
          "43",
          "43",
          "40",
          "45",
          "45",
          "45",
          "45",
          "26",
          "42",
          "41",
          "43",
          "42",
          "39",
          "35",
          "43",
          "40",
          "46",
          "40",
          "41",
          "40",
          "43",
          "38",
          "41",
          "43",
          "38",
          "44",
          "41",
          "41",
          "42",
          "44",
          "39",
          "40",
          "40",
          "40",
          "40",
          "4",
          "43",
          "38",
          "45",
          "44",
          "44",
          "41",
          "44",
          "43",
          "44",
          "43",
          "40",
          "41",
          "40",
          "40",
          "41",
          "40",
          "40",
          "44",
          "43",
          "44",
          "44",
          "45",
          "39",
          "45",
          "45",
          "44",
          "45",
          "43",
          "43",
          "43",
          "42",
          "41",
          "45",
          "44",
          "43",
          "43",
          "41",
          "42",
          "43",
          "43",
          "42",
          "4",
          "41",
          "38",
          "43",
          "36",
          "38"
         ],
         "xaxis": "x",
         "yaxis": "y"
        }
       ],
       "layout": {
        "annotations": [
         {
          "font": {
           "size": 15
          },
          "text": "Most of the rating are  between 0 and 50",
          "x": 50,
          "y": 2
         }
        ],
        "barmode": "relative",
        "legend": {
         "tracegroupgap": 0
        },
        "template": {
         "data": {
          "bar": [
           {
            "error_x": {
             "color": "#2a3f5f"
            },
            "error_y": {
             "color": "#2a3f5f"
            },
            "marker": {
             "line": {
              "color": "#E5ECF6",
              "width": 0.5
             },
             "pattern": {
              "fillmode": "overlay",
              "size": 10,
              "solidity": 0.2
             }
            },
            "type": "bar"
           }
          ],
          "barpolar": [
           {
            "marker": {
             "line": {
              "color": "#E5ECF6",
              "width": 0.5
             },
             "pattern": {
              "fillmode": "overlay",
              "size": 10,
              "solidity": 0.2
             }
            },
            "type": "barpolar"
           }
          ],
          "carpet": [
           {
            "aaxis": {
             "endlinecolor": "#2a3f5f",
             "gridcolor": "white",
             "linecolor": "white",
             "minorgridcolor": "white",
             "startlinecolor": "#2a3f5f"
            },
            "baxis": {
             "endlinecolor": "#2a3f5f",
             "gridcolor": "white",
             "linecolor": "white",
             "minorgridcolor": "white",
             "startlinecolor": "#2a3f5f"
            },
            "type": "carpet"
           }
          ],
          "choropleth": [
           {
            "colorbar": {
             "outlinewidth": 0,
             "ticks": ""
            },
            "type": "choropleth"
           }
          ],
          "contour": [
           {
            "colorbar": {
             "outlinewidth": 0,
             "ticks": ""
            },
            "colorscale": [
             [
              0,
              "#0d0887"
             ],
             [
              0.1111111111111111,
              "#46039f"
             ],
             [
              0.2222222222222222,
              "#7201a8"
             ],
             [
              0.3333333333333333,
              "#9c179e"
             ],
             [
              0.4444444444444444,
              "#bd3786"
             ],
             [
              0.5555555555555556,
              "#d8576b"
             ],
             [
              0.6666666666666666,
              "#ed7953"
             ],
             [
              0.7777777777777778,
              "#fb9f3a"
             ],
             [
              0.8888888888888888,
              "#fdca26"
             ],
             [
              1,
              "#f0f921"
             ]
            ],
            "type": "contour"
           }
          ],
          "contourcarpet": [
           {
            "colorbar": {
             "outlinewidth": 0,
             "ticks": ""
            },
            "type": "contourcarpet"
           }
          ],
          "heatmap": [
           {
            "colorbar": {
             "outlinewidth": 0,
             "ticks": ""
            },
            "colorscale": [
             [
              0,
              "#0d0887"
             ],
             [
              0.1111111111111111,
              "#46039f"
             ],
             [
              0.2222222222222222,
              "#7201a8"
             ],
             [
              0.3333333333333333,
              "#9c179e"
             ],
             [
              0.4444444444444444,
              "#bd3786"
             ],
             [
              0.5555555555555556,
              "#d8576b"
             ],
             [
              0.6666666666666666,
              "#ed7953"
             ],
             [
              0.7777777777777778,
              "#fb9f3a"
             ],
             [
              0.8888888888888888,
              "#fdca26"
             ],
             [
              1,
              "#f0f921"
             ]
            ],
            "type": "heatmap"
           }
          ],
          "heatmapgl": [
           {
            "colorbar": {
             "outlinewidth": 0,
             "ticks": ""
            },
            "colorscale": [
             [
              0,
              "#0d0887"
             ],
             [
              0.1111111111111111,
              "#46039f"
             ],
             [
              0.2222222222222222,
              "#7201a8"
             ],
             [
              0.3333333333333333,
              "#9c179e"
             ],
             [
              0.4444444444444444,
              "#bd3786"
             ],
             [
              0.5555555555555556,
              "#d8576b"
             ],
             [
              0.6666666666666666,
              "#ed7953"
             ],
             [
              0.7777777777777778,
              "#fb9f3a"
             ],
             [
              0.8888888888888888,
              "#fdca26"
             ],
             [
              1,
              "#f0f921"
             ]
            ],
            "type": "heatmapgl"
           }
          ],
          "histogram": [
           {
            "marker": {
             "pattern": {
              "fillmode": "overlay",
              "size": 10,
              "solidity": 0.2
             }
            },
            "type": "histogram"
           }
          ],
          "histogram2d": [
           {
            "colorbar": {
             "outlinewidth": 0,
             "ticks": ""
            },
            "colorscale": [
             [
              0,
              "#0d0887"
             ],
             [
              0.1111111111111111,
              "#46039f"
             ],
             [
              0.2222222222222222,
              "#7201a8"
             ],
             [
              0.3333333333333333,
              "#9c179e"
             ],
             [
              0.4444444444444444,
              "#bd3786"
             ],
             [
              0.5555555555555556,
              "#d8576b"
             ],
             [
              0.6666666666666666,
              "#ed7953"
             ],
             [
              0.7777777777777778,
              "#fb9f3a"
             ],
             [
              0.8888888888888888,
              "#fdca26"
             ],
             [
              1,
              "#f0f921"
             ]
            ],
            "type": "histogram2d"
           }
          ],
          "histogram2dcontour": [
           {
            "colorbar": {
             "outlinewidth": 0,
             "ticks": ""
            },
            "colorscale": [
             [
              0,
              "#0d0887"
             ],
             [
              0.1111111111111111,
              "#46039f"
             ],
             [
              0.2222222222222222,
              "#7201a8"
             ],
             [
              0.3333333333333333,
              "#9c179e"
             ],
             [
              0.4444444444444444,
              "#bd3786"
             ],
             [
              0.5555555555555556,
              "#d8576b"
             ],
             [
              0.6666666666666666,
              "#ed7953"
             ],
             [
              0.7777777777777778,
              "#fb9f3a"
             ],
             [
              0.8888888888888888,
              "#fdca26"
             ],
             [
              1,
              "#f0f921"
             ]
            ],
            "type": "histogram2dcontour"
           }
          ],
          "mesh3d": [
           {
            "colorbar": {
             "outlinewidth": 0,
             "ticks": ""
            },
            "type": "mesh3d"
           }
          ],
          "parcoords": [
           {
            "line": {
             "colorbar": {
              "outlinewidth": 0,
              "ticks": ""
             }
            },
            "type": "parcoords"
           }
          ],
          "pie": [
           {
            "automargin": true,
            "type": "pie"
           }
          ],
          "scatter": [
           {
            "fillpattern": {
             "fillmode": "overlay",
             "size": 10,
             "solidity": 0.2
            },
            "type": "scatter"
           }
          ],
          "scatter3d": [
           {
            "line": {
             "colorbar": {
              "outlinewidth": 0,
              "ticks": ""
             }
            },
            "marker": {
             "colorbar": {
              "outlinewidth": 0,
              "ticks": ""
             }
            },
            "type": "scatter3d"
           }
          ],
          "scattercarpet": [
           {
            "marker": {
             "colorbar": {
              "outlinewidth": 0,
              "ticks": ""
             }
            },
            "type": "scattercarpet"
           }
          ],
          "scattergeo": [
           {
            "marker": {
             "colorbar": {
              "outlinewidth": 0,
              "ticks": ""
             }
            },
            "type": "scattergeo"
           }
          ],
          "scattergl": [
           {
            "marker": {
             "colorbar": {
              "outlinewidth": 0,
              "ticks": ""
             }
            },
            "type": "scattergl"
           }
          ],
          "scattermapbox": [
           {
            "marker": {
             "colorbar": {
              "outlinewidth": 0,
              "ticks": ""
             }
            },
            "type": "scattermapbox"
           }
          ],
          "scatterpolar": [
           {
            "marker": {
             "colorbar": {
              "outlinewidth": 0,
              "ticks": ""
             }
            },
            "type": "scatterpolar"
           }
          ],
          "scatterpolargl": [
           {
            "marker": {
             "colorbar": {
              "outlinewidth": 0,
              "ticks": ""
             }
            },
            "type": "scatterpolargl"
           }
          ],
          "scatterternary": [
           {
            "marker": {
             "colorbar": {
              "outlinewidth": 0,
              "ticks": ""
             }
            },
            "type": "scatterternary"
           }
          ],
          "surface": [
           {
            "colorbar": {
             "outlinewidth": 0,
             "ticks": ""
            },
            "colorscale": [
             [
              0,
              "#0d0887"
             ],
             [
              0.1111111111111111,
              "#46039f"
             ],
             [
              0.2222222222222222,
              "#7201a8"
             ],
             [
              0.3333333333333333,
              "#9c179e"
             ],
             [
              0.4444444444444444,
              "#bd3786"
             ],
             [
              0.5555555555555556,
              "#d8576b"
             ],
             [
              0.6666666666666666,
              "#ed7953"
             ],
             [
              0.7777777777777778,
              "#fb9f3a"
             ],
             [
              0.8888888888888888,
              "#fdca26"
             ],
             [
              1,
              "#f0f921"
             ]
            ],
            "type": "surface"
           }
          ],
          "table": [
           {
            "cells": {
             "fill": {
              "color": "#EBF0F8"
             },
             "line": {
              "color": "white"
             }
            },
            "header": {
             "fill": {
              "color": "#C8D4E3"
             },
             "line": {
              "color": "white"
             }
            },
            "type": "table"
           }
          ]
         },
         "layout": {
          "annotationdefaults": {
           "arrowcolor": "#2a3f5f",
           "arrowhead": 0,
           "arrowwidth": 1
          },
          "autotypenumbers": "strict",
          "coloraxis": {
           "colorbar": {
            "outlinewidth": 0,
            "ticks": ""
           }
          },
          "colorscale": {
           "diverging": [
            [
             0,
             "#8e0152"
            ],
            [
             0.1,
             "#c51b7d"
            ],
            [
             0.2,
             "#de77ae"
            ],
            [
             0.3,
             "#f1b6da"
            ],
            [
             0.4,
             "#fde0ef"
            ],
            [
             0.5,
             "#f7f7f7"
            ],
            [
             0.6,
             "#e6f5d0"
            ],
            [
             0.7,
             "#b8e186"
            ],
            [
             0.8,
             "#7fbc41"
            ],
            [
             0.9,
             "#4d9221"
            ],
            [
             1,
             "#276419"
            ]
           ],
           "sequential": [
            [
             0,
             "#0d0887"
            ],
            [
             0.1111111111111111,
             "#46039f"
            ],
            [
             0.2222222222222222,
             "#7201a8"
            ],
            [
             0.3333333333333333,
             "#9c179e"
            ],
            [
             0.4444444444444444,
             "#bd3786"
            ],
            [
             0.5555555555555556,
             "#d8576b"
            ],
            [
             0.6666666666666666,
             "#ed7953"
            ],
            [
             0.7777777777777778,
             "#fb9f3a"
            ],
            [
             0.8888888888888888,
             "#fdca26"
            ],
            [
             1,
             "#f0f921"
            ]
           ],
           "sequentialminus": [
            [
             0,
             "#0d0887"
            ],
            [
             0.1111111111111111,
             "#46039f"
            ],
            [
             0.2222222222222222,
             "#7201a8"
            ],
            [
             0.3333333333333333,
             "#9c179e"
            ],
            [
             0.4444444444444444,
             "#bd3786"
            ],
            [
             0.5555555555555556,
             "#d8576b"
            ],
            [
             0.6666666666666666,
             "#ed7953"
            ],
            [
             0.7777777777777778,
             "#fb9f3a"
            ],
            [
             0.8888888888888888,
             "#fdca26"
            ],
            [
             1,
             "#f0f921"
            ]
           ]
          },
          "colorway": [
           "#636efa",
           "#EF553B",
           "#00cc96",
           "#ab63fa",
           "#FFA15A",
           "#19d3f3",
           "#FF6692",
           "#B6E880",
           "#FF97FF",
           "#FECB52"
          ],
          "font": {
           "color": "#2a3f5f"
          },
          "geo": {
           "bgcolor": "white",
           "lakecolor": "white",
           "landcolor": "#E5ECF6",
           "showlakes": true,
           "showland": true,
           "subunitcolor": "white"
          },
          "hoverlabel": {
           "align": "left"
          },
          "hovermode": "closest",
          "mapbox": {
           "style": "light"
          },
          "paper_bgcolor": "white",
          "plot_bgcolor": "#E5ECF6",
          "polar": {
           "angularaxis": {
            "gridcolor": "white",
            "linecolor": "white",
            "ticks": ""
           },
           "bgcolor": "#E5ECF6",
           "radialaxis": {
            "gridcolor": "white",
            "linecolor": "white",
            "ticks": ""
           }
          },
          "scene": {
           "xaxis": {
            "backgroundcolor": "#E5ECF6",
            "gridcolor": "white",
            "gridwidth": 2,
            "linecolor": "white",
            "showbackground": true,
            "ticks": "",
            "zerolinecolor": "white"
           },
           "yaxis": {
            "backgroundcolor": "#E5ECF6",
            "gridcolor": "white",
            "gridwidth": 2,
            "linecolor": "white",
            "showbackground": true,
            "ticks": "",
            "zerolinecolor": "white"
           },
           "zaxis": {
            "backgroundcolor": "#E5ECF6",
            "gridcolor": "white",
            "gridwidth": 2,
            "linecolor": "white",
            "showbackground": true,
            "ticks": "",
            "zerolinecolor": "white"
           }
          },
          "shapedefaults": {
           "line": {
            "color": "#2a3f5f"
           }
          },
          "ternary": {
           "aaxis": {
            "gridcolor": "white",
            "linecolor": "white",
            "ticks": ""
           },
           "baxis": {
            "gridcolor": "white",
            "linecolor": "white",
            "ticks": ""
           },
           "bgcolor": "#E5ECF6",
           "caxis": {
            "gridcolor": "white",
            "linecolor": "white",
            "ticks": ""
           }
          },
          "title": {
           "x": 0.05
          },
          "xaxis": {
           "automargin": true,
           "gridcolor": "white",
           "linecolor": "white",
           "ticks": "",
           "title": {
            "standoff": 15
           },
           "zerolinecolor": "white",
           "zerolinewidth": 2
          },
          "yaxis": {
           "automargin": true,
           "gridcolor": "white",
           "linecolor": "white",
           "ticks": "",
           "title": {
            "standoff": 15
           },
           "zerolinecolor": "white",
           "zerolinewidth": 2
          }
         }
        },
        "title": {
         "text": "Histogram of Rating"
        },
        "xaxis": {
         "anchor": "y",
         "domain": [
          0,
          1
         ],
         "title": {
          "text": "clean_rating"
         }
        },
        "yaxis": {
         "anchor": "x",
         "domain": [
          0,
          1
         ],
         "title": {
          "text": "count"
         },
         "type": "log"
        }
       }
      }
     },
     "metadata": {},
     "output_type": "display_data"
    }
   ],
   "source": [
    "# histogram of clean_rating\n",
    "fig2 = px.histogram(df, x='clean_rating',  log_y=True, title='Histogram of Rating')\n",
    "conclusion = 'Most of the rating are  between 0 and 50'\n",
    "fig2.add_annotation(x=50, y=2, text=conclusion, font_size=15)\n",
    "fig2.show()"
   ]
  },
  {
   "cell_type": "code",
   "execution_count": null,
   "metadata": {},
   "outputs": [],
   "source": []
  }
 ],
 "metadata": {
  "kernelspec": {
   "display_name": "Python 3",
   "language": "python",
   "name": "python3"
  },
  "language_info": {
   "codemirror_mode": {
    "name": "ipython",
    "version": 3
   },
   "file_extension": ".py",
   "mimetype": "text/x-python",
   "name": "python",
   "nbconvert_exporter": "python",
   "pygments_lexer": "ipython3",
   "version": "3.9.13"
  },
  "orig_nbformat": 4
 },
 "nbformat": 4,
 "nbformat_minor": 2
}
